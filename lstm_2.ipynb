{
 "cells": [
  {
   "cell_type": "code",
   "execution_count": 3,
   "metadata": {},
   "outputs": [],
   "source": [
    "from datetime import date, datetime\n",
    "from multiprocessing.spawn import import_main_path\n",
    "from pandas_datareader import data\n",
    "import matplotlib.pyplot as plt\n",
    "import matplotlib.dates as mdates\n",
    "from matplotlib.dates import DateFormatter\n",
    "import pandas as pd\n",
    "from sklearn.model_selection import train_test_split\n",
    "from sklearn.preprocessing import MinMaxScaler\n",
    "import tensorflow as tf\n",
    "import numpy as np\n"
   ]
  },
  {
   "cell_type": "code",
   "execution_count": 4,
   "metadata": {},
   "outputs": [
    {
     "ename": "ValueError",
     "evalue": "Index contains duplicate entries, cannot reshape",
     "output_type": "error",
     "traceback": [
      "\u001b[1;31m---------------------------------------------------------------------------\u001b[0m",
      "\u001b[1;31mValueError\u001b[0m                                Traceback (most recent call last)",
      "\u001b[1;32me:\\programming\\lstm\\lstm_2.ipynb Cell 2'\u001b[0m in \u001b[0;36m<module>\u001b[1;34m\u001b[0m\n\u001b[0;32m      <a href='vscode-notebook-cell:/e%3A/programming/lstm/lstm_2.ipynb#ch0000001?line=4'>5</a>\u001b[0m start_date \u001b[39m=\u001b[39m \u001b[39m'\u001b[39m\u001b[39m2010-01-01\u001b[39m\u001b[39m'\u001b[39m\n\u001b[0;32m      <a href='vscode-notebook-cell:/e%3A/programming/lstm/lstm_2.ipynb#ch0000001?line=5'>6</a>\u001b[0m end_date \u001b[39m=\u001b[39m today\n\u001b[1;32m----> <a href='vscode-notebook-cell:/e%3A/programming/lstm/lstm_2.ipynb#ch0000001?line=7'>8</a>\u001b[0m panel_data \u001b[39m=\u001b[39m data\u001b[39m.\u001b[39;49mDataReader(tickers, \u001b[39m'\u001b[39;49m\u001b[39myahoo\u001b[39;49m\u001b[39m'\u001b[39;49m,start_date, end_date)\n",
      "File \u001b[1;32m~\\AppData\\Local\\Programs\\Python\\Python39\\lib\\site-packages\\pandas\\util\\_decorators.py:207\u001b[0m, in \u001b[0;36mdeprecate_kwarg.<locals>._deprecate_kwarg.<locals>.wrapper\u001b[1;34m(*args, **kwargs)\u001b[0m\n\u001b[0;32m    <a href='file:///c%3A/Users/MuhammadNurAlim/AppData/Local/Programs/Python/Python39/lib/site-packages/pandas/util/_decorators.py?line=204'>205</a>\u001b[0m     \u001b[39melse\u001b[39;00m:\n\u001b[0;32m    <a href='file:///c%3A/Users/MuhammadNurAlim/AppData/Local/Programs/Python/Python39/lib/site-packages/pandas/util/_decorators.py?line=205'>206</a>\u001b[0m         kwargs[new_arg_name] \u001b[39m=\u001b[39m new_arg_value\n\u001b[1;32m--> <a href='file:///c%3A/Users/MuhammadNurAlim/AppData/Local/Programs/Python/Python39/lib/site-packages/pandas/util/_decorators.py?line=206'>207</a>\u001b[0m \u001b[39mreturn\u001b[39;00m func(\u001b[39m*\u001b[39margs, \u001b[39m*\u001b[39m\u001b[39m*\u001b[39mkwargs)\n",
      "File \u001b[1;32m~\\AppData\\Local\\Programs\\Python\\Python39\\lib\\site-packages\\pandas_datareader\\data.py:370\u001b[0m, in \u001b[0;36mDataReader\u001b[1;34m(name, data_source, start, end, retry_count, pause, session, api_key)\u001b[0m\n\u001b[0;32m    <a href='file:///c%3A/Users/MuhammadNurAlim/AppData/Local/Programs/Python/Python39/lib/site-packages/pandas_datareader/data.py?line=366'>367</a>\u001b[0m     \u001b[39mraise\u001b[39;00m \u001b[39mNotImplementedError\u001b[39;00m(msg)\n\u001b[0;32m    <a href='file:///c%3A/Users/MuhammadNurAlim/AppData/Local/Programs/Python/Python39/lib/site-packages/pandas_datareader/data.py?line=368'>369</a>\u001b[0m \u001b[39mif\u001b[39;00m data_source \u001b[39m==\u001b[39m \u001b[39m\"\u001b[39m\u001b[39myahoo\u001b[39m\u001b[39m\"\u001b[39m:\n\u001b[1;32m--> <a href='file:///c%3A/Users/MuhammadNurAlim/AppData/Local/Programs/Python/Python39/lib/site-packages/pandas_datareader/data.py?line=369'>370</a>\u001b[0m     \u001b[39mreturn\u001b[39;00m YahooDailyReader(\n\u001b[0;32m    <a href='file:///c%3A/Users/MuhammadNurAlim/AppData/Local/Programs/Python/Python39/lib/site-packages/pandas_datareader/data.py?line=370'>371</a>\u001b[0m         symbols\u001b[39m=\u001b[39;49mname,\n\u001b[0;32m    <a href='file:///c%3A/Users/MuhammadNurAlim/AppData/Local/Programs/Python/Python39/lib/site-packages/pandas_datareader/data.py?line=371'>372</a>\u001b[0m         start\u001b[39m=\u001b[39;49mstart,\n\u001b[0;32m    <a href='file:///c%3A/Users/MuhammadNurAlim/AppData/Local/Programs/Python/Python39/lib/site-packages/pandas_datareader/data.py?line=372'>373</a>\u001b[0m         end\u001b[39m=\u001b[39;49mend,\n\u001b[0;32m    <a href='file:///c%3A/Users/MuhammadNurAlim/AppData/Local/Programs/Python/Python39/lib/site-packages/pandas_datareader/data.py?line=373'>374</a>\u001b[0m         adjust_price\u001b[39m=\u001b[39;49m\u001b[39mFalse\u001b[39;49;00m,\n\u001b[0;32m    <a href='file:///c%3A/Users/MuhammadNurAlim/AppData/Local/Programs/Python/Python39/lib/site-packages/pandas_datareader/data.py?line=374'>375</a>\u001b[0m         chunksize\u001b[39m=\u001b[39;49m\u001b[39m25\u001b[39;49m,\n\u001b[0;32m    <a href='file:///c%3A/Users/MuhammadNurAlim/AppData/Local/Programs/Python/Python39/lib/site-packages/pandas_datareader/data.py?line=375'>376</a>\u001b[0m         retry_count\u001b[39m=\u001b[39;49mretry_count,\n\u001b[0;32m    <a href='file:///c%3A/Users/MuhammadNurAlim/AppData/Local/Programs/Python/Python39/lib/site-packages/pandas_datareader/data.py?line=376'>377</a>\u001b[0m         pause\u001b[39m=\u001b[39;49mpause,\n\u001b[0;32m    <a href='file:///c%3A/Users/MuhammadNurAlim/AppData/Local/Programs/Python/Python39/lib/site-packages/pandas_datareader/data.py?line=377'>378</a>\u001b[0m         session\u001b[39m=\u001b[39;49msession,\n\u001b[0;32m    <a href='file:///c%3A/Users/MuhammadNurAlim/AppData/Local/Programs/Python/Python39/lib/site-packages/pandas_datareader/data.py?line=378'>379</a>\u001b[0m     )\u001b[39m.\u001b[39;49mread()\n\u001b[0;32m    <a href='file:///c%3A/Users/MuhammadNurAlim/AppData/Local/Programs/Python/Python39/lib/site-packages/pandas_datareader/data.py?line=380'>381</a>\u001b[0m \u001b[39melif\u001b[39;00m data_source \u001b[39m==\u001b[39m \u001b[39m\"\u001b[39m\u001b[39miex\u001b[39m\u001b[39m\"\u001b[39m:\n\u001b[0;32m    <a href='file:///c%3A/Users/MuhammadNurAlim/AppData/Local/Programs/Python/Python39/lib/site-packages/pandas_datareader/data.py?line=381'>382</a>\u001b[0m     \u001b[39mreturn\u001b[39;00m IEXDailyReader(\n\u001b[0;32m    <a href='file:///c%3A/Users/MuhammadNurAlim/AppData/Local/Programs/Python/Python39/lib/site-packages/pandas_datareader/data.py?line=382'>383</a>\u001b[0m         symbols\u001b[39m=\u001b[39mname,\n\u001b[0;32m    <a href='file:///c%3A/Users/MuhammadNurAlim/AppData/Local/Programs/Python/Python39/lib/site-packages/pandas_datareader/data.py?line=383'>384</a>\u001b[0m         start\u001b[39m=\u001b[39mstart,\n\u001b[1;32m   (...)\u001b[0m\n\u001b[0;32m    <a href='file:///c%3A/Users/MuhammadNurAlim/AppData/Local/Programs/Python/Python39/lib/site-packages/pandas_datareader/data.py?line=389'>390</a>\u001b[0m         session\u001b[39m=\u001b[39msession,\n\u001b[0;32m    <a href='file:///c%3A/Users/MuhammadNurAlim/AppData/Local/Programs/Python/Python39/lib/site-packages/pandas_datareader/data.py?line=390'>391</a>\u001b[0m     )\u001b[39m.\u001b[39mread()\n",
      "File \u001b[1;32m~\\AppData\\Local\\Programs\\Python\\Python39\\lib\\site-packages\\pandas_datareader\\base.py:258\u001b[0m, in \u001b[0;36m_DailyBaseReader.read\u001b[1;34m(self)\u001b[0m\n\u001b[0;32m    <a href='file:///c%3A/Users/MuhammadNurAlim/AppData/Local/Programs/Python/Python39/lib/site-packages/pandas_datareader/base.py?line=255'>256</a>\u001b[0m     df \u001b[39m=\u001b[39m \u001b[39mself\u001b[39m\u001b[39m.\u001b[39m_dl_mult_symbols(\u001b[39mself\u001b[39m\u001b[39m.\u001b[39msymbols\u001b[39m.\u001b[39mindex)\n\u001b[0;32m    <a href='file:///c%3A/Users/MuhammadNurAlim/AppData/Local/Programs/Python/Python39/lib/site-packages/pandas_datareader/base.py?line=256'>257</a>\u001b[0m \u001b[39melse\u001b[39;00m:\n\u001b[1;32m--> <a href='file:///c%3A/Users/MuhammadNurAlim/AppData/Local/Programs/Python/Python39/lib/site-packages/pandas_datareader/base.py?line=257'>258</a>\u001b[0m     df \u001b[39m=\u001b[39m \u001b[39mself\u001b[39;49m\u001b[39m.\u001b[39;49m_dl_mult_symbols(\u001b[39mself\u001b[39;49m\u001b[39m.\u001b[39;49msymbols)\n\u001b[0;32m    <a href='file:///c%3A/Users/MuhammadNurAlim/AppData/Local/Programs/Python/Python39/lib/site-packages/pandas_datareader/base.py?line=258'>259</a>\u001b[0m \u001b[39mreturn\u001b[39;00m df\n",
      "File \u001b[1;32m~\\AppData\\Local\\Programs\\Python\\Python39\\lib\\site-packages\\pandas_datareader\\base.py:285\u001b[0m, in \u001b[0;36m_DailyBaseReader._dl_mult_symbols\u001b[1;34m(self, symbols)\u001b[0m\n\u001b[0;32m    <a href='file:///c%3A/Users/MuhammadNurAlim/AppData/Local/Programs/Python/Python39/lib/site-packages/pandas_datareader/base.py?line=282'>283</a>\u001b[0m         stocks[sym] \u001b[39m=\u001b[39m df_na\n\u001b[0;32m    <a href='file:///c%3A/Users/MuhammadNurAlim/AppData/Local/Programs/Python/Python39/lib/site-packages/pandas_datareader/base.py?line=283'>284</a>\u001b[0m \u001b[39mif\u001b[39;00m PANDAS_0230:\n\u001b[1;32m--> <a href='file:///c%3A/Users/MuhammadNurAlim/AppData/Local/Programs/Python/Python39/lib/site-packages/pandas_datareader/base.py?line=284'>285</a>\u001b[0m     result \u001b[39m=\u001b[39m concat(stocks, sort\u001b[39m=\u001b[39;49m\u001b[39mTrue\u001b[39;49;00m)\u001b[39m.\u001b[39;49munstack(level\u001b[39m=\u001b[39;49m\u001b[39m0\u001b[39;49m)\n\u001b[0;32m    <a href='file:///c%3A/Users/MuhammadNurAlim/AppData/Local/Programs/Python/Python39/lib/site-packages/pandas_datareader/base.py?line=285'>286</a>\u001b[0m \u001b[39melse\u001b[39;00m:\n\u001b[0;32m    <a href='file:///c%3A/Users/MuhammadNurAlim/AppData/Local/Programs/Python/Python39/lib/site-packages/pandas_datareader/base.py?line=286'>287</a>\u001b[0m     result \u001b[39m=\u001b[39m concat(stocks)\u001b[39m.\u001b[39munstack(level\u001b[39m=\u001b[39m\u001b[39m0\u001b[39m)\n",
      "File \u001b[1;32m~\\AppData\\Local\\Programs\\Python\\Python39\\lib\\site-packages\\pandas\\core\\frame.py:8407\u001b[0m, in \u001b[0;36mDataFrame.unstack\u001b[1;34m(self, level, fill_value)\u001b[0m\n\u001b[0;32m   <a href='file:///c%3A/Users/MuhammadNurAlim/AppData/Local/Programs/Python/Python39/lib/site-packages/pandas/core/frame.py?line=8348'>8349</a>\u001b[0m \u001b[39m\"\"\"\u001b[39;00m\n\u001b[0;32m   <a href='file:///c%3A/Users/MuhammadNurAlim/AppData/Local/Programs/Python/Python39/lib/site-packages/pandas/core/frame.py?line=8349'>8350</a>\u001b[0m \u001b[39mPivot a level of the (necessarily hierarchical) index labels.\u001b[39;00m\n\u001b[0;32m   <a href='file:///c%3A/Users/MuhammadNurAlim/AppData/Local/Programs/Python/Python39/lib/site-packages/pandas/core/frame.py?line=8350'>8351</a>\u001b[0m \n\u001b[1;32m   (...)\u001b[0m\n\u001b[0;32m   <a href='file:///c%3A/Users/MuhammadNurAlim/AppData/Local/Programs/Python/Python39/lib/site-packages/pandas/core/frame.py?line=8402'>8403</a>\u001b[0m \u001b[39mdtype: float64\u001b[39;00m\n\u001b[0;32m   <a href='file:///c%3A/Users/MuhammadNurAlim/AppData/Local/Programs/Python/Python39/lib/site-packages/pandas/core/frame.py?line=8403'>8404</a>\u001b[0m \u001b[39m\"\"\"\u001b[39;00m\n\u001b[0;32m   <a href='file:///c%3A/Users/MuhammadNurAlim/AppData/Local/Programs/Python/Python39/lib/site-packages/pandas/core/frame.py?line=8404'>8405</a>\u001b[0m \u001b[39mfrom\u001b[39;00m \u001b[39mpandas\u001b[39;00m\u001b[39m.\u001b[39;00m\u001b[39mcore\u001b[39;00m\u001b[39m.\u001b[39;00m\u001b[39mreshape\u001b[39;00m\u001b[39m.\u001b[39;00m\u001b[39mreshape\u001b[39;00m \u001b[39mimport\u001b[39;00m unstack\n\u001b[1;32m-> <a href='file:///c%3A/Users/MuhammadNurAlim/AppData/Local/Programs/Python/Python39/lib/site-packages/pandas/core/frame.py?line=8406'>8407</a>\u001b[0m result \u001b[39m=\u001b[39m unstack(\u001b[39mself\u001b[39;49m, level, fill_value)\n\u001b[0;32m   <a href='file:///c%3A/Users/MuhammadNurAlim/AppData/Local/Programs/Python/Python39/lib/site-packages/pandas/core/frame.py?line=8408'>8409</a>\u001b[0m \u001b[39mreturn\u001b[39;00m result\u001b[39m.\u001b[39m__finalize__(\u001b[39mself\u001b[39m, method\u001b[39m=\u001b[39m\u001b[39m\"\u001b[39m\u001b[39munstack\u001b[39m\u001b[39m\"\u001b[39m)\n",
      "File \u001b[1;32m~\\AppData\\Local\\Programs\\Python\\Python39\\lib\\site-packages\\pandas\\core\\reshape\\reshape.py:478\u001b[0m, in \u001b[0;36munstack\u001b[1;34m(obj, level, fill_value)\u001b[0m\n\u001b[0;32m    <a href='file:///c%3A/Users/MuhammadNurAlim/AppData/Local/Programs/Python/Python39/lib/site-packages/pandas/core/reshape/reshape.py?line=475'>476</a>\u001b[0m \u001b[39mif\u001b[39;00m \u001b[39misinstance\u001b[39m(obj, DataFrame):\n\u001b[0;32m    <a href='file:///c%3A/Users/MuhammadNurAlim/AppData/Local/Programs/Python/Python39/lib/site-packages/pandas/core/reshape/reshape.py?line=476'>477</a>\u001b[0m     \u001b[39mif\u001b[39;00m \u001b[39misinstance\u001b[39m(obj\u001b[39m.\u001b[39mindex, MultiIndex):\n\u001b[1;32m--> <a href='file:///c%3A/Users/MuhammadNurAlim/AppData/Local/Programs/Python/Python39/lib/site-packages/pandas/core/reshape/reshape.py?line=477'>478</a>\u001b[0m         \u001b[39mreturn\u001b[39;00m _unstack_frame(obj, level, fill_value\u001b[39m=\u001b[39;49mfill_value)\n\u001b[0;32m    <a href='file:///c%3A/Users/MuhammadNurAlim/AppData/Local/Programs/Python/Python39/lib/site-packages/pandas/core/reshape/reshape.py?line=478'>479</a>\u001b[0m     \u001b[39melse\u001b[39;00m:\n\u001b[0;32m    <a href='file:///c%3A/Users/MuhammadNurAlim/AppData/Local/Programs/Python/Python39/lib/site-packages/pandas/core/reshape/reshape.py?line=479'>480</a>\u001b[0m         \u001b[39mreturn\u001b[39;00m obj\u001b[39m.\u001b[39mT\u001b[39m.\u001b[39mstack(dropna\u001b[39m=\u001b[39m\u001b[39mFalse\u001b[39;00m)\n",
      "File \u001b[1;32m~\\AppData\\Local\\Programs\\Python\\Python39\\lib\\site-packages\\pandas\\core\\reshape\\reshape.py:501\u001b[0m, in \u001b[0;36m_unstack_frame\u001b[1;34m(obj, level, fill_value)\u001b[0m\n\u001b[0;32m    <a href='file:///c%3A/Users/MuhammadNurAlim/AppData/Local/Programs/Python/Python39/lib/site-packages/pandas/core/reshape/reshape.py?line=498'>499</a>\u001b[0m \u001b[39mdef\u001b[39;00m \u001b[39m_unstack_frame\u001b[39m(obj, level, fill_value\u001b[39m=\u001b[39m\u001b[39mNone\u001b[39;00m):\n\u001b[0;32m    <a href='file:///c%3A/Users/MuhammadNurAlim/AppData/Local/Programs/Python/Python39/lib/site-packages/pandas/core/reshape/reshape.py?line=499'>500</a>\u001b[0m     \u001b[39mif\u001b[39;00m \u001b[39mnot\u001b[39;00m obj\u001b[39m.\u001b[39m_can_fast_transpose:\n\u001b[1;32m--> <a href='file:///c%3A/Users/MuhammadNurAlim/AppData/Local/Programs/Python/Python39/lib/site-packages/pandas/core/reshape/reshape.py?line=500'>501</a>\u001b[0m         unstacker \u001b[39m=\u001b[39m _Unstacker(obj\u001b[39m.\u001b[39;49mindex, level\u001b[39m=\u001b[39;49mlevel)\n\u001b[0;32m    <a href='file:///c%3A/Users/MuhammadNurAlim/AppData/Local/Programs/Python/Python39/lib/site-packages/pandas/core/reshape/reshape.py?line=501'>502</a>\u001b[0m         mgr \u001b[39m=\u001b[39m obj\u001b[39m.\u001b[39m_mgr\u001b[39m.\u001b[39munstack(unstacker, fill_value\u001b[39m=\u001b[39mfill_value)\n\u001b[0;32m    <a href='file:///c%3A/Users/MuhammadNurAlim/AppData/Local/Programs/Python/Python39/lib/site-packages/pandas/core/reshape/reshape.py?line=502'>503</a>\u001b[0m         \u001b[39mreturn\u001b[39;00m obj\u001b[39m.\u001b[39m_constructor(mgr)\n",
      "File \u001b[1;32m~\\AppData\\Local\\Programs\\Python\\Python39\\lib\\site-packages\\pandas\\core\\reshape\\reshape.py:140\u001b[0m, in \u001b[0;36m_Unstacker.__init__\u001b[1;34m(self, index, level, constructor)\u001b[0m\n\u001b[0;32m    <a href='file:///c%3A/Users/MuhammadNurAlim/AppData/Local/Programs/Python/Python39/lib/site-packages/pandas/core/reshape/reshape.py?line=132'>133</a>\u001b[0m \u001b[39mif\u001b[39;00m num_cells \u001b[39m>\u001b[39m np\u001b[39m.\u001b[39miinfo(np\u001b[39m.\u001b[39mint32)\u001b[39m.\u001b[39mmax:\n\u001b[0;32m    <a href='file:///c%3A/Users/MuhammadNurAlim/AppData/Local/Programs/Python/Python39/lib/site-packages/pandas/core/reshape/reshape.py?line=133'>134</a>\u001b[0m     warnings\u001b[39m.\u001b[39mwarn(\n\u001b[0;32m    <a href='file:///c%3A/Users/MuhammadNurAlim/AppData/Local/Programs/Python/Python39/lib/site-packages/pandas/core/reshape/reshape.py?line=134'>135</a>\u001b[0m         \u001b[39mf\u001b[39m\u001b[39m\"\u001b[39m\u001b[39mThe following operation may generate \u001b[39m\u001b[39m{\u001b[39;00mnum_cells\u001b[39m}\u001b[39;00m\u001b[39m cells \u001b[39m\u001b[39m\"\u001b[39m\n\u001b[0;32m    <a href='file:///c%3A/Users/MuhammadNurAlim/AppData/Local/Programs/Python/Python39/lib/site-packages/pandas/core/reshape/reshape.py?line=135'>136</a>\u001b[0m         \u001b[39mf\u001b[39m\u001b[39m\"\u001b[39m\u001b[39min the resulting pandas object.\u001b[39m\u001b[39m\"\u001b[39m,\n\u001b[0;32m    <a href='file:///c%3A/Users/MuhammadNurAlim/AppData/Local/Programs/Python/Python39/lib/site-packages/pandas/core/reshape/reshape.py?line=136'>137</a>\u001b[0m         PerformanceWarning,\n\u001b[0;32m    <a href='file:///c%3A/Users/MuhammadNurAlim/AppData/Local/Programs/Python/Python39/lib/site-packages/pandas/core/reshape/reshape.py?line=137'>138</a>\u001b[0m     )\n\u001b[1;32m--> <a href='file:///c%3A/Users/MuhammadNurAlim/AppData/Local/Programs/Python/Python39/lib/site-packages/pandas/core/reshape/reshape.py?line=139'>140</a>\u001b[0m \u001b[39mself\u001b[39;49m\u001b[39m.\u001b[39;49m_make_selectors()\n",
      "File \u001b[1;32m~\\AppData\\Local\\Programs\\Python\\Python39\\lib\\site-packages\\pandas\\core\\reshape\\reshape.py:192\u001b[0m, in \u001b[0;36m_Unstacker._make_selectors\u001b[1;34m(self)\u001b[0m\n\u001b[0;32m    <a href='file:///c%3A/Users/MuhammadNurAlim/AppData/Local/Programs/Python/Python39/lib/site-packages/pandas/core/reshape/reshape.py?line=188'>189</a>\u001b[0m mask\u001b[39m.\u001b[39mput(selector, \u001b[39mTrue\u001b[39;00m)\n\u001b[0;32m    <a href='file:///c%3A/Users/MuhammadNurAlim/AppData/Local/Programs/Python/Python39/lib/site-packages/pandas/core/reshape/reshape.py?line=190'>191</a>\u001b[0m \u001b[39mif\u001b[39;00m mask\u001b[39m.\u001b[39msum() \u001b[39m<\u001b[39m \u001b[39mlen\u001b[39m(\u001b[39mself\u001b[39m\u001b[39m.\u001b[39mindex):\n\u001b[1;32m--> <a href='file:///c%3A/Users/MuhammadNurAlim/AppData/Local/Programs/Python/Python39/lib/site-packages/pandas/core/reshape/reshape.py?line=191'>192</a>\u001b[0m     \u001b[39mraise\u001b[39;00m \u001b[39mValueError\u001b[39;00m(\u001b[39m\"\u001b[39m\u001b[39mIndex contains duplicate entries, cannot reshape\u001b[39m\u001b[39m\"\u001b[39m)\n\u001b[0;32m    <a href='file:///c%3A/Users/MuhammadNurAlim/AppData/Local/Programs/Python/Python39/lib/site-packages/pandas/core/reshape/reshape.py?line=193'>194</a>\u001b[0m \u001b[39mself\u001b[39m\u001b[39m.\u001b[39mgroup_index \u001b[39m=\u001b[39m comp_index\n\u001b[0;32m    <a href='file:///c%3A/Users/MuhammadNurAlim/AppData/Local/Programs/Python/Python39/lib/site-packages/pandas/core/reshape/reshape.py?line=194'>195</a>\u001b[0m \u001b[39mself\u001b[39m\u001b[39m.\u001b[39mmask \u001b[39m=\u001b[39m mask\n",
      "\u001b[1;31mValueError\u001b[0m: Index contains duplicate entries, cannot reshape"
     ]
    }
   ],
   "source": [
    "tickers = [\"ANTM.JK\"]\n",
    "\n",
    "today = date.today()\n",
    "# print(today)\n",
    "start_date = '2010-01-01'\n",
    "end_date = today\n",
    "\n",
    "panel_data = data.DataReader(tickers, 'yahoo',start_date, end_date)\n"
   ]
  },
  {
   "cell_type": "code",
   "execution_count": 50,
   "metadata": {},
   "outputs": [],
   "source": [
    "\n",
    "close = panel_data[\"Close\"]\n",
    "\n",
    "all_weekdays = pd.date_range(start = start_date,    end= end_date, freq='B')\n",
    "\n",
    "close = close.reindex(all_weekdays)\n",
    "\n",
    "close = close.dropna()\n",
    "\n",
    "#print(all_weekdays)"
   ]
  },
  {
   "cell_type": "code",
   "execution_count": 51,
   "metadata": {},
   "outputs": [
    {
     "name": "stdout",
     "output_type": "stream",
     "text": [
      "<class 'pandas.core.frame.DataFrame'>\n",
      "DatetimeIndex: 3011 entries, 2010-01-04 to 2022-02-17\n",
      "Data columns (total 1 columns):\n",
      " #   Column   Non-Null Count  Dtype  \n",
      "---  ------   --------------  -----  \n",
      " 0   ANTM.JK  3011 non-null   float64\n",
      "dtypes: float64(1)\n",
      "memory usage: 47.0 KB\n"
     ]
    }
   ],
   "source": [
    "close.info()"
   ]
  },
  {
   "cell_type": "code",
   "execution_count": 53,
   "metadata": {},
   "outputs": [
    {
     "data": {
      "text/plain": [
       "array([[0.56663685],\n",
       "       [0.56663685],\n",
       "       [0.56663685],\n",
       "       ...,\n",
       "       [0.54874268],\n",
       "       [0.54874268],\n",
       "       [0.57113331]])"
      ]
     },
     "execution_count": 53,
     "metadata": {},
     "output_type": "execute_result"
    }
   ],
   "source": [
    "from sklearn.preprocessing import MinMaxScaler\n",
    "scaler = MinMaxScaler()\n",
    "df = scaler.fit_transform(close)\n",
    "df"
   ]
  },
  {
   "cell_type": "markdown",
   "metadata": {},
   "source": [
    "Menyiapkan Sequence data"
   ]
  },
  {
   "cell_type": "code",
   "execution_count": 54,
   "metadata": {},
   "outputs": [
    {
     "data": {
      "text/html": [
       "<div>\n",
       "<style scoped>\n",
       "    .dataframe tbody tr th:only-of-type {\n",
       "        vertical-align: middle;\n",
       "    }\n",
       "\n",
       "    .dataframe tbody tr th {\n",
       "        vertical-align: top;\n",
       "    }\n",
       "\n",
       "    .dataframe thead th {\n",
       "        text-align: right;\n",
       "    }\n",
       "</style>\n",
       "<table border=\"1\" class=\"dataframe\">\n",
       "  <thead>\n",
       "    <tr style=\"text-align: right;\">\n",
       "      <th>Symbols</th>\n",
       "      <th>ANTM.JK</th>\n",
       "    </tr>\n",
       "  </thead>\n",
       "  <tbody>\n",
       "    <tr>\n",
       "      <th>2010-01-04</th>\n",
       "      <td>1931.946777</td>\n",
       "    </tr>\n",
       "    <tr>\n",
       "      <th>2010-01-05</th>\n",
       "      <td>1931.946777</td>\n",
       "    </tr>\n",
       "    <tr>\n",
       "      <th>2010-01-06</th>\n",
       "      <td>1931.946777</td>\n",
       "    </tr>\n",
       "    <tr>\n",
       "      <th>2010-01-07</th>\n",
       "      <td>1973.945557</td>\n",
       "    </tr>\n",
       "    <tr>\n",
       "      <th>2010-01-08</th>\n",
       "      <td>1973.945557</td>\n",
       "    </tr>\n",
       "    <tr>\n",
       "      <th>...</th>\n",
       "      <td>...</td>\n",
       "    </tr>\n",
       "    <tr>\n",
       "      <th>2022-02-11</th>\n",
       "      <td>1845.000000</td>\n",
       "    </tr>\n",
       "    <tr>\n",
       "      <th>2022-02-14</th>\n",
       "      <td>1890.000000</td>\n",
       "    </tr>\n",
       "    <tr>\n",
       "      <th>2022-02-15</th>\n",
       "      <td>1880.000000</td>\n",
       "    </tr>\n",
       "    <tr>\n",
       "      <th>2022-02-16</th>\n",
       "      <td>1880.000000</td>\n",
       "    </tr>\n",
       "    <tr>\n",
       "      <th>2022-02-17</th>\n",
       "      <td>1945.000000</td>\n",
       "    </tr>\n",
       "  </tbody>\n",
       "</table>\n",
       "<p>3011 rows × 1 columns</p>\n",
       "</div>"
      ],
      "text/plain": [
       "Symbols         ANTM.JK\n",
       "2010-01-04  1931.946777\n",
       "2010-01-05  1931.946777\n",
       "2010-01-06  1931.946777\n",
       "2010-01-07  1973.945557\n",
       "2010-01-08  1973.945557\n",
       "...                 ...\n",
       "2022-02-11  1845.000000\n",
       "2022-02-14  1890.000000\n",
       "2022-02-15  1880.000000\n",
       "2022-02-16  1880.000000\n",
       "2022-02-17  1945.000000\n",
       "\n",
       "[3011 rows x 1 columns]"
      ]
     },
     "execution_count": 54,
     "metadata": {},
     "output_type": "execute_result"
    }
   ],
   "source": [
    "close"
   ]
  },
  {
   "cell_type": "code",
   "execution_count": 55,
   "metadata": {},
   "outputs": [],
   "source": [
    "clist = list(close['ANTM.JK'])\n",
    "\n",
    "n_future = 72\n",
    "n_past = 3*72\n",
    "total_period = 4*72\n",
    "\n",
    "idx_end = len(clist)\n",
    "idx_start = idx_end - total_period\n",
    "\n",
    "X_new = []\n",
    "y_new = []\n",
    "\n",
    "while idx_start > 0:\n",
    "    x_line = clist[idx_start:idx_start+n_past]\n",
    "    y_line = clist[idx_start+n_past:idx_start+total_period]\n",
    "\n",
    "    X_new.append(x_line)\n",
    "    y_new.append(y_line)\n",
    "\n",
    "    idx_start = idx_start -1\n",
    "X_new = np.array(X_new)\n",
    "y_new = np.array(y_new)"
   ]
  },
  {
   "cell_type": "code",
   "execution_count": 57,
   "metadata": {},
   "outputs": [],
   "source": [
    "from sklearn.model_selection import train_test_split\n",
    "X_train, X_test, y_train, y_test = train_test_split(X_new, y_new, test_size=0.33, random_state=42)"
   ]
  },
  {
   "cell_type": "code",
   "execution_count": 112,
   "metadata": {},
   "outputs": [],
   "source": [
    "batch_size = 42\n",
    "\n",
    "n_samples = X_train.shape[0]\n",
    "n_timesteps = X_train.shape[1]\n",
    "n_steps = y_train.shape[1]\n",
    "n_features = 1\n",
    "\n",
    "X_train_rs = X_train.reshape(n_samples, n_timesteps, n_features)\n",
    "X_test_rs = X_test.reshape(X_test.shape[0], n_timesteps, n_features)"
   ]
  },
  {
   "cell_type": "code",
   "execution_count": 142,
   "metadata": {},
   "outputs": [
    {
     "data": {
      "text/plain": [
       "72"
      ]
     },
     "execution_count": 142,
     "metadata": {},
     "output_type": "execute_result"
    }
   ],
   "source": [
    "y_train.shape[1]"
   ]
  },
  {
   "cell_type": "markdown",
   "metadata": {},
   "source": [
    "LSTM"
   ]
  },
  {
   "cell_type": "code",
   "execution_count": 128,
   "metadata": {},
   "outputs": [
    {
     "name": "stdout",
     "output_type": "stream",
     "text": [
      "Model: \"sequential_16\"\n",
      "_________________________________________________________________\n",
      " Layer (type)                Output Shape              Param #   \n",
      "=================================================================\n",
      " lstm_32 (LSTM)              (None, 216, 64)           16896     \n",
      "                                                                 \n",
      " lstm_33 (LSTM)              (None, 216, 64)           33024     \n",
      "                                                                 \n",
      " lstm_34 (LSTM)              (None, 64)                33024     \n",
      "                                                                 \n",
      " dense_16 (Dense)            (None, 72)                4680      \n",
      "                                                                 \n",
      "=================================================================\n",
      "Total params: 87,624\n",
      "Trainable params: 87,624\n",
      "Non-trainable params: 0\n",
      "_________________________________________________________________\n",
      "Epoch 1/5\n",
      "35/35 [==============================] - 24s 516ms/step - loss: 1074.9218 - mean_absolute_error: 1074.9218 - val_loss: 1067.2623 - val_mean_absolute_error: 1067.2623\n",
      "Epoch 2/5\n",
      "35/35 [==============================] - 15s 418ms/step - loss: 1071.9044 - mean_absolute_error: 1071.9045 - val_loss: 1064.4049 - val_mean_absolute_error: 1064.4049\n",
      "Epoch 3/5\n",
      "35/35 [==============================] - 14s 405ms/step - loss: 1069.2104 - mean_absolute_error: 1069.2104 - val_loss: 1061.8239 - val_mean_absolute_error: 1061.8239\n",
      "Epoch 4/5\n",
      "35/35 [==============================] - 14s 406ms/step - loss: 1066.6855 - mean_absolute_error: 1066.6855 - val_loss: 1059.3459 - val_mean_absolute_error: 1059.3459\n",
      "Epoch 5/5\n",
      "35/35 [==============================] - 15s 421ms/step - loss: 1064.2358 - mean_absolute_error: 1064.2360 - val_loss: 1056.9208 - val_mean_absolute_error: 1056.9208\n"
     ]
    }
   ],
   "source": [
    "from tensorflow.keras.models import Sequential\n",
    "from tensorflow.keras.layers import Dense, LSTM\n",
    "\n",
    "simple_model = Sequential([\n",
    "    LSTM(64, activation='tanh', input_shape=(n_timesteps, n_features), return_sequences=True),\n",
    "    LSTM(64, activation='tanh', return_sequences=True),\n",
    "    LSTM(64, activation='tanh'),\n",
    "    Dense(y_train.shape[1]),\n",
    "])\n",
    "\n",
    "simple_model.summary()\n",
    "\n",
    "simple_model.compile(\n",
    "    optimizer= tf.keras.optimizers.Adam(learning_rate = 0.001),\n",
    "    loss= 'mean_absolute_error',\n",
    "    metrics = ['mean_absolute_error']\n",
    ")\n",
    "\n",
    "smod_history = simple_model.fit(X_train_rs, y_train, validation_split=0.2, epochs = 5, batch_size = batch_size, shuffle = True)\n",
    "\n"
   ]
  },
  {
   "cell_type": "code",
   "execution_count": 143,
   "metadata": {},
   "outputs": [],
   "source": [
    "preds = simple_model.predict(X_test_rs)\n",
    "preds_train = simple_model.predict(X_train_rs)"
   ]
  },
  {
   "cell_type": "code",
   "execution_count": 152,
   "metadata": {},
   "outputs": [
    {
     "ename": "ValueError",
     "evalue": "Found array with dim 3. Estimator expected <= 2.",
     "output_type": "error",
     "traceback": [
      "\u001b[1;31m---------------------------------------------------------------------------\u001b[0m",
      "\u001b[1;31mValueError\u001b[0m                                Traceback (most recent call last)",
      "\u001b[1;32me:\\programming\\lstm\\lstm_2.ipynb Cell 15'\u001b[0m in \u001b[0;36m<module>\u001b[1;34m\u001b[0m\n\u001b[0;32m      <a href='vscode-notebook-cell:/e%3A/programming/lstm/lstm_2.ipynb#ch0000034?line=0'>1</a>\u001b[0m \u001b[39m# invert predictions\u001b[39;00m\n\u001b[0;32m      <a href='vscode-notebook-cell:/e%3A/programming/lstm/lstm_2.ipynb#ch0000034?line=1'>2</a>\u001b[0m trainPredict \u001b[39m=\u001b[39m scaler\u001b[39m.\u001b[39minverse_transform(preds_train)\n\u001b[1;32m----> <a href='vscode-notebook-cell:/e%3A/programming/lstm/lstm_2.ipynb#ch0000034?line=2'>3</a>\u001b[0m trainY \u001b[39m=\u001b[39m scaler\u001b[39m.\u001b[39;49minverse_transform([y_train])\n\u001b[0;32m      <a href='vscode-notebook-cell:/e%3A/programming/lstm/lstm_2.ipynb#ch0000034?line=3'>4</a>\u001b[0m testPredict \u001b[39m=\u001b[39m scaler\u001b[39m.\u001b[39minverse_transform(preds)\n\u001b[0;32m      <a href='vscode-notebook-cell:/e%3A/programming/lstm/lstm_2.ipynb#ch0000034?line=4'>5</a>\u001b[0m testY \u001b[39m=\u001b[39m scaler\u001b[39m.\u001b[39minverse_transform(y_test)\n",
      "File \u001b[1;32m~\\AppData\\Local\\Programs\\Python\\Python39\\lib\\site-packages\\sklearn\\preprocessing\\_data.py:525\u001b[0m, in \u001b[0;36mMinMaxScaler.inverse_transform\u001b[1;34m(self, X)\u001b[0m\n\u001b[0;32m    <a href='file:///~/AppData/Local/Programs/Python/Python39/lib/site-packages/sklearn/preprocessing/_data.py?line=510'>511</a>\u001b[0m \u001b[39m\"\"\"Undo the scaling of X according to feature_range.\u001b[39;00m\n\u001b[0;32m    <a href='file:///~/AppData/Local/Programs/Python/Python39/lib/site-packages/sklearn/preprocessing/_data.py?line=511'>512</a>\u001b[0m \n\u001b[0;32m    <a href='file:///~/AppData/Local/Programs/Python/Python39/lib/site-packages/sklearn/preprocessing/_data.py?line=512'>513</a>\u001b[0m \u001b[39mParameters\u001b[39;00m\n\u001b[1;32m   (...)\u001b[0m\n\u001b[0;32m    <a href='file:///~/AppData/Local/Programs/Python/Python39/lib/site-packages/sklearn/preprocessing/_data.py?line=520'>521</a>\u001b[0m \u001b[39m    Transformed data.\u001b[39;00m\n\u001b[0;32m    <a href='file:///~/AppData/Local/Programs/Python/Python39/lib/site-packages/sklearn/preprocessing/_data.py?line=521'>522</a>\u001b[0m \u001b[39m\"\"\"\u001b[39;00m\n\u001b[0;32m    <a href='file:///~/AppData/Local/Programs/Python/Python39/lib/site-packages/sklearn/preprocessing/_data.py?line=522'>523</a>\u001b[0m check_is_fitted(\u001b[39mself\u001b[39m)\n\u001b[1;32m--> <a href='file:///~/AppData/Local/Programs/Python/Python39/lib/site-packages/sklearn/preprocessing/_data.py?line=524'>525</a>\u001b[0m X \u001b[39m=\u001b[39m check_array(\n\u001b[0;32m    <a href='file:///~/AppData/Local/Programs/Python/Python39/lib/site-packages/sklearn/preprocessing/_data.py?line=525'>526</a>\u001b[0m     X, copy\u001b[39m=\u001b[39;49m\u001b[39mself\u001b[39;49m\u001b[39m.\u001b[39;49mcopy, dtype\u001b[39m=\u001b[39;49mFLOAT_DTYPES, force_all_finite\u001b[39m=\u001b[39;49m\u001b[39m\"\u001b[39;49m\u001b[39mallow-nan\u001b[39;49m\u001b[39m\"\u001b[39;49m\n\u001b[0;32m    <a href='file:///~/AppData/Local/Programs/Python/Python39/lib/site-packages/sklearn/preprocessing/_data.py?line=526'>527</a>\u001b[0m )\n\u001b[0;32m    <a href='file:///~/AppData/Local/Programs/Python/Python39/lib/site-packages/sklearn/preprocessing/_data.py?line=528'>529</a>\u001b[0m X \u001b[39m-\u001b[39m\u001b[39m=\u001b[39m \u001b[39mself\u001b[39m\u001b[39m.\u001b[39mmin_\n\u001b[0;32m    <a href='file:///~/AppData/Local/Programs/Python/Python39/lib/site-packages/sklearn/preprocessing/_data.py?line=529'>530</a>\u001b[0m X \u001b[39m/\u001b[39m\u001b[39m=\u001b[39m \u001b[39mself\u001b[39m\u001b[39m.\u001b[39mscale_\n",
      "File \u001b[1;32m~\\AppData\\Local\\Programs\\Python\\Python39\\lib\\site-packages\\sklearn\\utils\\validation.py:794\u001b[0m, in \u001b[0;36mcheck_array\u001b[1;34m(array, accept_sparse, accept_large_sparse, dtype, order, copy, force_all_finite, ensure_2d, allow_nd, ensure_min_samples, ensure_min_features, estimator)\u001b[0m\n\u001b[0;32m    <a href='file:///~/AppData/Local/Programs/Python/Python39/lib/site-packages/sklearn/utils/validation.py?line=788'>789</a>\u001b[0m         \u001b[39mraise\u001b[39;00m \u001b[39mValueError\u001b[39;00m(\n\u001b[0;32m    <a href='file:///~/AppData/Local/Programs/Python/Python39/lib/site-packages/sklearn/utils/validation.py?line=789'>790</a>\u001b[0m             \u001b[39m\"\u001b[39m\u001b[39mUnable to convert array of bytes/strings \u001b[39m\u001b[39m\"\u001b[39m\n\u001b[0;32m    <a href='file:///~/AppData/Local/Programs/Python/Python39/lib/site-packages/sklearn/utils/validation.py?line=790'>791</a>\u001b[0m             \u001b[39m\"\u001b[39m\u001b[39minto decimal numbers with dtype=\u001b[39m\u001b[39m'\u001b[39m\u001b[39mnumeric\u001b[39m\u001b[39m'\u001b[39m\u001b[39m\"\u001b[39m\n\u001b[0;32m    <a href='file:///~/AppData/Local/Programs/Python/Python39/lib/site-packages/sklearn/utils/validation.py?line=791'>792</a>\u001b[0m         ) \u001b[39mfrom\u001b[39;00m \u001b[39me\u001b[39;00m\n\u001b[0;32m    <a href='file:///~/AppData/Local/Programs/Python/Python39/lib/site-packages/sklearn/utils/validation.py?line=792'>793</a>\u001b[0m \u001b[39mif\u001b[39;00m \u001b[39mnot\u001b[39;00m allow_nd \u001b[39mand\u001b[39;00m array\u001b[39m.\u001b[39mndim \u001b[39m>\u001b[39m\u001b[39m=\u001b[39m \u001b[39m3\u001b[39m:\n\u001b[1;32m--> <a href='file:///~/AppData/Local/Programs/Python/Python39/lib/site-packages/sklearn/utils/validation.py?line=793'>794</a>\u001b[0m     \u001b[39mraise\u001b[39;00m \u001b[39mValueError\u001b[39;00m(\n\u001b[0;32m    <a href='file:///~/AppData/Local/Programs/Python/Python39/lib/site-packages/sklearn/utils/validation.py?line=794'>795</a>\u001b[0m         \u001b[39m\"\u001b[39m\u001b[39mFound array with dim \u001b[39m\u001b[39m%d\u001b[39;00m\u001b[39m. \u001b[39m\u001b[39m%s\u001b[39;00m\u001b[39m expected <= 2.\u001b[39m\u001b[39m\"\u001b[39m\n\u001b[0;32m    <a href='file:///~/AppData/Local/Programs/Python/Python39/lib/site-packages/sklearn/utils/validation.py?line=795'>796</a>\u001b[0m         \u001b[39m%\u001b[39m (array\u001b[39m.\u001b[39mndim, estimator_name)\n\u001b[0;32m    <a href='file:///~/AppData/Local/Programs/Python/Python39/lib/site-packages/sklearn/utils/validation.py?line=796'>797</a>\u001b[0m     )\n\u001b[0;32m    <a href='file:///~/AppData/Local/Programs/Python/Python39/lib/site-packages/sklearn/utils/validation.py?line=798'>799</a>\u001b[0m \u001b[39mif\u001b[39;00m force_all_finite:\n\u001b[0;32m    <a href='file:///~/AppData/Local/Programs/Python/Python39/lib/site-packages/sklearn/utils/validation.py?line=799'>800</a>\u001b[0m     _assert_all_finite(array, allow_nan\u001b[39m=\u001b[39mforce_all_finite \u001b[39m==\u001b[39m \u001b[39m\"\u001b[39m\u001b[39mallow-nan\u001b[39m\u001b[39m\"\u001b[39m)\n",
      "\u001b[1;31mValueError\u001b[0m: Found array with dim 3. Estimator expected <= 2."
     ]
    }
   ],
   "source": [
    "# invert predictions\n",
    "trainPredict = scaler.inverse_transform(preds_train)\n",
    "trainY = scaler.inverse_transform([y_train])\n",
    "testPredict = scaler.inverse_transform(preds)\n",
    "testY = scaler.inverse_transform(y_test)"
   ]
  },
  {
   "cell_type": "code",
   "execution_count": 146,
   "metadata": {},
   "outputs": [
    {
     "name": "stdout",
     "output_type": "stream",
     "text": [
      "Nilai R2: -3.6558849885944493\n",
      "Nilai MAE: 1054.6054790646167\n",
      "Nilai RMSE: 32.474689822454295\n"
     ]
    }
   ],
   "source": [
    "from sklearn.metrics import mean_absolute_error, mean_absolute_percentage_error, r2_score, mean_squared_error\n",
    "from math import sqrt\n",
    "print(\"Nilai R2: \"+str(r2_score(y_test,preds)))\n",
    "print(\"Nilai MAE: \"+str(mean_absolute_error(y_test, preds)))\n",
    "print(\"Nilai RMSE: \"+str(sqrt(mean_absolute_error(y_test, preds))))"
   ]
  },
  {
   "cell_type": "code",
   "execution_count": 131,
   "metadata": {},
   "outputs": [
    {
     "data": {
      "image/png": "[encoded data removed]",
      "text/plain": [
       "<Figure size 432x288 with 1 Axes>"
      ]
     },
     "metadata": {
      "needs_background": "light"
     },
     "output_type": "display_data"
    }
   ],
   "source": [
    "plt.plot(smod_history.history['mean_absolute_error'])\n",
    "plt.plot(smod_history.history['val_mean_absolute_error']) \n",
    "plt.title('model mean_absolute_error')\n",
    "plt.xlabel('epoch')\n",
    "plt.ylabel('mean_absolute_error')\n",
    "plt.legend(['train', 'val'], loc='upper left')\n",
    "plt.show()"
   ]
  },
  {
   "cell_type": "code",
   "execution_count": 132,
   "metadata": {},
   "outputs": [
    {
     "data": {
      "image/png": "[encoded data removed]",
      "text/plain": [
       "<Figure size 432x288 with 1 Axes>"
      ]
     },
     "metadata": {
      "needs_background": "light"
     },
     "output_type": "display_data"
    }
   ],
   "source": [
    "plt.plot(smod_history.history['loss'])\n",
    "plt.plot(smod_history.history['val_loss']) \n",
    "plt.title('model loss')\n",
    "plt.xlabel('epoch')\n",
    "plt.legend(['train', 'val'], loc='upper left')\n",
    "plt.show()"
   ]
  },
  {
   "cell_type": "code",
   "execution_count": null,
   "metadata": {},
   "outputs": [],
   "source": []
  },
  {
   "cell_type": "code",
   "execution_count": 148,
   "metadata": {},
   "outputs": [
    {
     "ename": "ValueError",
     "evalue": "could not broadcast input array from shape (1824,72) into shape (1824,1)",
     "output_type": "error",
     "traceback": [
      "\u001b[1;31m---------------------------------------------------------------------------\u001b[0m",
      "\u001b[1;31mValueError\u001b[0m                                Traceback (most recent call last)",
      "\u001b[1;32me:\\programming\\lstm\\lstm_2.ipynb Cell 19'\u001b[0m in \u001b[0;36m<module>\u001b[1;34m\u001b[0m\n\u001b[0;32m      <a href='vscode-notebook-cell:/e%3A/programming/lstm/lstm_2.ipynb#ch0000033?line=1'>2</a>\u001b[0m trainPredictPlot \u001b[39m=\u001b[39m np\u001b[39m.\u001b[39mempty_like(df)\n\u001b[0;32m      <a href='vscode-notebook-cell:/e%3A/programming/lstm/lstm_2.ipynb#ch0000033?line=2'>3</a>\u001b[0m trainPredictPlot[:, :] \u001b[39m=\u001b[39m np\u001b[39m.\u001b[39mnan\n\u001b[1;32m----> <a href='vscode-notebook-cell:/e%3A/programming/lstm/lstm_2.ipynb#ch0000033?line=3'>4</a>\u001b[0m trainPredictPlot[n_timesteps:\u001b[39mlen\u001b[39m(trainPredict)\u001b[39m+\u001b[39mn_timesteps, :] \u001b[39m=\u001b[39m trainPredict\n\u001b[0;32m      <a href='vscode-notebook-cell:/e%3A/programming/lstm/lstm_2.ipynb#ch0000033?line=4'>5</a>\u001b[0m \u001b[39m# shift test predictions for plotting\u001b[39;00m\n\u001b[0;32m      <a href='vscode-notebook-cell:/e%3A/programming/lstm/lstm_2.ipynb#ch0000033?line=5'>6</a>\u001b[0m testPredictPlot \u001b[39m=\u001b[39m np\u001b[39m.\u001b[39mempty_like(df)\n",
      "\u001b[1;31mValueError\u001b[0m: could not broadcast input array from shape (1824,72) into shape (1824,1)"
     ]
    }
   ],
   "source": [
    "# shift train predictions for plotting\n",
    "trainPredictPlot = np.empty_like(df)\n",
    "trainPredictPlot[:, :] = np.nan\n",
    "trainPredictPlot[n_timesteps:len(trainPredict)+n_timesteps, :] = trainPredict\n",
    "# shift test predictions for plotting\n",
    "testPredictPlot = np.empty_like(df)\n",
    "testPredictPlot[:, :] = np.nan\n",
    "testPredictPlot[len(trainPredict)+(n_timesteps*2)+1:len(df)-1, :] = testPredict\n",
    "# plot baseline and predictions\n",
    "plt.plot(scaler.inverse_transform(df))\n",
    "plt.plot(trainPredictPlot)\n",
    "plt.plot(testPredictPlot)\n",
    "plt.show()"
   ]
  }
 ],
 "metadata": {
  "interpreter": {
   "hash": "dc3ce5660e5bf32f6df9bcfdb1a2979a1712462b6fad8857bdfc3f4a564b0606"
  },
  "kernelspec": {
   "display_name": "Python 3.9.9 64-bit",
   "language": "python",
   "name": "python3"
  },
  "language_info": {
   "codemirror_mode": {
    "name": "ipython",
    "version": 3
   },
   "file_extension": ".py",
   "mimetype": "text/x-python",
   "name": "python",
   "nbconvert_exporter": "python",
   "pygments_lexer": "ipython3",
   "version": "3.9.9"
  },
  "orig_nbformat": 4
 },
 "nbformat": 4,
 "nbformat_minor": 2
}
