{
 "cells": [
  {
   "cell_type": "markdown",
   "metadata": {},
   "source": [
    "# LIBRARY"
   ]
  },
  {
   "cell_type": "code",
   "execution_count": null,
   "metadata": {},
   "outputs": [],
   "source": [
    "import matplotlib.pyplot as plt\n",
    "import math\n",
    "from keras.models import Sequential\n",
    "from keras.layers import Dense\n",
    "from keras.layers import LSTM\n",
    "from sklearn.preprocessing import MinMaxScaler\n",
    "from sklearn.metrics import mean_squared_error, mean_absolute_error\n",
    "from datetime import date, datetime\n",
    "from multiprocessing.spawn import import_main_path\n",
    "from keras.preprocessing.sequence import TimeseriesGenerator\n",
    "from pandas_datareader import data\n",
    "import matplotlib.pyplot as plt\n",
    "import matplotlib.dates as mdates\n",
    "from matplotlib.dates import DateFormatter\n",
    "import pandas as pd\n",
    "from sklearn.model_selection import train_test_split\n",
    "from sklearn.preprocessing import MinMaxScaler\n",
    "import tensorflow as tf\n",
    "import numpy as np\n",
    "\n"
   ]
  },
  {
   "cell_type": "markdown",
   "metadata": {},
   "source": [
    "# GET DATA"
   ]
  },
  {
   "cell_type": "code",
   "execution_count": null,
   "metadata": {},
   "outputs": [],
   "source": [
    "tickers = [\"ANTM.JK\",\"ASII.JK\",\"ICBP.JK\",\"JSMR.JK\"]\n",
    "\n",
    "today = date.today()\n",
    "# print(today)\n",
    "start_date = '2010-01-01'\n",
    "# end_date = '2022-08-02'\n",
    "\n",
    "panel_data = data.DataReader(tickers,'yahoo',start_date,today)\n",
    "panel_data.head(5)\n"
   ]
  },
  {
   "cell_type": "code",
   "execution_count": null,
   "metadata": {},
   "outputs": [],
   "source": [
    "data_close = panel_data[\"Adj Close\"]\n",
    "data_close.head(5).round(2)\n",
    "list(data_close)\n",
    "data_close.columns = ['antm', 'asii', 'icbp', 'jsmr']\n",
    "data_close"
   ]
  },
  {
   "cell_type": "markdown",
   "metadata": {},
   "source": [
    "# Normalize data"
   ]
  },
  {
   "cell_type": "code",
   "execution_count": null,
   "metadata": {},
   "outputs": [],
   "source": [
    "df_antm = pd.DataFrame(data_close.antm)\n",
    "df_asii = pd.DataFrame(data_close.asii)\n",
    "df_icbp = pd.DataFrame(data_close.icbp)\n",
    "df_jsmr = pd.DataFrame(data_close.jsmr)"
   ]
  },
  {
   "cell_type": "code",
   "execution_count": null,
   "metadata": {},
   "outputs": [],
   "source": [
    "# apply a min max scaler\n",
    "from sklearn.preprocessing import MinMaxScaler\n",
    "scaler = MinMaxScaler()\n",
    "df_antm = pd.DataFrame(scaler.fit_transform(df_antm), columns = ['antm'])\n",
    "df_asii = pd.DataFrame(scaler.fit_transform(df_asii), columns = ['asii'])\n",
    "df_icbp = pd.DataFrame(scaler.fit_transform(df_icbp), columns = ['icbp'])\n",
    "df_jsmr = pd.DataFrame(scaler.fit_transform(df_jsmr), columns = ['jsmr'])\n",
    "\n"
   ]
  },
  {
   "cell_type": "markdown",
   "metadata": {},
   "source": [
    "# SLIDING WINDOW FUNCTION"
   ]
  },
  {
   "cell_type": "code",
   "execution_count": null,
   "metadata": {},
   "outputs": [],
   "source": [
    "from numpy import array\n",
    "\n",
    "def split_sequence(seq, n_steps):\n",
    "    X,y = list(), list()\n",
    "    for i in range(len(seq)):\n",
    "        end_ix = i + n_steps\n",
    "        if end_ix > len(seq)-1:\n",
    "            break\n",
    "        seq_x, seq_y =seq[i:end_ix],seq[end_ix]\n",
    "        X.append(seq_x)\n",
    "        y.append(seq_y)\n",
    "    return array(X), array(y)"
   ]
  },
  {
   "cell_type": "markdown",
   "metadata": {},
   "source": [
    "# VANILA LSTM"
   ]
  },
  {
   "cell_type": "code",
   "execution_count": null,
   "metadata": {},
   "outputs": [],
   "source": [
    "n_steps_1 = 1\n",
    "n_steps_2 = 2\n",
    "n_steps_3 = 3\n",
    "n_steps_4 = 4\n",
    "n_features = 1"
   ]
  },
  {
   "cell_type": "markdown",
   "metadata": {},
   "source": [
    "## ANTM"
   ]
  },
  {
   "cell_type": "code",
   "execution_count": null,
   "metadata": {},
   "outputs": [],
   "source": [
    "df_antm = df_antm.reset_index(drop=True)\n",
    "arr_antm = df_antm.to_numpy()\n",
    "flat_antm = arr_antm.flatten()\n",
    "antm_X_2, antm_y_2 = split_sequence(flat_antm, n_steps_2)\n",
    "\n",
    "# train test split\n",
    "from sklearn.model_selection import train_test_split\n",
    "X_train_antm_2, X_test_antm_2, y_train_antm_2, y_test_antm_2 = train_test_split(antm_X_2, antm_y_2, test_size=0.33, random_state=42)\n",
    "\n",
    "\n",
    "X_train_antm_2 = X_train_antm_2.reshape(X_train_antm_2.shape[0],X_train_antm_2.shape[1],n_features)\n",
    "X_test_antm_2 = X_test_antm_2.reshape(X_test_antm_2.shape[0],X_test_antm_2.shape[1],n_features)\n"
   ]
  },
  {
   "cell_type": "code",
   "execution_count": null,
   "metadata": {},
   "outputs": [],
   "source": [
    "import random\n",
    "from sklearn.metrics import r2_score\n",
    "from tensorflow.keras.models import Sequential\n",
    "from tensorflow.keras.layers import Dense, LSTM\n",
    "random.seed(42)\n",
    "\n",
    "batch_size = 32\n",
    "simple_model_antm_n2_h1_u8_lr1_e200 = Sequential([\n",
    "  LSTM(8, activation='relu',input_shape=(n_steps_2, n_features)),\n",
    "  Dense(1),\n",
    "])\n",
    "\n",
    "\n",
    "simple_model_antm_n2_h1_u8_lr1_e200.compile(\n",
    "  optimizer=tf.keras.optimizers.Adam(learning_rate=0.1),\n",
    "  loss='mean_absolute_error',\n",
    "  metrics=['mae'],\n",
    ")\n",
    "\n",
    "simple_model_antm_n2_h1_u8_lr1_e200.summary()\n"
   ]
  },
  {
   "cell_type": "code",
   "execution_count": null,
   "metadata": {},
   "outputs": [],
   "source": [
    "smod_history_antm_n2_h1_u8_lr1_e200 = simple_model_antm_n2_h1_u8_lr1_e200.fit(X_train_antm_2, y_train_antm_2,\n",
    "          validation_split=0.2,\n",
    "          epochs=200,\n",
    "          batch_size=batch_size,\n",
    "          shuffle = True\n",
    ")\n",
    "#time 41.8"
   ]
  },
  {
   "cell_type": "code",
   "execution_count": null,
   "metadata": {},
   "outputs": [],
   "source": [
    "preds_antm_n2_h1_u8_lr1_e200 = simple_model_antm_n2_h1_u8_lr1_e200.predict(X_test_antm_2)"
   ]
  },
  {
   "cell_type": "code",
   "execution_count": null,
   "metadata": {},
   "outputs": [],
   "source": [
    "from sklearn.metrics import mean_absolute_percentage_error\n",
    "print(\"epoch 200\")\n",
    "print(\"mae score antm_n2_h1_u8_lr1_e200: \"+str(mean_absolute_error(preds_antm_n2_h1_u8_lr1_e200, y_test_antm_2)))\n",
    "print(\"r2 score antm_n2_h1_u8_lr1_e200: \"+str(r2_score(preds_antm_n2_h1_u8_lr1_e200, y_test_antm_2)))\n",
    "print(\"mape score antm_n2_h1_u8_lr1_e200: \"+str(mean_absolute_percentage_error(preds_antm_n2_h1_u8_lr1_e200, y_test_antm_2)))\n",
    "print(\"rmse score antm_n2_h1_u8_lr1_e200: \"+str(np.sqrt(mean_squared_error(preds_antm_n2_h1_u8_lr1_e200, y_test_antm_2))))\n",
    "\n",
    "# mae_antm_hl_u_lr_e = {'model_n2_h1_u8_lr1_e100':mean_absolute_error(preds_antm_n2_h1_u8_lr1_e100, y_test_antm_2),'model_n2_h1_u8_lr1_e150':mean_absolute_error(preds_antm_n2_h1_u8_lr1_e150, y_test_antm_2),'model_n2_h1_u8_lr1_e200':mean_absolute_error(preds_antm_n2_h1_u8_lr1_e200, y_test_antm_2)}\n",
    "\n",
    "# mape_antm_hl_u_lr_e = {'model_n2_h1_u8_lr1_e100':mean_absolute_percentage_error(preds_antm_n2_h1_u8_lr1_e100, y_test_antm_2),'model_n2_h1_u8_lr1_e150':mean_absolute_percentage_error(preds_antm_n2_h1_u8_lr1_e150, y_test_antm_2),'model_n2_h1_u8_lr1_e200':mean_absolute_percentage_error(preds_antm_n2_h1_u8_lr1_e200, y_test_antm_2)}\n",
    "\n",
    "# rmse_antm_hl_u_lr_e = {'model_n2_h1_u8_lr1_e100':np.sqrt(mean_squared_error(preds_antm_n2_h1_u8_lr1_e100, y_test_antm_2)),'model_n2_h1_u8_lr1_e150':np.sqrt(mean_squared_error(preds_antm_n2_h1_u8_lr1_e150, y_test_antm_2)),'model_n2_h1_u8_lr1_e200':np.sqrt(mean_squared_error(preds_antm_n2_h1_u8_lr1_e200, y_test_antm_2))}\n",
    "\n",
    "# r2_antm_hl_u_lr_e = {'model_n2_h1_u8_lr1_e100':r2_score(preds_antm_n2_h1_u8_lr1_e100, y_test_antm_2),'model_n2_h1_u8_lr1_e150':r2_score(preds_antm_n2_h1_u8_lr1_e150, y_test_antm_2),'model_n2_h1_u8_lr1_e200':r2_score(preds_antm_n2_h1_u8_lr1_e200, y_test_antm_2)} \n"
   ]
  }
 ],
 "metadata": {
  "kernelspec": {
   "display_name": "Python 3.9.9 64-bit",
   "language": "python",
   "name": "python3"
  },
  "language_info": {
   "name": "python",
   "version": "3.9.9"
  },
  "orig_nbformat": 4,
  "vscode": {
   "interpreter": {
    "hash": "3816365fdcd687a07caedfe721e5894fb1dd0a24482efb967fc5a605423a1021"
   }
  }
 },
 "nbformat": 4,
 "nbformat_minor": 2
}
