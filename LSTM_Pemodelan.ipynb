{
 "cells": [
  {
   "cell_type": "markdown",
   "metadata": {},
   "source": [
    "# LIBRARY"
   ]
  },
  {
   "cell_type": "code",
   "execution_count": 2,
   "metadata": {},
   "outputs": [],
   "source": [
    "import math\n",
    "from keras.models import Sequential\n",
    "from keras.layers import Dense\n",
    "from keras.layers import LSTM\n",
    "from keras.layers import Bidirectional\n",
    "from sklearn.preprocessing import MinMaxScaler\n",
    "from sklearn.metrics import mean_squared_error, mean_absolute_error\n",
    "from datetime import date, datetime\n",
    "from multiprocessing.spawn import import_main_path\n",
    "from keras.preprocessing.sequence import TimeseriesGenerator\n",
    "from pandas_datareader import data as pdr\n",
    "import yfinance as yf\n",
    "import matplotlib.pyplot as plt\n",
    "import matplotlib.dates as mdates\n",
    "from matplotlib.dates import DateFormatter\n",
    "import pandas as pd\n",
    "from sklearn.model_selection import train_test_split\n",
    "from sklearn.preprocessing import MinMaxScaler\n",
    "import tensorflow as tf\n",
    "import numpy as np\n",
    "\n",
    "from keras.callbacks import EarlyStopping\n",
    "from keras.layers import ConvLSTM2D\n",
    "\n",
    "\n"
   ]
  },
  {
   "cell_type": "markdown",
   "metadata": {},
   "source": [
    "# GET DATA"
   ]
  },
  {
   "cell_type": "code",
   "execution_count": 8,
   "metadata": {},
   "outputs": [
    {
     "name": "stdout",
     "output_type": "stream",
     "text": [
      "[*********************100%***********************]  4 of 4 completed\n"
     ]
    },
    {
     "data": {
      "text/html": [
       "<div>\n",
       "<style scoped>\n",
       "    .dataframe tbody tr th:only-of-type {\n",
       "        vertical-align: middle;\n",
       "    }\n",
       "\n",
       "    .dataframe tbody tr th {\n",
       "        vertical-align: top;\n",
       "    }\n",
       "\n",
       "    .dataframe thead tr th {\n",
       "        text-align: left;\n",
       "    }\n",
       "\n",
       "    .dataframe thead tr:last-of-type th {\n",
       "        text-align: right;\n",
       "    }\n",
       "</style>\n",
       "<table border=\"1\" class=\"dataframe\">\n",
       "  <thead>\n",
       "    <tr>\n",
       "      <th></th>\n",
       "      <th colspan=\"4\" halign=\"left\">Adj Close</th>\n",
       "      <th colspan=\"4\" halign=\"left\">Close</th>\n",
       "      <th colspan=\"2\" halign=\"left\">High</th>\n",
       "      <th>...</th>\n",
       "      <th colspan=\"2\" halign=\"left\">Low</th>\n",
       "      <th colspan=\"4\" halign=\"left\">Open</th>\n",
       "      <th colspan=\"4\" halign=\"left\">Volume</th>\n",
       "    </tr>\n",
       "    <tr>\n",
       "      <th></th>\n",
       "      <th>ANTM.JK</th>\n",
       "      <th>ASII.JK</th>\n",
       "      <th>ICBP.JK</th>\n",
       "      <th>JSMR.JK</th>\n",
       "      <th>ANTM.JK</th>\n",
       "      <th>ASII.JK</th>\n",
       "      <th>ICBP.JK</th>\n",
       "      <th>JSMR.JK</th>\n",
       "      <th>ANTM.JK</th>\n",
       "      <th>ASII.JK</th>\n",
       "      <th>...</th>\n",
       "      <th>ICBP.JK</th>\n",
       "      <th>JSMR.JK</th>\n",
       "      <th>ANTM.JK</th>\n",
       "      <th>ASII.JK</th>\n",
       "      <th>ICBP.JK</th>\n",
       "      <th>JSMR.JK</th>\n",
       "      <th>ANTM.JK</th>\n",
       "      <th>ASII.JK</th>\n",
       "      <th>ICBP.JK</th>\n",
       "      <th>JSMR.JK</th>\n",
       "    </tr>\n",
       "    <tr>\n",
       "      <th>Date</th>\n",
       "      <th></th>\n",
       "      <th></th>\n",
       "      <th></th>\n",
       "      <th></th>\n",
       "      <th></th>\n",
       "      <th></th>\n",
       "      <th></th>\n",
       "      <th></th>\n",
       "      <th></th>\n",
       "      <th></th>\n",
       "      <th></th>\n",
       "      <th></th>\n",
       "      <th></th>\n",
       "      <th></th>\n",
       "      <th></th>\n",
       "      <th></th>\n",
       "      <th></th>\n",
       "      <th></th>\n",
       "      <th></th>\n",
       "      <th></th>\n",
       "      <th></th>\n",
       "    </tr>\n",
       "  </thead>\n",
       "  <tbody>\n",
       "    <tr>\n",
       "      <th>2010-01-04</th>\n",
       "      <td>1576.277344</td>\n",
       "      <td>2421.051025</td>\n",
       "      <td>1408.558960</td>\n",
       "      <td>1530.937866</td>\n",
       "      <td>1931.946777</td>\n",
       "      <td>3530.0</td>\n",
       "      <td>1837.5</td>\n",
       "      <td>1845.677368</td>\n",
       "      <td>1931.946777</td>\n",
       "      <td>3550.0</td>\n",
       "      <td>...</td>\n",
       "      <td>1762.5</td>\n",
       "      <td>1805.770874</td>\n",
       "      <td>1931.946777</td>\n",
       "      <td>3530.0</td>\n",
       "      <td>1787.5</td>\n",
       "      <td>1845.677368</td>\n",
       "      <td>39619544</td>\n",
       "      <td>40</td>\n",
       "      <td>26442000</td>\n",
       "      <td>6978806</td>\n",
       "    </tr>\n",
       "    <tr>\n",
       "      <th>2010-01-05</th>\n",
       "      <td>1576.277344</td>\n",
       "      <td>2434.768066</td>\n",
       "      <td>1437.305054</td>\n",
       "      <td>1547.488647</td>\n",
       "      <td>1931.946777</td>\n",
       "      <td>3550.0</td>\n",
       "      <td>1875.0</td>\n",
       "      <td>1865.630737</td>\n",
       "      <td>1994.945068</td>\n",
       "      <td>3570.0</td>\n",
       "      <td>...</td>\n",
       "      <td>1825.0</td>\n",
       "      <td>1845.677368</td>\n",
       "      <td>1931.946777</td>\n",
       "      <td>3550.0</td>\n",
       "      <td>1875.0</td>\n",
       "      <td>1865.630737</td>\n",
       "      <td>62041590</td>\n",
       "      <td>40</td>\n",
       "      <td>42874000</td>\n",
       "      <td>7988164</td>\n",
       "    </tr>\n",
       "    <tr>\n",
       "      <th>2010-01-06</th>\n",
       "      <td>1576.277344</td>\n",
       "      <td>2421.051025</td>\n",
       "      <td>1427.723145</td>\n",
       "      <td>1555.763916</td>\n",
       "      <td>1931.946777</td>\n",
       "      <td>3530.0</td>\n",
       "      <td>1862.5</td>\n",
       "      <td>1875.607300</td>\n",
       "      <td>1994.945068</td>\n",
       "      <td>3580.0</td>\n",
       "      <td>...</td>\n",
       "      <td>1862.5</td>\n",
       "      <td>1855.654053</td>\n",
       "      <td>1931.946777</td>\n",
       "      <td>3530.0</td>\n",
       "      <td>1900.0</td>\n",
       "      <td>1875.607300</td>\n",
       "      <td>30916328</td>\n",
       "      <td>40</td>\n",
       "      <td>44946000</td>\n",
       "      <td>7538113</td>\n",
       "    </tr>\n",
       "    <tr>\n",
       "      <th>2010-01-07</th>\n",
       "      <td>1610.544312</td>\n",
       "      <td>2345.607422</td>\n",
       "      <td>1437.305054</td>\n",
       "      <td>1547.488647</td>\n",
       "      <td>1973.945557</td>\n",
       "      <td>3420.0</td>\n",
       "      <td>1875.0</td>\n",
       "      <td>1865.630737</td>\n",
       "      <td>1994.945068</td>\n",
       "      <td>3560.0</td>\n",
       "      <td>...</td>\n",
       "      <td>1862.5</td>\n",
       "      <td>1845.677368</td>\n",
       "      <td>1973.945557</td>\n",
       "      <td>3420.0</td>\n",
       "      <td>1875.0</td>\n",
       "      <td>1865.630737</td>\n",
       "      <td>30624653</td>\n",
       "      <td>40</td>\n",
       "      <td>24863000</td>\n",
       "      <td>2048787</td>\n",
       "    </tr>\n",
       "    <tr>\n",
       "      <th>2010-01-08</th>\n",
       "      <td>1610.544312</td>\n",
       "      <td>2359.324707</td>\n",
       "      <td>1446.887451</td>\n",
       "      <td>1539.213135</td>\n",
       "      <td>1973.945557</td>\n",
       "      <td>3440.0</td>\n",
       "      <td>1887.5</td>\n",
       "      <td>1855.654053</td>\n",
       "      <td>1994.945068</td>\n",
       "      <td>3450.0</td>\n",
       "      <td>...</td>\n",
       "      <td>1862.5</td>\n",
       "      <td>1845.677368</td>\n",
       "      <td>1973.945557</td>\n",
       "      <td>3440.0</td>\n",
       "      <td>1900.0</td>\n",
       "      <td>1855.654053</td>\n",
       "      <td>15857579</td>\n",
       "      <td>40</td>\n",
       "      <td>19118000</td>\n",
       "      <td>2441705</td>\n",
       "    </tr>\n",
       "  </tbody>\n",
       "</table>\n",
       "<p>5 rows × 24 columns</p>\n",
       "</div>"
      ],
      "text/plain": [
       "              Adj Close                                               Close  \\\n",
       "                ANTM.JK      ASII.JK      ICBP.JK      JSMR.JK      ANTM.JK   \n",
       "Date                                                                          \n",
       "2010-01-04  1576.277344  2421.051025  1408.558960  1530.937866  1931.946777   \n",
       "2010-01-05  1576.277344  2434.768066  1437.305054  1547.488647  1931.946777   \n",
       "2010-01-06  1576.277344  2421.051025  1427.723145  1555.763916  1931.946777   \n",
       "2010-01-07  1610.544312  2345.607422  1437.305054  1547.488647  1973.945557   \n",
       "2010-01-08  1610.544312  2359.324707  1446.887451  1539.213135  1973.945557   \n",
       "\n",
       "                                                High          ...     Low  \\\n",
       "           ASII.JK ICBP.JK      JSMR.JK      ANTM.JK ASII.JK  ... ICBP.JK   \n",
       "Date                                                          ...           \n",
       "2010-01-04  3530.0  1837.5  1845.677368  1931.946777  3550.0  ...  1762.5   \n",
       "2010-01-05  3550.0  1875.0  1865.630737  1994.945068  3570.0  ...  1825.0   \n",
       "2010-01-06  3530.0  1862.5  1875.607300  1994.945068  3580.0  ...  1862.5   \n",
       "2010-01-07  3420.0  1875.0  1865.630737  1994.945068  3560.0  ...  1862.5   \n",
       "2010-01-08  3440.0  1887.5  1855.654053  1994.945068  3450.0  ...  1862.5   \n",
       "\n",
       "                                Open                                 Volume  \\\n",
       "                JSMR.JK      ANTM.JK ASII.JK ICBP.JK      JSMR.JK   ANTM.JK   \n",
       "Date                                                                          \n",
       "2010-01-04  1805.770874  1931.946777  3530.0  1787.5  1845.677368  39619544   \n",
       "2010-01-05  1845.677368  1931.946777  3550.0  1875.0  1865.630737  62041590   \n",
       "2010-01-06  1855.654053  1931.946777  3530.0  1900.0  1875.607300  30916328   \n",
       "2010-01-07  1845.677368  1973.945557  3420.0  1875.0  1865.630737  30624653   \n",
       "2010-01-08  1845.677368  1973.945557  3440.0  1900.0  1855.654053  15857579   \n",
       "\n",
       "                                       \n",
       "           ASII.JK   ICBP.JK  JSMR.JK  \n",
       "Date                                   \n",
       "2010-01-04      40  26442000  6978806  \n",
       "2010-01-05      40  42874000  7988164  \n",
       "2010-01-06      40  44946000  7538113  \n",
       "2010-01-07      40  24863000  2048787  \n",
       "2010-01-08      40  19118000  2441705  \n",
       "\n",
       "[5 rows x 24 columns]"
      ]
     },
     "execution_count": 8,
     "metadata": {},
     "output_type": "execute_result"
    }
   ],
   "source": [
    "yf.pdr_override()\n",
    "tickers = [\"ANTM.JK\",\"ASII.JK\",\"ICBP.JK\",\"JSMR.JK\"]\n",
    "\n",
    "stock = 'ANTM.JK'\n",
    "today = date.today()\n",
    "# print(today)\n",
    "start_date = '2010-01-01'\n",
    "# end_date = '2022-08-02'\n",
    "\n",
    "panel_data = pdr.get_data_yahoo(tickers,start=start_date, end=today)\n",
    "panel_data.head(5)\n"
   ]
  },
  {
   "cell_type": "code",
   "execution_count": 7,
   "metadata": {},
   "outputs": [
    {
     "data": {
      "text/html": [
       "<div>\n",
       "<style scoped>\n",
       "    .dataframe tbody tr th:only-of-type {\n",
       "        vertical-align: middle;\n",
       "    }\n",
       "\n",
       "    .dataframe tbody tr th {\n",
       "        vertical-align: top;\n",
       "    }\n",
       "\n",
       "    .dataframe thead th {\n",
       "        text-align: right;\n",
       "    }\n",
       "</style>\n",
       "<table border=\"1\" class=\"dataframe\">\n",
       "  <thead>\n",
       "    <tr style=\"text-align: right;\">\n",
       "      <th></th>\n",
       "      <th>antm</th>\n",
       "      <th>asii</th>\n",
       "      <th>icbp</th>\n",
       "      <th>jsmr</th>\n",
       "    </tr>\n",
       "  </thead>\n",
       "  <tbody>\n",
       "    <tr>\n",
       "      <th>count</th>\n",
       "      <td>3116.00000</td>\n",
       "      <td>3116.00000</td>\n",
       "      <td>3116.00000</td>\n",
       "      <td>3116.00000</td>\n",
       "    </tr>\n",
       "    <tr>\n",
       "      <th>mean</th>\n",
       "      <td>80351245.95186</td>\n",
       "      <td>35639819.25770</td>\n",
       "      <td>9255544.62837</td>\n",
       "      <td>7709555.85077</td>\n",
       "    </tr>\n",
       "    <tr>\n",
       "      <th>std</th>\n",
       "      <td>155186171.25415</td>\n",
       "      <td>24029907.07991</td>\n",
       "      <td>17256382.91191</td>\n",
       "      <td>8105828.56457</td>\n",
       "    </tr>\n",
       "    <tr>\n",
       "      <th>min</th>\n",
       "      <td>0.00000</td>\n",
       "      <td>0.00000</td>\n",
       "      <td>0.00000</td>\n",
       "      <td>0.00000</td>\n",
       "    </tr>\n",
       "    <tr>\n",
       "      <th>25%</th>\n",
       "      <td>13882346.00000</td>\n",
       "      <td>21383425.00000</td>\n",
       "      <td>3096450.00000</td>\n",
       "      <td>3551575.00000</td>\n",
       "    </tr>\n",
       "    <tr>\n",
       "      <th>50%</th>\n",
       "      <td>36319950.00000</td>\n",
       "      <td>30595350.00000</td>\n",
       "      <td>5206550.00000</td>\n",
       "      <td>5860450.00000</td>\n",
       "    </tr>\n",
       "    <tr>\n",
       "      <th>75%</th>\n",
       "      <td>83556025.00000</td>\n",
       "      <td>44622500.00000</td>\n",
       "      <td>8967150.00000</td>\n",
       "      <td>9424575.00000</td>\n",
       "    </tr>\n",
       "    <tr>\n",
       "      <th>max</th>\n",
       "      <td>2186652700.00000</td>\n",
       "      <td>311402400.00000</td>\n",
       "      <td>570465000.00000</td>\n",
       "      <td>188892300.00000</td>\n",
       "    </tr>\n",
       "  </tbody>\n",
       "</table>\n",
       "</div>"
      ],
      "text/plain": [
       "                   antm             asii             icbp             jsmr\n",
       "count        3116.00000       3116.00000       3116.00000       3116.00000\n",
       "mean     80351245.95186   35639819.25770    9255544.62837    7709555.85077\n",
       "std     155186171.25415   24029907.07991   17256382.91191    8105828.56457\n",
       "min             0.00000          0.00000          0.00000          0.00000\n",
       "25%      13882346.00000   21383425.00000    3096450.00000    3551575.00000\n",
       "50%      36319950.00000   30595350.00000    5206550.00000    5860450.00000\n",
       "75%      83556025.00000   44622500.00000    8967150.00000    9424575.00000\n",
       "max    2186652700.00000  311402400.00000  570465000.00000  188892300.00000"
      ]
     },
     "execution_count": 7,
     "metadata": {},
     "output_type": "execute_result"
    }
   ],
   "source": [
    "data_volume = panel_data[\"Volume\"]\n",
    "list(data_volume)\n",
    "data_volume.columns = ['antm', 'asii', 'icbp', 'jsmr']\n",
    "data_volume.describe().apply(lambda s: s.apply('{0:.5f}'.format))"
   ]
  },
  {
   "cell_type": "code",
   "execution_count": 5,
   "metadata": {},
   "outputs": [
    {
     "data": {
      "text/html": [
       "<div>\n",
       "<style scoped>\n",
       "    .dataframe tbody tr th:only-of-type {\n",
       "        vertical-align: middle;\n",
       "    }\n",
       "\n",
       "    .dataframe tbody tr th {\n",
       "        vertical-align: top;\n",
       "    }\n",
       "\n",
       "    .dataframe thead th {\n",
       "        text-align: right;\n",
       "    }\n",
       "</style>\n",
       "<table border=\"1\" class=\"dataframe\">\n",
       "  <thead>\n",
       "    <tr style=\"text-align: right;\">\n",
       "      <th></th>\n",
       "      <th>antm</th>\n",
       "      <th>asii</th>\n",
       "      <th>icbp</th>\n",
       "      <th>jsmr</th>\n",
       "    </tr>\n",
       "  </thead>\n",
       "  <tbody>\n",
       "    <tr>\n",
       "      <th>count</th>\n",
       "      <td>3225.00000</td>\n",
       "      <td>3225.00000</td>\n",
       "      <td>3225.00000</td>\n",
       "      <td>3225.00000</td>\n",
       "    </tr>\n",
       "    <tr>\n",
       "      <th>mean</th>\n",
       "      <td>1130.94090</td>\n",
       "      <td>5535.38049</td>\n",
       "      <td>6108.67067</td>\n",
       "      <td>4489.46089</td>\n",
       "    </tr>\n",
       "    <tr>\n",
       "      <th>std</th>\n",
       "      <td>576.18313</td>\n",
       "      <td>1103.17964</td>\n",
       "      <td>2825.91029</td>\n",
       "      <td>1157.56689</td>\n",
       "    </tr>\n",
       "    <tr>\n",
       "      <th>min</th>\n",
       "      <td>274.09692</td>\n",
       "      <td>2290.73999</td>\n",
       "      <td>1283.99255</td>\n",
       "      <td>1398.53223</td>\n",
       "    </tr>\n",
       "    <tr>\n",
       "      <th>25%</th>\n",
       "      <td>740.15723</td>\n",
       "      <td>4960.83838</td>\n",
       "      <td>3946.94458</td>\n",
       "      <td>3770.00000</td>\n",
       "    </tr>\n",
       "    <tr>\n",
       "      <th>50%</th>\n",
       "      <td>929.10339</td>\n",
       "      <td>5624.34521</td>\n",
       "      <td>7099.00928</td>\n",
       "      <td>4573.74219</td>\n",
       "    </tr>\n",
       "    <tr>\n",
       "      <th>75%</th>\n",
       "      <td>1440.12781</td>\n",
       "      <td>6326.53076</td>\n",
       "      <td>8323.28125</td>\n",
       "      <td>5276.22754</td>\n",
       "    </tr>\n",
       "    <tr>\n",
       "      <th>max</th>\n",
       "      <td>3117.91113</td>\n",
       "      <td>7761.65479</td>\n",
       "      <td>11525.49219</td>\n",
       "      <td>6832.19678</td>\n",
       "    </tr>\n",
       "  </tbody>\n",
       "</table>\n",
       "</div>"
      ],
      "text/plain": [
       "             antm        asii         icbp        jsmr\n",
       "count  3225.00000  3225.00000   3225.00000  3225.00000\n",
       "mean   1130.94090  5535.38049   6108.67067  4489.46089\n",
       "std     576.18313  1103.17964   2825.91029  1157.56689\n",
       "min     274.09692  2290.73999   1283.99255  1398.53223\n",
       "25%     740.15723  4960.83838   3946.94458  3770.00000\n",
       "50%     929.10339  5624.34521   7099.00928  4573.74219\n",
       "75%    1440.12781  6326.53076   8323.28125  5276.22754\n",
       "max    3117.91113  7761.65479  11525.49219  6832.19678"
      ]
     },
     "execution_count": 5,
     "metadata": {},
     "output_type": "execute_result"
    }
   ],
   "source": [
    "data_close = panel_data[\"Adj Close\"]\n",
    "list(data_close)\n",
    "data_close.columns = ['antm', 'asii', 'icbp', 'jsmr']\n",
    "data_close.describe().apply(lambda s: s.apply('{0:.5f}'.format))"
   ]
  },
  {
   "attachments": {},
   "cell_type": "markdown",
   "metadata": {},
   "source": [
    "# PLOT SEMUA SAHAM"
   ]
  },
  {
   "cell_type": "code",
   "execution_count": 6,
   "metadata": {},
   "outputs": [
    {
     "data": {
      "text/plain": [
       "<matplotlib.legend.Legend at 0x2555b119220>"
      ]
     },
     "execution_count": 6,
     "metadata": {},
     "output_type": "execute_result"
    },
    {
     "data": {
      "image/png": "[encoded data removed]",
      "text/plain": [
       "<Figure size 1600x900 with 1 Axes>"
      ]
     },
     "metadata": {},
     "output_type": "display_data"
    }
   ],
   "source": [
    "# Plot everything by leveraging the very powerful matplotlib package\n",
    "fig, ax = plt.subplots(figsize=(16,9))\n",
    "\n",
    "for name in ['antm', 'asii', 'icbp', 'jsmr']:\n",
    "    ax.plot(data_close[name].index, data_close[name], label='Saham {}'.format(name))\n",
    "\n",
    "\n",
    "# Define the date format\n",
    "date_form = DateFormatter(\"%b-%y\")\n",
    "ax.xaxis.set_major_formatter(date_form)\n",
    "\n",
    "ax.set_title('Harga saham ')\n",
    "ax.set_xlabel('Date')\n",
    "ax.set_ylabel('Closing price (Rp)')\n",
    "ax.legend()"
   ]
  },
  {
   "cell_type": "markdown",
   "metadata": {},
   "source": [
    "# Normalize data"
   ]
  },
  {
   "cell_type": "code",
   "execution_count": 7,
   "metadata": {},
   "outputs": [],
   "source": [
    "from sklearn.preprocessing import MinMaxScaler\n",
    "def normalize_data(df_data, COLUMN_NAME):\n",
    "    scaler = MinMaxScaler()\n",
    "    df_data = pd.DataFrame(df_data)\n",
    "    df_data = pd.DataFrame(scaler.fit_transform(df_data), columns = [COLUMN_NAME])\n",
    "    return df_data\n"
   ]
  },
  {
   "cell_type": "code",
   "execution_count": 8,
   "metadata": {},
   "outputs": [],
   "source": [
    "df_asii = normalize_data(data_close.asii,'asii')\n",
    "df_icbp = normalize_data(data_close.icbp, 'icbp')\n",
    "df_jsmr = normalize_data(data_close.jsmr, 'jsmr')"
   ]
  },
  {
   "cell_type": "markdown",
   "metadata": {},
   "source": [
    "# SLIDING WINDOW FUNCTION"
   ]
  },
  {
   "cell_type": "code",
   "execution_count": 9,
   "metadata": {},
   "outputs": [],
   "source": [
    "from numpy import array\n",
    "\n",
    "def split_sequence(seq, n_steps):\n",
    "    X,y = list(), list()\n",
    "    for i in range(len(seq)):\n",
    "        end_ix = i + n_steps\n",
    "        if end_ix > len(seq)-1:\n",
    "            break\n",
    "        seq_x, seq_y =seq[i:end_ix],seq[end_ix]\n",
    "        X.append(seq_x)\n",
    "        y.append(seq_y)\n",
    "    return array(X), array(y)"
   ]
  },
  {
   "cell_type": "markdown",
   "metadata": {},
   "source": [
    "# RESET INDEX FUNCTION"
   ]
  },
  {
   "cell_type": "code",
   "execution_count": 10,
   "metadata": {},
   "outputs": [],
   "source": [
    "from sklearn.model_selection import train_test_split\n",
    "def reset_index_data(df_data):\n",
    "    df_data = df_data.reset_index(drop=True)\n",
    "    arr_df = df_data.to_numpy()\n",
    "    flat_df = arr_df.flatten()\n",
    "    return flat_df"
   ]
  },
  {
   "cell_type": "markdown",
   "metadata": {},
   "source": [
    "# RESHAPE DATA FUNC"
   ]
  },
  {
   "cell_type": "code",
   "execution_count": 11,
   "metadata": {},
   "outputs": [],
   "source": [
    "def reshape_data(X,N_FEATURES):\n",
    "    X = X.reshape(X.shape[0],X.shape[1],N_FEATURES)\n",
    "    return X"
   ]
  },
  {
   "cell_type": "markdown",
   "metadata": {},
   "source": [
    "# TRAIN VANILA MODEL FUCTION"
   ]
  },
  {
   "cell_type": "code",
   "execution_count": 12,
   "metadata": {},
   "outputs": [],
   "source": [
    "def train_lstm(X_train,y_train,config):\n",
    "    #unpach config\n",
    "    neuron, activation, n_steps, n_features,learning_rate, batch_size,epochs = config\n",
    "    #define model \n",
    "    model_vanila_lstm = Sequential([\n",
    "    LSTM(neuron, activation=activation,input_shape=(n_steps, n_features)),\n",
    "    Dense(1),\n",
    "    ])\n",
    "    model_vanila_lstm.compile(\n",
    "    optimizer=tf.keras.optimizers.Adam(learning_rate=learning_rate),\n",
    "    loss='mean_absolute_error',\n",
    "    metrics=['mae'],\n",
    "    )\n",
    "    model_vanila_lstm.summary()\n",
    "    history_vanila_lstm = model_vanila_lstm.fit(X_train, y_train, validation_split=0.2,\n",
    "          epochs=epochs,\n",
    "          batch_size=batch_size,\n",
    "          shuffle = True\n",
    "    )\n",
    "\n",
    "    return model_vanila_lstm, history_vanila_lstm\n",
    "\n",
    "#time 41.8\n",
    "    "
   ]
  },
  {
   "cell_type": "code",
   "execution_count": 13,
   "metadata": {},
   "outputs": [],
   "source": [
    "def train_vanila_lstm(X_train,y_train,config):\n",
    "    #unpach config\n",
    "    neuron, activation, n_steps, n_features,learning_rate, batch_size,epochs = config\n",
    "    #define model \n",
    "    model_vanila_lstm = Sequential([\n",
    "    LSTM(neuron, activation=activation,input_shape=(n_steps, n_features)),\n",
    "    Dense(1),\n",
    "    ])\n",
    "    model_vanila_lstm.compile(\n",
    "    optimizer=tf.keras.optimizers.Adam(learning_rate=learning_rate),\n",
    "    loss='mean_absolute_error',\n",
    "    metrics=['mae'],\n",
    "    )\n",
    "    early_stopping = EarlyStopping(\n",
    "    min_delta=0.001, # minimium amount of change to count as an improvement\n",
    "    patience=20, # how many epochs to wait before stopping\n",
    "    restore_best_weights=True,\n",
    "    )\n",
    "\n",
    "    model_vanila_lstm.summary()\n",
    "    history_vanila_lstm = model_vanila_lstm.fit(X_train, y_train, validation_split=0.2,\n",
    "          epochs=epochs,\n",
    "          batch_size=batch_size,\n",
    "          callbacks=[early_stopping],\n",
    "          shuffle = True\n",
    "    )\n",
    "\n",
    "    return model_vanila_lstm, history_vanila_lstm\n",
    "\n",
    "#time 41.8\n",
    "    "
   ]
  },
  {
   "cell_type": "markdown",
   "metadata": {},
   "source": [
    "# ROUNDUP FUNCTION"
   ]
  },
  {
   "cell_type": "code",
   "execution_count": 14,
   "metadata": {},
   "outputs": [],
   "source": [
    "def pembulatan(data,number):\n",
    "    return np.round(data,number)"
   ]
  },
  {
   "cell_type": "markdown",
   "metadata": {},
   "source": [
    "# MATRICS EVALUTE"
   ]
  },
  {
   "cell_type": "code",
   "execution_count": 15,
   "metadata": {},
   "outputs": [],
   "source": [
    "from sklearn.metrics import mean_absolute_percentage_error\n",
    "from sklearn.metrics import r2_score\n",
    "def matriks_evaluate(preds,y_test, lb_saham, number):\n",
    "    print('Matriks score for '+ lb_saham)\n",
    "    print(\"mae score: \"+str(mean_absolute_error(preds, y_test)))\n",
    "    print(\"r2 score \"+str(r2_score(preds, y_test)))\n",
    "    print(\"mape score \"+str(mean_absolute_percentage_error(preds, y_test)))\n",
    "    print(\"rmse score \"+str(np.sqrt(mean_squared_error(preds, y_test))))\n",
    "    print(\"round_up\")\n",
    "    print(\"mae score: \"+str(pembulatan(mean_absolute_error(preds, y_test),number)))\n",
    "    print(\"r2 score \"+str(pembulatan(r2_score(preds, y_test),number)))\n",
    "    print(\"mape score \"+str(pembulatan(mean_absolute_percentage_error(preds, y_test),number)))\n",
    "    print(\"rmse score \"+str(pembulatan(np.sqrt(mean_squared_error(preds, y_test)),number)))"
   ]
  },
  {
   "cell_type": "markdown",
   "metadata": {},
   "source": [
    "# PLOT FUNCTION"
   ]
  },
  {
   "cell_type": "code",
   "execution_count": 16,
   "metadata": {},
   "outputs": [],
   "source": [
    "def plot_metriks(data,title):\n",
    "    names = list(data.keys())\n",
    "    values = list(data.values())\n",
    "    plt.title(title)\n",
    "    plt.bar(range(len(data)), values, tick_label=names)\n",
    "    plt.show()"
   ]
  },
  {
   "cell_type": "markdown",
   "metadata": {},
   "source": [
    "# VANILA LSTM"
   ]
  },
  {
   "cell_type": "markdown",
   "metadata": {},
   "source": [
    "## ANTM"
   ]
  },
  {
   "cell_type": "code",
   "execution_count": 17,
   "metadata": {},
   "outputs": [],
   "source": [
    "#get data and normalize data\n",
    "df_antm = normalize_data(data_close.antm,'antm')\n",
    "#reset index\n",
    "df_antm = reset_index_data(df_antm)\n",
    "#data to supervised\n",
    "antm_X, antm_y = split_sequence(df_antm, 2)\n",
    "#split to train and test\n",
    "X_train_antm, X_test_antm, y_train_antm, y_test_antm = train_test_split(antm_X, antm_y, test_size=0.33, random_state=42)\n",
    "\n",
    "X_train_antm = reshape_data(X_train_antm,1)\n",
    "X_test_antm = reshape_data(X_test_antm,1)\n"
   ]
  },
  {
   "cell_type": "code",
   "execution_count": 18,
   "metadata": {},
   "outputs": [
    {
     "name": "stdout",
     "output_type": "stream",
     "text": [
      "Model: \"sequential\"\n",
      "_________________________________________________________________\n",
      " Layer (type)                Output Shape              Param #   \n",
      "=================================================================\n",
      " lstm (LSTM)                 (None, 8)                 320       \n",
      "                                                                 \n",
      " dense (Dense)               (None, 1)                 9         \n",
      "                                                                 \n",
      "=================================================================\n",
      "Total params: 329\n",
      "Trainable params: 329\n",
      "Non-trainable params: 0\n",
      "_________________________________________________________________\n",
      "Epoch 1/200\n",
      "216/216 [==============================] - 3s 5ms/step - loss: 0.0334 - mae: 0.0334 - val_loss: 0.0222 - val_mae: 0.0222\n",
      "Epoch 2/200\n",
      "216/216 [==============================] - 1s 3ms/step - loss: 0.0207 - mae: 0.0207 - val_loss: 0.0125 - val_mae: 0.0125\n",
      "Epoch 3/200\n",
      "216/216 [==============================] - 1s 3ms/step - loss: 0.0236 - mae: 0.0236 - val_loss: 0.0178 - val_mae: 0.0178\n",
      "Epoch 4/200\n",
      "216/216 [==============================] - 1s 3ms/step - loss: 0.0178 - mae: 0.0178 - val_loss: 0.0231 - val_mae: 0.0231\n",
      "Epoch 5/200\n",
      "216/216 [==============================] - 1s 3ms/step - loss: 0.0189 - mae: 0.0189 - val_loss: 0.0253 - val_mae: 0.0253\n",
      "Epoch 6/200\n",
      "216/216 [==============================] - 1s 3ms/step - loss: 0.0197 - mae: 0.0197 - val_loss: 0.0109 - val_mae: 0.0109\n",
      "Epoch 7/200\n",
      "216/216 [==============================] - 1s 3ms/step - loss: 0.0163 - mae: 0.0163 - val_loss: 0.0129 - val_mae: 0.0129\n",
      "Epoch 8/200\n",
      "216/216 [==============================] - 1s 3ms/step - loss: 0.0198 - mae: 0.0198 - val_loss: 0.0411 - val_mae: 0.0411\n",
      "Epoch 9/200\n",
      "216/216 [==============================] - 1s 3ms/step - loss: 0.0200 - mae: 0.0200 - val_loss: 0.0113 - val_mae: 0.0113\n",
      "Epoch 10/200\n",
      "216/216 [==============================] - 1s 3ms/step - loss: 0.0160 - mae: 0.0160 - val_loss: 0.0286 - val_mae: 0.0286\n",
      "Epoch 11/200\n",
      "216/216 [==============================] - 1s 3ms/step - loss: 0.0232 - mae: 0.0232 - val_loss: 0.0122 - val_mae: 0.0122\n",
      "Epoch 12/200\n",
      "216/216 [==============================] - 1s 3ms/step - loss: 0.0186 - mae: 0.0186 - val_loss: 0.0138 - val_mae: 0.0138\n",
      "Epoch 13/200\n",
      "216/216 [==============================] - 1s 3ms/step - loss: 0.0178 - mae: 0.0178 - val_loss: 0.0279 - val_mae: 0.0279\n",
      "Epoch 14/200\n",
      "216/216 [==============================] - 1s 3ms/step - loss: 0.0193 - mae: 0.0193 - val_loss: 0.0186 - val_mae: 0.0186\n",
      "Epoch 15/200\n",
      "216/216 [==============================] - 1s 3ms/step - loss: 0.0159 - mae: 0.0159 - val_loss: 0.0243 - val_mae: 0.0243\n",
      "Epoch 16/200\n",
      "216/216 [==============================] - 1s 3ms/step - loss: 0.0181 - mae: 0.0181 - val_loss: 0.0332 - val_mae: 0.0332\n",
      "Epoch 17/200\n",
      "216/216 [==============================] - 1s 3ms/step - loss: 0.0175 - mae: 0.0175 - val_loss: 0.0103 - val_mae: 0.0103\n",
      "Epoch 18/200\n",
      "216/216 [==============================] - 1s 4ms/step - loss: 0.0213 - mae: 0.0213 - val_loss: 0.0104 - val_mae: 0.0104\n",
      "Epoch 19/200\n",
      "216/216 [==============================] - 1s 3ms/step - loss: 0.0135 - mae: 0.0135 - val_loss: 0.0100 - val_mae: 0.0100\n",
      "Epoch 20/200\n",
      "216/216 [==============================] - 1s 3ms/step - loss: 0.0168 - mae: 0.0168 - val_loss: 0.0245 - val_mae: 0.0245\n",
      "Epoch 21/200\n",
      "216/216 [==============================] - 1s 3ms/step - loss: 0.0183 - mae: 0.0183 - val_loss: 0.0173 - val_mae: 0.0173\n",
      "Epoch 22/200\n",
      "216/216 [==============================] - 1s 3ms/step - loss: 0.0149 - mae: 0.0149 - val_loss: 0.0297 - val_mae: 0.0297\n",
      "Epoch 23/200\n",
      "216/216 [==============================] - 1s 3ms/step - loss: 0.0158 - mae: 0.0158 - val_loss: 0.0414 - val_mae: 0.0414\n",
      "Epoch 24/200\n",
      "216/216 [==============================] - 1s 4ms/step - loss: 0.0268 - mae: 0.0268 - val_loss: 0.0201 - val_mae: 0.0201\n",
      "Epoch 25/200\n",
      "216/216 [==============================] - 1s 3ms/step - loss: 0.0206 - mae: 0.0206 - val_loss: 0.0206 - val_mae: 0.0206\n",
      "Epoch 26/200\n",
      "216/216 [==============================] - 1s 3ms/step - loss: 0.0175 - mae: 0.0175 - val_loss: 0.0146 - val_mae: 0.0146\n"
     ]
    }
   ],
   "source": [
    "cfg_antm = [8,'relu',2,1,0.1,8,200]\n",
    "model_antm,history_antm_model,  = train_vanila_lstm(X_train_antm,y_train_antm,cfg_antm)"
   ]
  },
  {
   "cell_type": "code",
   "execution_count": 19,
   "metadata": {},
   "outputs": [
    {
     "name": "stdout",
     "output_type": "stream",
     "text": [
      "34/34 [==============================] - 0s 1ms/step\n",
      "Matriks score for antm\n",
      "mae score: 0.01075447862284689\n",
      "r2 score 0.9940625098496625\n",
      "mape score 0.055718417672200746\n",
      "rmse score 0.015348847402380841\n",
      "round_up\n",
      "mae score: 0.0108\n",
      "r2 score 0.9941\n",
      "mape score 0.0557\n",
      "rmse score 0.0153\n"
     ]
    }
   ],
   "source": [
    "preds_antm = model_antm.predict(X_test_antm)\n",
    "matriks_evaluate(preds_antm,y_test_antm,'antm',4)"
   ]
  },
  {
   "cell_type": "code",
   "execution_count": 20,
   "metadata": {},
   "outputs": [
    {
     "name": "stdout",
     "output_type": "stream",
     "text": [
      "68/68 [==============================] - 0s 2ms/step\n",
      "Matriks score for antm\n",
      "mae score: 0.010975655895538932\n",
      "r2 score 0.9931168033791961\n",
      "mape score 0.060043078595348985\n",
      "rmse score 0.015916690101335316\n",
      "round_up\n",
      "mae score: 0.011\n",
      "r2 score 0.9931\n",
      "mape score 0.06\n",
      "rmse score 0.0159\n"
     ]
    }
   ],
   "source": [
    "preds_antm_train = model_antm.predict(X_train_antm)\n",
    "matriks_evaluate(preds_antm_train,y_train_antm,'antm',4)"
   ]
  },
  {
   "cell_type": "code",
   "execution_count": 21,
   "metadata": {},
   "outputs": [
    {
     "data": {
      "image/png": "[encoded data removed]",
      "text/plain": [
       "<Figure size 640x480 with 1 Axes>"
      ]
     },
     "metadata": {},
     "output_type": "display_data"
    }
   ],
   "source": [
    "plt.plot(history_antm_model.history['loss'], label='loss antm')\n",
    "plt.plot(history_antm_model.history['val_loss'], label = 'val loss antm')\n",
    "plt.title('model loss lstm antm')\n",
    "plt.ylabel('loss')\n",
    "plt.xlabel('epoch')\n",
    "plt.legend(loc='upper left')\n",
    "plt.savefig('loss_lstm_antm', dpi=3600)"
   ]
  },
  {
   "cell_type": "markdown",
   "metadata": {},
   "source": [
    "## ASII"
   ]
  },
  {
   "cell_type": "code",
   "execution_count": 22,
   "metadata": {},
   "outputs": [],
   "source": [
    "#get data and normalize data\n",
    "df_asii = normalize_data(data_close.asii,'asii')\n",
    "#reset index\n",
    "df_asii = reset_index_data(df_asii)\n",
    "#data to supervised\n",
    "asii_X, asii_y = split_sequence(df_asii, 3)\n",
    "#split to train and test\n",
    "X_train_asii, X_test_asii, y_train_asii, y_test_asii = train_test_split(asii_X, asii_y, test_size=0.33, random_state=42)\n",
    "\n",
    "X_train_asii = reshape_data(X_train_asii,1)\n",
    "X_test_asii = reshape_data(X_test_asii,1)\n"
   ]
  },
  {
   "cell_type": "code",
   "execution_count": 23,
   "metadata": {},
   "outputs": [
    {
     "name": "stdout",
     "output_type": "stream",
     "text": [
      "Model: \"sequential_1\"\n",
      "_________________________________________________________________\n",
      " Layer (type)                Output Shape              Param #   \n",
      "=================================================================\n",
      " lstm_1 (LSTM)               (None, 32)                4352      \n",
      "                                                                 \n",
      " dense_1 (Dense)             (None, 1)                 33        \n",
      "                                                                 \n",
      "=================================================================\n",
      "Total params: 4,385\n",
      "Trainable params: 4,385\n",
      "Non-trainable params: 0\n",
      "_________________________________________________________________\n",
      "Epoch 1/150\n",
      "216/216 [==============================] - 3s 4ms/step - loss: 0.0436 - mae: 0.0436 - val_loss: 0.0234 - val_mae: 0.0234\n",
      "Epoch 2/150\n",
      "216/216 [==============================] - 1s 3ms/step - loss: 0.0229 - mae: 0.0229 - val_loss: 0.0292 - val_mae: 0.0292\n",
      "Epoch 3/150\n",
      "216/216 [==============================] - 1s 3ms/step - loss: 0.0231 - mae: 0.0231 - val_loss: 0.0218 - val_mae: 0.0218\n",
      "Epoch 4/150\n",
      "216/216 [==============================] - 1s 3ms/step - loss: 0.0224 - mae: 0.0224 - val_loss: 0.0200 - val_mae: 0.0200\n",
      "Epoch 5/150\n",
      "216/216 [==============================] - 1s 3ms/step - loss: 0.0220 - mae: 0.0220 - val_loss: 0.0171 - val_mae: 0.0171\n",
      "Epoch 6/150\n",
      "216/216 [==============================] - 1s 3ms/step - loss: 0.0224 - mae: 0.0224 - val_loss: 0.0178 - val_mae: 0.0178\n",
      "Epoch 7/150\n",
      "216/216 [==============================] - 1s 3ms/step - loss: 0.0203 - mae: 0.0203 - val_loss: 0.0185 - val_mae: 0.0185\n",
      "Epoch 8/150\n",
      "216/216 [==============================] - 1s 3ms/step - loss: 0.0208 - mae: 0.0208 - val_loss: 0.0168 - val_mae: 0.0168\n",
      "Epoch 9/150\n",
      "216/216 [==============================] - 1s 3ms/step - loss: 0.0220 - mae: 0.0220 - val_loss: 0.0179 - val_mae: 0.0179\n",
      "Epoch 10/150\n",
      "216/216 [==============================] - 1s 3ms/step - loss: 0.0199 - mae: 0.0199 - val_loss: 0.0164 - val_mae: 0.0164\n",
      "Epoch 11/150\n",
      "216/216 [==============================] - 1s 3ms/step - loss: 0.0184 - mae: 0.0184 - val_loss: 0.0293 - val_mae: 0.0293\n",
      "Epoch 12/150\n",
      "216/216 [==============================] - 1s 3ms/step - loss: 0.0183 - mae: 0.0183 - val_loss: 0.0177 - val_mae: 0.0177\n",
      "Epoch 13/150\n",
      "216/216 [==============================] - 1s 3ms/step - loss: 0.0180 - mae: 0.0180 - val_loss: 0.0301 - val_mae: 0.0301\n",
      "Epoch 14/150\n",
      "216/216 [==============================] - 1s 3ms/step - loss: 0.0187 - mae: 0.0187 - val_loss: 0.0341 - val_mae: 0.0341\n",
      "Epoch 15/150\n",
      "216/216 [==============================] - 1s 3ms/step - loss: 0.0183 - mae: 0.0183 - val_loss: 0.0156 - val_mae: 0.0156\n",
      "Epoch 16/150\n",
      "216/216 [==============================] - 1s 3ms/step - loss: 0.0192 - mae: 0.0192 - val_loss: 0.0202 - val_mae: 0.0202\n",
      "Epoch 17/150\n",
      "216/216 [==============================] - 1s 3ms/step - loss: 0.0183 - mae: 0.0183 - val_loss: 0.0169 - val_mae: 0.0169\n",
      "Epoch 18/150\n",
      "216/216 [==============================] - 1s 3ms/step - loss: 0.0193 - mae: 0.0193 - val_loss: 0.0163 - val_mae: 0.0163\n",
      "Epoch 19/150\n",
      "216/216 [==============================] - 1s 3ms/step - loss: 0.0184 - mae: 0.0184 - val_loss: 0.0167 - val_mae: 0.0167\n",
      "Epoch 20/150\n",
      "216/216 [==============================] - 1s 3ms/step - loss: 0.0193 - mae: 0.0193 - val_loss: 0.0178 - val_mae: 0.0178\n",
      "Epoch 21/150\n",
      "216/216 [==============================] - 1s 3ms/step - loss: 0.0185 - mae: 0.0185 - val_loss: 0.0205 - val_mae: 0.0205\n",
      "Epoch 22/150\n",
      "216/216 [==============================] - 1s 3ms/step - loss: 0.0182 - mae: 0.0182 - val_loss: 0.0152 - val_mae: 0.0152\n",
      "Epoch 23/150\n",
      "216/216 [==============================] - 1s 3ms/step - loss: 0.0181 - mae: 0.0181 - val_loss: 0.0159 - val_mae: 0.0159\n",
      "Epoch 24/150\n",
      "216/216 [==============================] - 1s 3ms/step - loss: 0.0177 - mae: 0.0177 - val_loss: 0.0180 - val_mae: 0.0180\n",
      "Epoch 25/150\n",
      "216/216 [==============================] - 1s 3ms/step - loss: 0.0170 - mae: 0.0170 - val_loss: 0.0154 - val_mae: 0.0154\n",
      "Epoch 26/150\n",
      "216/216 [==============================] - 1s 3ms/step - loss: 0.0187 - mae: 0.0187 - val_loss: 0.0239 - val_mae: 0.0239\n",
      "Epoch 27/150\n",
      "216/216 [==============================] - 1s 3ms/step - loss: 0.0176 - mae: 0.0176 - val_loss: 0.0160 - val_mae: 0.0160\n",
      "Epoch 28/150\n",
      "216/216 [==============================] - 1s 3ms/step - loss: 0.0176 - mae: 0.0176 - val_loss: 0.0186 - val_mae: 0.0186\n",
      "Epoch 29/150\n",
      "216/216 [==============================] - 1s 3ms/step - loss: 0.0177 - mae: 0.0177 - val_loss: 0.0162 - val_mae: 0.0162\n",
      "Epoch 30/150\n",
      "216/216 [==============================] - 1s 3ms/step - loss: 0.0179 - mae: 0.0179 - val_loss: 0.0166 - val_mae: 0.0166\n",
      "Epoch 31/150\n",
      "216/216 [==============================] - 1s 3ms/step - loss: 0.0175 - mae: 0.0175 - val_loss: 0.0259 - val_mae: 0.0259\n",
      "Epoch 32/150\n",
      "216/216 [==============================] - 1s 3ms/step - loss: 0.0183 - mae: 0.0183 - val_loss: 0.0153 - val_mae: 0.0153\n",
      "Epoch 33/150\n",
      "216/216 [==============================] - 1s 3ms/step - loss: 0.0179 - mae: 0.0179 - val_loss: 0.0165 - val_mae: 0.0165\n",
      "Epoch 34/150\n",
      "216/216 [==============================] - 1s 3ms/step - loss: 0.0170 - mae: 0.0170 - val_loss: 0.0163 - val_mae: 0.0163\n",
      "Epoch 35/150\n",
      "216/216 [==============================] - 1s 6ms/step - loss: 0.0178 - mae: 0.0178 - val_loss: 0.0159 - val_mae: 0.0159\n"
     ]
    }
   ],
   "source": [
    "cfg_asii = [32,'relu',3,1,0.01,8,150]\n",
    "model_asii,history_asii_model,  = train_vanila_lstm(X_train_asii,y_train_asii,cfg_asii)"
   ]
  },
  {
   "cell_type": "code",
   "execution_count": 24,
   "metadata": {},
   "outputs": [
    {
     "name": "stdout",
     "output_type": "stream",
     "text": [
      "34/34 [==============================] - 0s 2ms/step\n",
      "Matriks score for asii\n",
      "mae score: 0.015356228959468214\n",
      "r2 score 0.9897782633935417\n",
      "mape score 0.03388978778369457\n",
      "rmse score 0.02026853194562577\n",
      "round_up\n",
      "mae score: 0.0154\n",
      "r2 score 0.9898\n",
      "mape score 0.0339\n",
      "rmse score 0.0203\n"
     ]
    }
   ],
   "source": [
    "preds_asii = model_asii.predict(X_test_asii)\n",
    "matriks_evaluate(preds_asii,y_test_asii,'asii',4)"
   ]
  },
  {
   "cell_type": "code",
   "execution_count": 25,
   "metadata": {},
   "outputs": [
    {
     "name": "stdout",
     "output_type": "stream",
     "text": [
      "68/68 [==============================] - 0s 2ms/step\n",
      "Matriks score for asii\n",
      "mae score: 0.015685107357574425\n",
      "r2 score 0.9891866035535912\n",
      "mape score 0.03396726797326113\n",
      "rmse score 0.020974669281089046\n",
      "round_up\n",
      "mae score: 0.0157\n",
      "r2 score 0.9892\n",
      "mape score 0.034\n",
      "rmse score 0.021\n"
     ]
    }
   ],
   "source": [
    "preds_asii_train = model_asii.predict(X_train_asii)\n",
    "matriks_evaluate(preds_asii_train,y_train_asii,'asii',4)"
   ]
  },
  {
   "cell_type": "code",
   "execution_count": 26,
   "metadata": {},
   "outputs": [
    {
     "data": {
      "image/png": "[encoded data removed]",
      "text/plain": [
       "<Figure size 640x480 with 1 Axes>"
      ]
     },
     "metadata": {},
     "output_type": "display_data"
    }
   ],
   "source": [
    "plt.plot(history_asii_model.history['loss'], label='loss asii')\n",
    "plt.plot(history_asii_model.history['val_loss'], label = 'val loss asii')\n",
    "plt.title('model loss lstm asii')\n",
    "plt.ylabel('loss')\n",
    "plt.xlabel('epoch')\n",
    "plt.legend(loc='upper left')\n",
    "plt.savefig('loss_lstm_asii', dpi=3600)"
   ]
  },
  {
   "cell_type": "markdown",
   "metadata": {},
   "source": [
    "## ICBP\n"
   ]
  },
  {
   "cell_type": "code",
   "execution_count": 27,
   "metadata": {},
   "outputs": [],
   "source": [
    "#get data and normalize data\n",
    "df_icbp = normalize_data(data_close.icbp,'icbp')\n",
    "#reset index\n",
    "df_icbp = reset_index_data(df_icbp)\n",
    "#data to supervised\n",
    "icbp_X, icbp_y = split_sequence(df_icbp, 1)\n",
    "#split to train and test\n",
    "X_train_icbp, X_test_icbp, y_train_icbp, y_test_icbp = train_test_split(icbp_X, icbp_y, test_size=0.33, random_state=42)\n",
    "\n",
    "X_train_icbp = reshape_data(X_train_icbp,1)\n",
    "X_test_icbp = reshape_data(X_test_icbp,1)\n"
   ]
  },
  {
   "cell_type": "code",
   "execution_count": 28,
   "metadata": {},
   "outputs": [
    {
     "name": "stdout",
     "output_type": "stream",
     "text": [
      "Model: \"sequential_2\"\n",
      "_________________________________________________________________\n",
      " Layer (type)                Output Shape              Param #   \n",
      "=================================================================\n",
      " lstm_2 (LSTM)               (None, 8)                 320       \n",
      "                                                                 \n",
      " dense_2 (Dense)             (None, 1)                 9         \n",
      "                                                                 \n",
      "=================================================================\n",
      "Total params: 329\n",
      "Trainable params: 329\n",
      "Non-trainable params: 0\n",
      "_________________________________________________________________\n",
      "Epoch 1/200\n",
      "108/108 [==============================] - 2s 6ms/step - loss: 0.1371 - mae: 0.1371 - val_loss: 0.0254 - val_mae: 0.0254\n",
      "Epoch 2/200\n",
      "108/108 [==============================] - 0s 3ms/step - loss: 0.0258 - mae: 0.0258 - val_loss: 0.0210 - val_mae: 0.0210\n",
      "Epoch 3/200\n",
      "108/108 [==============================] - 0s 3ms/step - loss: 0.0220 - mae: 0.0220 - val_loss: 0.0197 - val_mae: 0.0197\n",
      "Epoch 4/200\n",
      "108/108 [==============================] - 0s 3ms/step - loss: 0.0202 - mae: 0.0202 - val_loss: 0.0153 - val_mae: 0.0153\n",
      "Epoch 5/200\n",
      "108/108 [==============================] - 0s 3ms/step - loss: 0.0168 - mae: 0.0168 - val_loss: 0.0132 - val_mae: 0.0132\n",
      "Epoch 6/200\n",
      "108/108 [==============================] - 0s 3ms/step - loss: 0.0154 - mae: 0.0154 - val_loss: 0.0143 - val_mae: 0.0143\n",
      "Epoch 7/200\n",
      "108/108 [==============================] - 0s 3ms/step - loss: 0.0136 - mae: 0.0136 - val_loss: 0.0099 - val_mae: 0.0099\n",
      "Epoch 8/200\n",
      "108/108 [==============================] - 0s 3ms/step - loss: 0.0099 - mae: 0.0099 - val_loss: 0.0080 - val_mae: 0.0080\n",
      "Epoch 9/200\n",
      "108/108 [==============================] - 0s 3ms/step - loss: 0.0090 - mae: 0.0090 - val_loss: 0.0080 - val_mae: 0.0080\n",
      "Epoch 10/200\n",
      "108/108 [==============================] - 0s 3ms/step - loss: 0.0085 - mae: 0.0085 - val_loss: 0.0076 - val_mae: 0.0076\n",
      "Epoch 11/200\n",
      "108/108 [==============================] - 0s 3ms/step - loss: 0.0082 - mae: 0.0082 - val_loss: 0.0077 - val_mae: 0.0077\n",
      "Epoch 12/200\n",
      "108/108 [==============================] - 0s 4ms/step - loss: 0.0083 - mae: 0.0083 - val_loss: 0.0083 - val_mae: 0.0083\n",
      "Epoch 13/200\n",
      "108/108 [==============================] - 0s 3ms/step - loss: 0.0083 - mae: 0.0083 - val_loss: 0.0080 - val_mae: 0.0080\n",
      "Epoch 14/200\n",
      "108/108 [==============================] - 0s 4ms/step - loss: 0.0082 - mae: 0.0082 - val_loss: 0.0079 - val_mae: 0.0079\n",
      "Epoch 15/200\n",
      "108/108 [==============================] - 0s 3ms/step - loss: 0.0085 - mae: 0.0085 - val_loss: 0.0078 - val_mae: 0.0078\n",
      "Epoch 16/200\n",
      "108/108 [==============================] - 0s 3ms/step - loss: 0.0091 - mae: 0.0091 - val_loss: 0.0095 - val_mae: 0.0095\n",
      "Epoch 17/200\n",
      "108/108 [==============================] - 0s 3ms/step - loss: 0.0087 - mae: 0.0087 - val_loss: 0.0083 - val_mae: 0.0083\n",
      "Epoch 18/200\n",
      "108/108 [==============================] - 0s 3ms/step - loss: 0.0085 - mae: 0.0085 - val_loss: 0.0085 - val_mae: 0.0085\n",
      "Epoch 19/200\n",
      "108/108 [==============================] - 0s 3ms/step - loss: 0.0094 - mae: 0.0094 - val_loss: 0.0079 - val_mae: 0.0079\n",
      "Epoch 20/200\n",
      "108/108 [==============================] - 0s 3ms/step - loss: 0.0086 - mae: 0.0086 - val_loss: 0.0082 - val_mae: 0.0082\n",
      "Epoch 21/200\n",
      "108/108 [==============================] - 0s 3ms/step - loss: 0.0087 - mae: 0.0087 - val_loss: 0.0080 - val_mae: 0.0080\n",
      "Epoch 22/200\n",
      "108/108 [==============================] - 0s 3ms/step - loss: 0.0094 - mae: 0.0094 - val_loss: 0.0083 - val_mae: 0.0083\n",
      "Epoch 23/200\n",
      "108/108 [==============================] - 0s 3ms/step - loss: 0.0089 - mae: 0.0089 - val_loss: 0.0076 - val_mae: 0.0076\n",
      "Epoch 24/200\n",
      "108/108 [==============================] - 0s 3ms/step - loss: 0.0085 - mae: 0.0085 - val_loss: 0.0103 - val_mae: 0.0103\n",
      "Epoch 25/200\n",
      "108/108 [==============================] - 0s 3ms/step - loss: 0.0094 - mae: 0.0094 - val_loss: 0.0076 - val_mae: 0.0076\n",
      "Epoch 26/200\n",
      "108/108 [==============================] - 0s 3ms/step - loss: 0.0085 - mae: 0.0085 - val_loss: 0.0078 - val_mae: 0.0078\n",
      "Epoch 27/200\n",
      "108/108 [==============================] - 0s 3ms/step - loss: 0.0089 - mae: 0.0089 - val_loss: 0.0083 - val_mae: 0.0083\n",
      "Epoch 28/200\n",
      "108/108 [==============================] - 0s 3ms/step - loss: 0.0088 - mae: 0.0088 - val_loss: 0.0081 - val_mae: 0.0081\n"
     ]
    }
   ],
   "source": [
    "# neuron, activation, n_steps, n_features,learning_rate, batch_size,epochs\n",
    "cfg_icbp = [8,'relu',1,1,0.01,16,200]\n",
    "model_icbp,history_icbp_model,  = train_vanila_lstm(X_train_icbp,y_train_icbp,cfg_icbp)"
   ]
  },
  {
   "cell_type": "code",
   "execution_count": 29,
   "metadata": {},
   "outputs": [
    {
     "name": "stdout",
     "output_type": "stream",
     "text": [
      "34/34 [==============================] - 0s 2ms/step\n",
      "Matriks score for icbp\n",
      "mae score: 0.008065565193525128\n",
      "r2 score 0.9982614520541455\n",
      "mape score 0.03477077817995316\n",
      "rmse score 0.011666237632793345\n",
      "round_up\n",
      "mae score: 0.0081\n",
      "r2 score 0.9983\n",
      "mape score 0.0348\n",
      "rmse score 0.0117\n"
     ]
    }
   ],
   "source": [
    "preds_icbp = model_icbp.predict(X_test_icbp)\n",
    "matriks_evaluate(preds_icbp,y_test_icbp,'icbp',4)"
   ]
  },
  {
   "cell_type": "code",
   "execution_count": 30,
   "metadata": {},
   "outputs": [
    {
     "name": "stdout",
     "output_type": "stream",
     "text": [
      "68/68 [==============================] - 0s 2ms/step\n",
      "Matriks score for icbp\n",
      "mae score: 0.008354521133273552\n",
      "r2 score 0.9979796839947477\n",
      "mape score 0.033718572630356186\n",
      "rmse score 0.012327776724934087\n",
      "round_up\n",
      "mae score: 0.0084\n",
      "r2 score 0.998\n",
      "mape score 0.0337\n",
      "rmse score 0.0123\n"
     ]
    }
   ],
   "source": [
    "preds_icbp_train = model_icbp.predict(X_train_icbp)\n",
    "matriks_evaluate(preds_icbp_train,y_train_icbp,'icbp',4)"
   ]
  },
  {
   "cell_type": "code",
   "execution_count": 31,
   "metadata": {},
   "outputs": [
    {
     "data": {
      "text/plain": [
       "0.01"
      ]
     },
     "execution_count": 31,
     "metadata": {},
     "output_type": "execute_result"
    }
   ],
   "source": [
    "# Matriks score for icbp\n",
    "pembulatan(0.007518278165003873\n",
    ",2)\n",
    "pembulatan(0.9980980760462315,2)\n",
    "pembulatan(0.03298193863122954,2)\n",
    "pembulatan(0.01215460388750067,2)"
   ]
  },
  {
   "cell_type": "code",
   "execution_count": 32,
   "metadata": {},
   "outputs": [
    {
     "data": {
      "image/png": "[encoded data removed]",
      "text/plain": [
       "<Figure size 640x480 with 1 Axes>"
      ]
     },
     "metadata": {},
     "output_type": "display_data"
    }
   ],
   "source": [
    "plt.plot(history_icbp_model.history['loss'], label='loss icbp')\n",
    "plt.plot(history_icbp_model.history['val_loss'], label = 'val loss icbp')\n",
    "plt.title('model loss lstm icbp')\n",
    "plt.ylabel('loss')\n",
    "plt.xlabel('epoch')\n",
    "plt.legend(loc='upper left')\n",
    "plt.savefig('loss_lstm_icbp', dpi=3600)"
   ]
  },
  {
   "cell_type": "markdown",
   "metadata": {},
   "source": [
    "## JSMR"
   ]
  },
  {
   "cell_type": "code",
   "execution_count": 33,
   "metadata": {},
   "outputs": [],
   "source": [
    "#get data and normalize data\n",
    "df_jsmr = normalize_data(data_close.jsmr,'jsmr')\n",
    "#reset index\n",
    "df_jsmr = reset_index_data(df_jsmr)\n",
    "#data to supervised\n",
    "jsmr_X, jsmr_y = split_sequence(df_jsmr, 1)\n",
    "#split to train and test\n",
    "X_train_jsmr, X_test_jsmr, y_train_jsmr, y_test_jsmr = train_test_split(jsmr_X, jsmr_y, test_size=0.33, random_state=42)\n",
    "\n",
    "X_train_jsmr = reshape_data(X_train_jsmr,1)\n",
    "X_test_jsmr = reshape_data(X_test_jsmr,1)\n"
   ]
  },
  {
   "cell_type": "code",
   "execution_count": 34,
   "metadata": {},
   "outputs": [
    {
     "name": "stdout",
     "output_type": "stream",
     "text": [
      "Model: \"sequential_3\"\n",
      "_________________________________________________________________\n",
      " Layer (type)                Output Shape              Param #   \n",
      "=================================================================\n",
      " lstm_3 (LSTM)               (None, 8)                 320       \n",
      "                                                                 \n",
      " dense_3 (Dense)             (None, 1)                 9         \n",
      "                                                                 \n",
      "=================================================================\n",
      "Total params: 329\n",
      "Trainable params: 329\n",
      "Non-trainable params: 0\n",
      "_________________________________________________________________\n",
      "Epoch 1/200\n",
      "108/108 [==============================] - 2s 5ms/step - loss: 0.2632 - mae: 0.2632 - val_loss: 0.1644 - val_mae: 0.1644\n",
      "Epoch 2/200\n",
      "108/108 [==============================] - 0s 2ms/step - loss: 0.1689 - mae: 0.1689 - val_loss: 0.1643 - val_mae: 0.1643\n",
      "Epoch 3/200\n",
      "108/108 [==============================] - 0s 3ms/step - loss: 0.1692 - mae: 0.1692 - val_loss: 0.1635 - val_mae: 0.1635\n",
      "Epoch 4/200\n",
      "108/108 [==============================] - 0s 3ms/step - loss: 0.1689 - mae: 0.1689 - val_loss: 0.1649 - val_mae: 0.1649\n",
      "Epoch 5/200\n",
      "108/108 [==============================] - 0s 3ms/step - loss: 0.1696 - mae: 0.1696 - val_loss: 0.1635 - val_mae: 0.1635\n",
      "Epoch 6/200\n",
      "108/108 [==============================] - 0s 3ms/step - loss: 0.1689 - mae: 0.1689 - val_loss: 0.1640 - val_mae: 0.1640\n",
      "Epoch 7/200\n",
      "108/108 [==============================] - 0s 3ms/step - loss: 0.1693 - mae: 0.1693 - val_loss: 0.1637 - val_mae: 0.1637\n",
      "Epoch 8/200\n",
      "108/108 [==============================] - 0s 3ms/step - loss: 0.1690 - mae: 0.1690 - val_loss: 0.1652 - val_mae: 0.1652\n",
      "Epoch 9/200\n",
      "108/108 [==============================] - 0s 3ms/step - loss: 0.1699 - mae: 0.1699 - val_loss: 0.1636 - val_mae: 0.1636\n",
      "Epoch 10/200\n",
      "108/108 [==============================] - 0s 3ms/step - loss: 0.1697 - mae: 0.1697 - val_loss: 0.1647 - val_mae: 0.1647\n",
      "Epoch 11/200\n",
      "108/108 [==============================] - 0s 3ms/step - loss: 0.1695 - mae: 0.1695 - val_loss: 0.1656 - val_mae: 0.1656\n",
      "Epoch 12/200\n",
      "108/108 [==============================] - 0s 3ms/step - loss: 0.1689 - mae: 0.1689 - val_loss: 0.1662 - val_mae: 0.1662\n",
      "Epoch 13/200\n",
      "108/108 [==============================] - 0s 3ms/step - loss: 0.1703 - mae: 0.1703 - val_loss: 0.1638 - val_mae: 0.1638\n",
      "Epoch 14/200\n",
      "108/108 [==============================] - 0s 3ms/step - loss: 0.1696 - mae: 0.1696 - val_loss: 0.1637 - val_mae: 0.1637\n",
      "Epoch 15/200\n",
      "108/108 [==============================] - 0s 3ms/step - loss: 0.1693 - mae: 0.1693 - val_loss: 0.1636 - val_mae: 0.1636\n",
      "Epoch 16/200\n",
      "108/108 [==============================] - 0s 3ms/step - loss: 0.1689 - mae: 0.1689 - val_loss: 0.1635 - val_mae: 0.1635\n",
      "Epoch 17/200\n",
      "108/108 [==============================] - 0s 3ms/step - loss: 0.1694 - mae: 0.1694 - val_loss: 0.1653 - val_mae: 0.1653\n",
      "Epoch 18/200\n",
      "108/108 [==============================] - 0s 4ms/step - loss: 0.1695 - mae: 0.1695 - val_loss: 0.1649 - val_mae: 0.1649\n",
      "Epoch 19/200\n",
      "108/108 [==============================] - 0s 4ms/step - loss: 0.1692 - mae: 0.1692 - val_loss: 0.1647 - val_mae: 0.1647\n",
      "Epoch 20/200\n",
      "108/108 [==============================] - 0s 3ms/step - loss: 0.1693 - mae: 0.1693 - val_loss: 0.1639 - val_mae: 0.1639\n",
      "Epoch 21/200\n",
      "108/108 [==============================] - 0s 3ms/step - loss: 0.1687 - mae: 0.1687 - val_loss: 0.1688 - val_mae: 0.1688\n"
     ]
    }
   ],
   "source": [
    "# neuron, activation, n_steps, n_features,learning_rate, batch_size,epochs\n",
    "cfg_jsmr = [8,'relu',1,1,0.01,16,200]\n",
    "model_jsmr,history_jsmr_model,  = train_vanila_lstm(X_train_jsmr,y_train_jsmr,cfg_jsmr)"
   ]
  },
  {
   "cell_type": "code",
   "execution_count": 35,
   "metadata": {},
   "outputs": [
    {
     "name": "stdout",
     "output_type": "stream",
     "text": [
      "34/34 [==============================] - 0s 3ms/step\n",
      "Matriks score for jsmr\n",
      "mae score: 0.17465907486019128\n",
      "r2 score -13358005685127.617\n",
      "mape score 0.29335692354117066\n",
      "rmse score 0.2178466651547627\n",
      "round_up\n",
      "mae score: 0.1747\n",
      "r2 score -13358005685127.617\n",
      "mape score 0.2934\n",
      "rmse score 0.2178\n"
     ]
    }
   ],
   "source": [
    "preds_jsmr = model_jsmr.predict(X_test_jsmr)\n",
    "matriks_evaluate(preds_jsmr,y_test_jsmr,'jsmr',4)"
   ]
  },
  {
   "cell_type": "code",
   "execution_count": 36,
   "metadata": {},
   "outputs": [
    {
     "name": "stdout",
     "output_type": "stream",
     "text": [
      "68/68 [==============================] - 0s 2ms/step\n",
      "Matriks score for jsmr\n",
      "mae score: 0.16784709574665194\n",
      "r2 score 0.0\n",
      "mape score 0.28191554130795876\n",
      "rmse score 0.21275222390136744\n",
      "round_up\n",
      "mae score: 0.1678\n",
      "r2 score 0.0\n",
      "mape score 0.2819\n",
      "rmse score 0.2128\n"
     ]
    }
   ],
   "source": [
    "preds_jsmr_train = model_jsmr.predict(X_train_jsmr)\n",
    "matriks_evaluate(preds_jsmr_train,y_train_jsmr,'jsmr',4)"
   ]
  },
  {
   "cell_type": "code",
   "execution_count": 37,
   "metadata": {},
   "outputs": [
    {
     "data": {
      "image/png": "[encoded data removed]",
      "text/plain": [
       "<Figure size 640x480 with 1 Axes>"
      ]
     },
     "metadata": {},
     "output_type": "display_data"
    }
   ],
   "source": [
    "plt.plot(history_jsmr_model.history['loss'], label='loss jsmr')\n",
    "plt.plot(history_jsmr_model.history['val_loss'], label = 'val loss jsmr')\n",
    "plt.title('model loss lstm jsmr')\n",
    "plt.ylabel('loss')\n",
    "plt.xlabel('epoch')\n",
    "plt.legend(loc='upper left')\n",
    "plt.savefig('loss_lstm_jsmr', dpi=3600)"
   ]
  },
  {
   "cell_type": "markdown",
   "metadata": {},
   "source": [
    "# BIDIRECTIONAL LSTM"
   ]
  },
  {
   "cell_type": "code",
   "execution_count": 38,
   "metadata": {},
   "outputs": [],
   "source": [
    "def train_bidirectional_lstm(X_train,y_train,config):\n",
    "    \n",
    "    #unpach config\n",
    "    neuron, activation, n_steps, n_features,learning_rate, batch_size,epochs = config\n",
    "    #define model \n",
    "    model_bidirectional_lstm = Sequential([\n",
    "    Bidirectional(LSTM(neuron, activation=activation),input_shape=(n_steps, n_features)),\n",
    "    Dense(1),\n",
    "    ])\n",
    "    model_bidirectional_lstm.compile(\n",
    "    optimizer=tf.keras.optimizers.Adam(learning_rate=learning_rate),\n",
    "    loss='mean_absolute_error',\n",
    "    metrics=['mae'],\n",
    "    )\n",
    "    early_stopping = EarlyStopping(\n",
    "    min_delta=0.001, # minimium amount of change to count as an improvement\n",
    "    patience=20, # how many epochs to wait before stopping\n",
    "    restore_best_weights=True,\n",
    "    )\n",
    "\n",
    "    model_bidirectional_lstm.summary()\n",
    "    history_bidirectional_lstm = model_bidirectional_lstm.fit(X_train, y_train, validation_split=0.2,\n",
    "          epochs=epochs,\n",
    "          batch_size=batch_size,\n",
    "          callbacks=[early_stopping],\n",
    "          shuffle = True\n",
    "    )\n",
    "\n",
    "    return model_bidirectional_lstm, history_bidirectional_lstm\n",
    "\n",
    "#time 41.8\n",
    "    "
   ]
  },
  {
   "cell_type": "markdown",
   "metadata": {},
   "source": [
    "## ANTM"
   ]
  },
  {
   "cell_type": "code",
   "execution_count": 39,
   "metadata": {},
   "outputs": [
    {
     "name": "stdout",
     "output_type": "stream",
     "text": [
      "Model: \"sequential_4\"\n",
      "_________________________________________________________________\n",
      " Layer (type)                Output Shape              Param #   \n",
      "=================================================================\n",
      " bidirectional (Bidirectiona  (None, 16)               640       \n",
      " l)                                                              \n",
      "                                                                 \n",
      " dense_4 (Dense)             (None, 1)                 17        \n",
      "                                                                 \n",
      "=================================================================\n",
      "Total params: 657\n",
      "Trainable params: 657\n",
      "Non-trainable params: 0\n",
      "_________________________________________________________________\n",
      "Epoch 1/200\n",
      "216/216 [==============================] - 5s 6ms/step - loss: 0.0354 - mae: 0.0354 - val_loss: 0.0172 - val_mae: 0.0172\n",
      "Epoch 2/200\n",
      "216/216 [==============================] - 1s 4ms/step - loss: 0.0265 - mae: 0.0265 - val_loss: 0.0327 - val_mae: 0.0327\n",
      "Epoch 3/200\n",
      "216/216 [==============================] - 1s 4ms/step - loss: 0.0214 - mae: 0.0214 - val_loss: 0.0263 - val_mae: 0.0263\n",
      "Epoch 4/200\n",
      "216/216 [==============================] - 1s 4ms/step - loss: 0.0218 - mae: 0.0218 - val_loss: 0.0203 - val_mae: 0.0203\n",
      "Epoch 5/200\n",
      "216/216 [==============================] - 1s 4ms/step - loss: 0.0218 - mae: 0.0218 - val_loss: 0.0302 - val_mae: 0.0302\n",
      "Epoch 6/200\n",
      "216/216 [==============================] - 1s 4ms/step - loss: 0.0221 - mae: 0.0221 - val_loss: 0.0195 - val_mae: 0.0195\n",
      "Epoch 7/200\n",
      "216/216 [==============================] - 1s 4ms/step - loss: 0.0172 - mae: 0.0172 - val_loss: 0.0114 - val_mae: 0.0114\n",
      "Epoch 8/200\n",
      "216/216 [==============================] - 1s 5ms/step - loss: 0.0174 - mae: 0.0174 - val_loss: 0.0159 - val_mae: 0.0159\n",
      "Epoch 9/200\n",
      "216/216 [==============================] - 1s 4ms/step - loss: 0.0200 - mae: 0.0200 - val_loss: 0.0116 - val_mae: 0.0116\n",
      "Epoch 10/200\n",
      "216/216 [==============================] - 1s 4ms/step - loss: 0.0202 - mae: 0.0202 - val_loss: 0.0255 - val_mae: 0.0255\n",
      "Epoch 11/200\n",
      "216/216 [==============================] - 1s 4ms/step - loss: 0.0171 - mae: 0.0171 - val_loss: 0.0168 - val_mae: 0.0168\n",
      "Epoch 12/200\n",
      "216/216 [==============================] - 1s 4ms/step - loss: 0.0216 - mae: 0.0216 - val_loss: 0.0223 - val_mae: 0.0223\n",
      "Epoch 13/200\n",
      "216/216 [==============================] - 1s 4ms/step - loss: 0.0206 - mae: 0.0206 - val_loss: 0.0175 - val_mae: 0.0175\n",
      "Epoch 14/200\n",
      "216/216 [==============================] - 1s 4ms/step - loss: 0.0165 - mae: 0.0165 - val_loss: 0.0173 - val_mae: 0.0173\n",
      "Epoch 15/200\n",
      "216/216 [==============================] - 1s 4ms/step - loss: 0.0183 - mae: 0.0183 - val_loss: 0.0120 - val_mae: 0.0120\n",
      "Epoch 16/200\n",
      "216/216 [==============================] - 1s 3ms/step - loss: 0.0208 - mae: 0.0208 - val_loss: 0.0135 - val_mae: 0.0135\n",
      "Epoch 17/200\n",
      "216/216 [==============================] - 1s 4ms/step - loss: 0.0210 - mae: 0.0210 - val_loss: 0.0197 - val_mae: 0.0197\n",
      "Epoch 18/200\n",
      "216/216 [==============================] - 1s 4ms/step - loss: 0.0185 - mae: 0.0185 - val_loss: 0.0466 - val_mae: 0.0466\n",
      "Epoch 19/200\n",
      "216/216 [==============================] - 1s 4ms/step - loss: 0.0191 - mae: 0.0191 - val_loss: 0.0189 - val_mae: 0.0189\n",
      "Epoch 20/200\n",
      "216/216 [==============================] - 1s 4ms/step - loss: 0.0177 - mae: 0.0177 - val_loss: 0.0189 - val_mae: 0.0189\n",
      "Epoch 21/200\n",
      "216/216 [==============================] - 1s 4ms/step - loss: 0.0221 - mae: 0.0221 - val_loss: 0.0313 - val_mae: 0.0313\n",
      "Epoch 22/200\n",
      "216/216 [==============================] - 1s 4ms/step - loss: 0.0228 - mae: 0.0228 - val_loss: 0.0210 - val_mae: 0.0210\n",
      "Epoch 23/200\n",
      "216/216 [==============================] - 1s 3ms/step - loss: 0.0209 - mae: 0.0209 - val_loss: 0.0398 - val_mae: 0.0398\n",
      "Epoch 24/200\n",
      "216/216 [==============================] - 1s 3ms/step - loss: 0.0212 - mae: 0.0212 - val_loss: 0.0170 - val_mae: 0.0170\n",
      "Epoch 25/200\n",
      "216/216 [==============================] - 1s 4ms/step - loss: 0.0207 - mae: 0.0207 - val_loss: 0.0105 - val_mae: 0.0105\n",
      "Epoch 26/200\n",
      "216/216 [==============================] - 1s 4ms/step - loss: 0.0182 - mae: 0.0182 - val_loss: 0.0198 - val_mae: 0.0198\n",
      "Epoch 27/200\n",
      "216/216 [==============================] - 1s 4ms/step - loss: 0.0196 - mae: 0.0196 - val_loss: 0.0286 - val_mae: 0.0286\n"
     ]
    }
   ],
   "source": [
    "cfg_antm = [8,'relu',2,1,0.1,8,200]\n",
    "model_bidirectional_antm,history_antm_model_bidirectional,  = train_bidirectional_lstm(X_train_antm,y_train_antm,cfg_antm)"
   ]
  },
  {
   "cell_type": "code",
   "execution_count": 40,
   "metadata": {},
   "outputs": [
    {
     "name": "stdout",
     "output_type": "stream",
     "text": [
      "34/34 [==============================] - 1s 2ms/step\n",
      "Matriks score for antm\n",
      "mae score: 0.011821629664757463\n",
      "r2 score 0.9910410561387006\n",
      "mape score 0.05208952341802816\n",
      "rmse score 0.018744882872918082\n",
      "round_up\n",
      "mae score: 0.0118\n",
      "r2 score 0.991\n",
      "mape score 0.0521\n",
      "rmse score 0.0187\n"
     ]
    }
   ],
   "source": [
    "preds_antm_bidirectional = model_bidirectional_antm.predict(X_test_antm)\n",
    "matriks_evaluate(preds_antm_bidirectional,y_test_antm,'antm',4)"
   ]
  },
  {
   "cell_type": "code",
   "execution_count": 41,
   "metadata": {},
   "outputs": [
    {
     "name": "stdout",
     "output_type": "stream",
     "text": [
      "68/68 [==============================] - 0s 3ms/step\n",
      "Matriks score for antm\n",
      "mae score: 0.011534306461135463\n",
      "r2 score 0.9911648423093073\n",
      "mape score 0.055254914440462204\n",
      "rmse score 0.018023710219139694\n",
      "round_up\n",
      "mae score: 0.0115\n",
      "r2 score 0.9912\n",
      "mape score 0.0553\n",
      "rmse score 0.018\n"
     ]
    }
   ],
   "source": [
    "preds_antm_bidirectional_train = model_bidirectional_antm.predict(X_train_antm)\n",
    "matriks_evaluate(preds_antm_bidirectional_train,y_train_antm,'antm',4)"
   ]
  },
  {
   "cell_type": "code",
   "execution_count": 42,
   "metadata": {},
   "outputs": [],
   "source": [
    "# Matriks score for antm\n",
    "# mae score: 0.008232755712539704\n",
    "# r2 score 0.9956862906506637\n",
    "# mape score 0.04528757310273332\n",
    "# rmse score 0.013190786339141062"
   ]
  },
  {
   "cell_type": "code",
   "execution_count": 43,
   "metadata": {},
   "outputs": [
    {
     "data": {
      "text/plain": [
       "0.0132"
      ]
     },
     "execution_count": 43,
     "metadata": {},
     "output_type": "execute_result"
    }
   ],
   "source": [
    "# Matriks score for icbp\n",
    "pembulatan(0.008232755712539704\n",
    ",4)\n",
    "pembulatan(0.9956862906506637,4)\n",
    "pembulatan(0.04528757310273332,4)\n",
    "pembulatan(0.013190786339141062,4)"
   ]
  },
  {
   "cell_type": "code",
   "execution_count": 44,
   "metadata": {},
   "outputs": [
    {
     "data": {
      "image/png": "[encoded data removed]",
      "text/plain": [
       "<Figure size 640x480 with 1 Axes>"
      ]
     },
     "metadata": {},
     "output_type": "display_data"
    }
   ],
   "source": [
    "plt.plot(history_antm_model_bidirectional.history['loss'], label='loss antm')\n",
    "plt.plot(history_antm_model_bidirectional.history['val_loss'], label = 'val loss antm')\n",
    "plt.title('model loss bi_lstm antm')\n",
    "plt.ylabel('loss')\n",
    "plt.xlabel('epoch')\n",
    "plt.legend(loc='upper left')\n",
    "plt.savefig('loss_lstm_antm_bidirection', dpi=3600)"
   ]
  },
  {
   "cell_type": "markdown",
   "metadata": {},
   "source": [
    "## ASII"
   ]
  },
  {
   "cell_type": "code",
   "execution_count": 45,
   "metadata": {},
   "outputs": [
    {
     "name": "stdout",
     "output_type": "stream",
     "text": [
      "Model: \"sequential_5\"\n",
      "_________________________________________________________________\n",
      " Layer (type)                Output Shape              Param #   \n",
      "=================================================================\n",
      " bidirectional_1 (Bidirectio  (None, 64)               8704      \n",
      " nal)                                                            \n",
      "                                                                 \n",
      " dense_5 (Dense)             (None, 1)                 65        \n",
      "                                                                 \n",
      "=================================================================\n",
      "Total params: 8,769\n",
      "Trainable params: 8,769\n",
      "Non-trainable params: 0\n",
      "_________________________________________________________________\n",
      "Epoch 1/150\n",
      "216/216 [==============================] - 4s 6ms/step - loss: 0.0473 - mae: 0.0473 - val_loss: 0.0306 - val_mae: 0.0306\n",
      "Epoch 2/150\n",
      "216/216 [==============================] - 1s 6ms/step - loss: 0.0253 - mae: 0.0253 - val_loss: 0.0271 - val_mae: 0.0271\n",
      "Epoch 3/150\n",
      "216/216 [==============================] - 1s 5ms/step - loss: 0.0219 - mae: 0.0219 - val_loss: 0.0531 - val_mae: 0.0531\n",
      "Epoch 4/150\n",
      "216/216 [==============================] - 1s 5ms/step - loss: 0.0246 - mae: 0.0246 - val_loss: 0.0192 - val_mae: 0.0192\n",
      "Epoch 5/150\n",
      "216/216 [==============================] - 1s 6ms/step - loss: 0.0204 - mae: 0.0204 - val_loss: 0.0179 - val_mae: 0.0179\n",
      "Epoch 6/150\n",
      "216/216 [==============================] - 1s 6ms/step - loss: 0.0222 - mae: 0.0222 - val_loss: 0.0221 - val_mae: 0.0221\n",
      "Epoch 7/150\n",
      "216/216 [==============================] - 1s 7ms/step - loss: 0.0212 - mae: 0.0212 - val_loss: 0.0175 - val_mae: 0.0175\n",
      "Epoch 8/150\n",
      "214/216 [============================>.] - ETA: 0s - loss: 0.0213 - mae: 0.0213"
     ]
    }
   ],
   "source": [
    "cfg_asii = [32,'relu',3,1,0.01,8,150]\n",
    "model_bidirectional_asii,history_asii_model_bidirectional,  = train_bidirectional_lstm(X_train_asii,y_train_asii,cfg_asii)"
   ]
  },
  {
   "cell_type": "code",
   "execution_count": null,
   "metadata": {},
   "outputs": [],
   "source": [
    "preds_asii_bidirectional = model_bidirectional_asii.predict(X_test_asii)\n",
    "matriks_evaluate(preds_asii_bidirectional,y_test_asii,'asii',4)"
   ]
  },
  {
   "cell_type": "code",
   "execution_count": null,
   "metadata": {},
   "outputs": [],
   "source": [
    "preds_asii_bidirectional_train = model_bidirectional_asii.predict(X_train_asii)\n",
    "matriks_evaluate(preds_asii_bidirectional_train,y_train_asii,'asii',4)"
   ]
  },
  {
   "cell_type": "code",
   "execution_count": null,
   "metadata": {},
   "outputs": [],
   "source": [
    "plt.plot(history_asii_model_bidirectional.history['loss'], label='loss asii')\n",
    "plt.plot(history_asii_model_bidirectional.history['val_loss'], label = 'val loss asii')\n",
    "plt.title('model loss bi_lstm asii')\n",
    "plt.ylabel('loss')\n",
    "plt.xlabel('epoch')\n",
    "plt.legend(loc='upper left')\n",
    "plt.savefig('loss_lstm_asii_bidirection', dpi=3600)"
   ]
  },
  {
   "cell_type": "markdown",
   "metadata": {},
   "source": [
    "## ICBP"
   ]
  },
  {
   "cell_type": "code",
   "execution_count": null,
   "metadata": {},
   "outputs": [],
   "source": [
    "# neuron, activation, n_steps, n_features,learning_rate, batch_size,epochs\n",
    "cfg_icbp = [8,'relu',1,1,0.01,16,200]\n",
    "model_bidirectional_icbp,history_icbp_model_bidirectional,  = train_bidirectional_lstm(X_train_icbp,y_train_icbp,cfg_icbp)"
   ]
  },
  {
   "cell_type": "code",
   "execution_count": null,
   "metadata": {},
   "outputs": [],
   "source": [
    "preds_icbp_bidirectional = model_bidirectional_icbp.predict(X_test_icbp)\n",
    "matriks_evaluate(preds_icbp_bidirectional,y_test_icbp,'icbp',4)"
   ]
  },
  {
   "cell_type": "code",
   "execution_count": null,
   "metadata": {},
   "outputs": [],
   "source": [
    "preds_icbp_bidirectional_train = model_bidirectional_icbp.predict(X_train_icbp)\n",
    "matriks_evaluate(preds_icbp_bidirectional_train,y_train_icbp,'icbp',4)"
   ]
  },
  {
   "cell_type": "code",
   "execution_count": null,
   "metadata": {},
   "outputs": [],
   "source": [
    "plt.plot(history_icbp_model_bidirectional.history['loss'], label='loss icbp')\n",
    "plt.plot(history_icbp_model_bidirectional.history['val_loss'], label = 'val loss icbp')\n",
    "plt.title('model loss bi_lstm icbp')\n",
    "plt.ylabel('loss')\n",
    "plt.xlabel('epoch')\n",
    "plt.legend(loc='upper left')\n",
    "plt.savefig('loss_lstm_icbp_bidirection', dpi=3600)"
   ]
  },
  {
   "cell_type": "markdown",
   "metadata": {},
   "source": [
    "## JSMR"
   ]
  },
  {
   "cell_type": "code",
   "execution_count": null,
   "metadata": {},
   "outputs": [],
   "source": [
    "#get data and normalize data\n",
    "df_jsmr = normalize_data(data_close.jsmr,'jsmr')\n",
    "#reset index\n",
    "df_jsmr = reset_index_data(df_jsmr)\n",
    "#data to supervised\n",
    "jsmr_X, jsmr_y = split_sequence(df_jsmr, 1)\n",
    "#split to train and test\n",
    "X_train_jsmr, X_test_jsmr, y_train_jsmr, y_test_jsmr = train_test_split(jsmr_X, jsmr_y, test_size=0.33, random_state=42)\n",
    "\n",
    "X_train_jsmr = reshape_data(X_train_jsmr,1)\n",
    "X_test_jsmr = reshape_data(X_test_jsmr,1)\n",
    "\n",
    "\n",
    "# neuron, activation, n_steps, n_features,learning_rate, batch_size,epochs\n",
    "cfg_jsmr = [8,'relu',1,1,0.01,16,200]\n",
    "model_bidirectional_jsmr,history_jsmr_model_bidirectional,  = train_bidirectional_lstm(X_train_jsmr,y_train_jsmr,cfg_jsmr)"
   ]
  },
  {
   "cell_type": "code",
   "execution_count": null,
   "metadata": {},
   "outputs": [],
   "source": [
    "preds_jsmr_bidirectional = model_bidirectional_jsmr.predict(X_test_jsmr)\n",
    "matriks_evaluate(preds_jsmr_bidirectional,y_test_jsmr,'jsmr',4)"
   ]
  },
  {
   "cell_type": "code",
   "execution_count": null,
   "metadata": {},
   "outputs": [],
   "source": [
    "preds_jsmr_bidirectional_train = model_bidirectional_jsmr.predict(X_train_jsmr)\n",
    "matriks_evaluate(preds_jsmr_bidirectional_train,y_train_jsmr,'jsmr',4)"
   ]
  },
  {
   "cell_type": "code",
   "execution_count": null,
   "metadata": {},
   "outputs": [],
   "source": [
    "plt.plot(history_jsmr_model_bidirectional.history['loss'], label='loss jsmr')\n",
    "plt.plot(history_jsmr_model_bidirectional.history['val_loss'], label = 'val loss jsmr')\n",
    "plt.title('model loss bi_lstm jsmr')\n",
    "plt.ylabel('loss')\n",
    "plt.xlabel('epoch')\n",
    "plt.legend(loc='upper left')\n",
    "plt.savefig('loss_lstm_jsmr_bidirection', dpi=3600)"
   ]
  },
  {
   "cell_type": "markdown",
   "metadata": {},
   "source": [
    "# CNN-LSTM"
   ]
  },
  {
   "cell_type": "code",
   "execution_count": null,
   "metadata": {},
   "outputs": [],
   "source": [
    "from keras.layers import Flatten \n",
    "from keras.layers import TimeDistributed \n",
    "from keras.layers.convolutional import Conv1D \n",
    "from keras.layers.convolutional import MaxPooling1D"
   ]
  },
  {
   "cell_type": "code",
   "execution_count": null,
   "metadata": {},
   "outputs": [],
   "source": [
    "def train_cnn_lstm(X_train,y_train,config):\n",
    "    \n",
    "    #unpach config\n",
    "    neuron, activation, n_steps,n_features,learning_rate, batch_size,epochs = config\n",
    "    #define model \n",
    "    model_cnn_lstm = Sequential()\n",
    "    model_cnn_lstm.add(TimeDistributed(Conv1D(64,1,activation=activation), input_shape=(None,n_steps,n_features)))\n",
    "    model_cnn_lstm.add(TimeDistributed(MaxPooling1D()))\n",
    "    model_cnn_lstm.add(TimeDistributed(Flatten()))\n",
    "    model_cnn_lstm.add(LSTM(neuron, activation=activation))\n",
    "    model_cnn_lstm.add(Dense(1))\n",
    "    model_cnn_lstm.compile(\n",
    "    optimizer=tf.keras.optimizers.Adam(learning_rate=learning_rate),\n",
    "    loss='mean_absolute_error',\n",
    "    metrics=['mae'],\n",
    "    )\n",
    "    early_stopping = EarlyStopping(\n",
    "    min_delta=0.001, # minimium amount of change to count as an improvement\n",
    "    patience=20, # how many epochs to wait before stopping\n",
    "    restore_best_weights=True,\n",
    "    )\n",
    "\n",
    "    model_cnn_lstm.summary()\n",
    "    history_cnn_lstm = model_cnn_lstm.fit(X_train, y_train, validation_split=0.2,\n",
    "          epochs=epochs,\n",
    "          batch_size=batch_size,\n",
    "          callbacks=[early_stopping],\n",
    "          shuffle = True\n",
    "    )\n",
    "\n",
    "    return model_cnn_lstm, history_cnn_lstm\n",
    "\n",
    "#time 41.8\n",
    "    "
   ]
  },
  {
   "cell_type": "code",
   "execution_count": null,
   "metadata": {},
   "outputs": [],
   "source": [
    "def reshape_data_cnn(X,N_FEATURES, N_SEQ, N_STEPS):\n",
    "    X = X.reshape(X.shape[0],N_SEQ,N_STEPS,N_FEATURES)\n",
    "    return X"
   ]
  },
  {
   "cell_type": "markdown",
   "metadata": {},
   "source": [
    "## ANTM"
   ]
  },
  {
   "cell_type": "code",
   "execution_count": null,
   "metadata": {},
   "outputs": [],
   "source": [
    "#get data and normalize data\n",
    "df_antm_cnn = normalize_data(data_close.antm,'antm')\n",
    "#reset index\n",
    "df_antm_cnn = reset_index_data(df_antm_cnn)\n",
    "#data to supervised\n",
    "antm_X_cnn, antm_y_cnn = split_sequence(df_antm_cnn, 2)\n",
    "#split to train and test\n",
    "X_train_antm_cnn, X_test_antm_cnn, y_train_antm_cnn, y_test_antm_cnn = train_test_split(antm_X_cnn, antm_y_cnn, test_size=0.33, random_state=44)\n",
    "\n",
    "X_train_antm_cnn = reshape_data_cnn(X_train_antm_cnn,1,1,2)\n",
    "X_test_antm_cnn = reshape_data_cnn(X_test_antm_cnn,1,1,2)"
   ]
  },
  {
   "cell_type": "code",
   "execution_count": null,
   "metadata": {},
   "outputs": [],
   "source": [
    "cfg_antm_cnn = [8,'relu',2,1,0.1,8,200]\n",
    "model_cnn_antm,history_cnn_antm_model,  = train_cnn_lstm(X_train_antm_cnn,y_train_antm_cnn,cfg_antm_cnn)"
   ]
  },
  {
   "cell_type": "code",
   "execution_count": null,
   "metadata": {},
   "outputs": [],
   "source": [
    "preds_antm_cnn_lstm = model_cnn_antm.predict(X_test_antm_cnn)\n",
    "matriks_evaluate(preds_antm_cnn_lstm,y_test_antm_cnn,'antm',4)"
   ]
  },
  {
   "cell_type": "code",
   "execution_count": null,
   "metadata": {},
   "outputs": [],
   "source": [
    "preds_antm_cnn_lstm_train = model_cnn_antm.predict(X_train_antm_cnn)\n",
    "matriks_evaluate(preds_antm_cnn_lstm_train,y_train_antm_cnn,'antm',4)"
   ]
  },
  {
   "cell_type": "code",
   "execution_count": null,
   "metadata": {},
   "outputs": [],
   "source": [
    "plt.plot(history_cnn_antm_model.history['loss'], label='loss antm')\n",
    "plt.plot(history_cnn_antm_model.history['val_loss'], label = 'val loss antm')\n",
    "plt.title('model loss cnn_lstm antm')\n",
    "plt.ylabel('loss')\n",
    "plt.xlabel('epoch')\n",
    "plt.legend(loc='upper left')\n",
    "plt.savefig('loss_lstm_antm_cnn', dpi=3600)"
   ]
  },
  {
   "cell_type": "markdown",
   "metadata": {},
   "source": [
    "## ASII"
   ]
  },
  {
   "cell_type": "code",
   "execution_count": null,
   "metadata": {},
   "outputs": [],
   "source": [
    "#get data and normalize data\n",
    "df_asii_cnn = normalize_data(data_close.asii,'asii')\n",
    "#reset index\n",
    "df_asii_cnn = reset_index_data(df_asii_cnn)\n",
    "#data to supervised\n",
    "asii_X_cnn, asii_y_cnn = split_sequence(df_asii_cnn, 3)\n",
    "#split to train and test\n",
    "X_train_asii_cnn, X_test_asii_cnn, y_train_asii_cnn, y_test_asii_cnn = train_test_split(asii_X_cnn, asii_y_cnn, test_size=0.33, random_state=44)\n",
    "\n",
    "X_train_asii_cnn = reshape_data_cnn(X_train_asii_cnn,1,1,3)\n",
    "X_test_asii_cnn = reshape_data_cnn(X_test_asii_cnn,1,1,3)"
   ]
  },
  {
   "cell_type": "code",
   "execution_count": null,
   "metadata": {},
   "outputs": [],
   "source": [
    "cfg_asii_cnn = [32,'relu',3,1,0.1,8,150]\n",
    "model_cnn_asii,history_cnn_asii_model,  = train_cnn_lstm(X_train_asii_cnn,y_train_asii_cnn,cfg_asii_cnn)"
   ]
  },
  {
   "cell_type": "code",
   "execution_count": null,
   "metadata": {},
   "outputs": [],
   "source": [
    "preds_asii_cnn_lstm = model_cnn_asii.predict(X_test_asii_cnn)\n",
    "matriks_evaluate(preds_asii_cnn_lstm,y_test_asii_cnn,'asii',4)"
   ]
  },
  {
   "cell_type": "code",
   "execution_count": null,
   "metadata": {},
   "outputs": [],
   "source": [
    "preds_asii_cnn_lstm_train = model_cnn_asii.predict(X_train_asii_cnn)\n",
    "matriks_evaluate(preds_asii_cnn_lstm_train,y_train_asii_cnn,'asii',4)"
   ]
  },
  {
   "cell_type": "code",
   "execution_count": null,
   "metadata": {},
   "outputs": [],
   "source": [
    "plt.plot(history_cnn_asii_model.history['loss'], label='loss asii')\n",
    "plt.plot(history_cnn_asii_model.history['val_loss'], label = 'val loss asii')\n",
    "plt.title('model loss cnn_lstm asii')\n",
    "plt.ylabel('loss')\n",
    "plt.xlabel('epoch')\n",
    "plt.legend(loc='upper left')\n",
    "plt.savefig('loss_lstm_asii_cnn', dpi=3600)"
   ]
  },
  {
   "cell_type": "markdown",
   "metadata": {},
   "source": [
    "## ICBP"
   ]
  },
  {
   "cell_type": "code",
   "execution_count": null,
   "metadata": {},
   "outputs": [],
   "source": [
    "#get data and normalize data\n",
    "df_icbp_cnn = normalize_data(data_close.icbp,'icbp')\n",
    "#reset index\n",
    "df_icbp_cnn = reset_index_data(df_icbp_cnn)\n",
    "#data to supervised\n",
    "icbp_X_cnn, icbp_y_cnn = split_sequence(df_icbp_cnn, 2)\n",
    "#split to train and test\n",
    "X_train_icbp_cnn, X_test_icbp_cnn, y_train_icbp_cnn, y_test_icbp_cnn = train_test_split(icbp_X_cnn, icbp_y_cnn, test_size=0.33, random_state=44)\n",
    "\n",
    "X_train_icbp_cnn = reshape_data_cnn(X_train_icbp_cnn,1,1,2)\n",
    "X_test_icbp_cnn = reshape_data_cnn(X_test_icbp_cnn,1,1,2)"
   ]
  },
  {
   "cell_type": "code",
   "execution_count": null,
   "metadata": {},
   "outputs": [],
   "source": [
    "cfg_icbp_cnn = [8,'relu',2,1,0.1,16,200]\n",
    "model_cnn_icbp,history_cnn_icbp_model,  = train_cnn_lstm(X_train_icbp_cnn,y_train_icbp_cnn,cfg_icbp_cnn)"
   ]
  },
  {
   "cell_type": "code",
   "execution_count": null,
   "metadata": {},
   "outputs": [],
   "source": [
    "preds_icbp_cnn_lstm = model_cnn_icbp.predict(X_test_icbp_cnn)\n",
    "matriks_evaluate(preds_icbp_cnn_lstm,y_test_icbp_cnn,'icbp',4)"
   ]
  },
  {
   "cell_type": "code",
   "execution_count": null,
   "metadata": {},
   "outputs": [],
   "source": [
    "preds_icbp_cnn_lstm_train = model_cnn_icbp.predict(X_train_icbp_cnn)\n",
    "matriks_evaluate(preds_icbp_cnn_lstm_train,y_train_icbp_cnn,'icbp',4)"
   ]
  },
  {
   "cell_type": "code",
   "execution_count": null,
   "metadata": {},
   "outputs": [],
   "source": [
    "plt.plot(history_cnn_icbp_model.history['loss'], label='loss icbp')\n",
    "plt.plot(history_cnn_icbp_model.history['val_loss'], label = 'val loss icbp')\n",
    "plt.title('model loss cnn_lstm icbp')\n",
    "plt.ylabel('loss')\n",
    "plt.xlabel('epoch')\n",
    "plt.legend(loc='upper left')\n",
    "plt.savefig('loss_lstm_icbp_cnn', dpi=3600)"
   ]
  },
  {
   "cell_type": "markdown",
   "metadata": {},
   "source": [
    "## JSMR"
   ]
  },
  {
   "cell_type": "code",
   "execution_count": null,
   "metadata": {},
   "outputs": [],
   "source": [
    "#get data and normalize data\n",
    "df_jsmr_cnn = normalize_data(data_close.jsmr,'jsmr')\n",
    "#reset index\n",
    "df_jsmr_cnn = reset_index_data(df_jsmr_cnn)\n",
    "#data to supervised\n",
    "jsmr_X_cnn, jsmr_y_cnn = split_sequence(df_jsmr_cnn, 4)\n",
    "#split to train and test\n",
    "X_train_jsmr_cnn, X_test_jsmr_cnn, y_train_jsmr_cnn, y_test_jsmr_cnn = train_test_split(jsmr_X_cnn, jsmr_y_cnn, test_size=0.33, random_state=44)\n",
    "\n",
    "X_train_jsmr_cnn = reshape_data_cnn(X_train_jsmr_cnn,1,2,2)\n",
    "X_test_jsmr_cnn = reshape_data_cnn(X_test_jsmr_cnn,1,2,2)"
   ]
  },
  {
   "cell_type": "code",
   "execution_count": null,
   "metadata": {},
   "outputs": [],
   "source": [
    "cfg_jsmr_cnn = [8,'relu',2,1,0.1,16,200]\n",
    "model_cnn_jsmr,history_cnn_jsmr_model,  = train_cnn_lstm(X_train_jsmr_cnn,y_train_jsmr_cnn,cfg_jsmr_cnn)"
   ]
  },
  {
   "cell_type": "code",
   "execution_count": null,
   "metadata": {},
   "outputs": [],
   "source": [
    "preds_jsmr_cnn_lstm = model_cnn_jsmr.predict(X_test_jsmr_cnn)\n",
    "matriks_evaluate(preds_jsmr_cnn_lstm,y_test_jsmr_cnn,'jsmr',4)"
   ]
  },
  {
   "cell_type": "code",
   "execution_count": null,
   "metadata": {},
   "outputs": [],
   "source": [
    "preds_jsmr_cnn_lstm_train = model_cnn_jsmr.predict(X_train_jsmr_cnn)\n",
    "matriks_evaluate(preds_jsmr_cnn_lstm_train,y_train_jsmr_cnn,'jsmr',4)"
   ]
  },
  {
   "cell_type": "code",
   "execution_count": null,
   "metadata": {},
   "outputs": [],
   "source": [
    "plt.plot(history_cnn_jsmr_model.history['loss'], label='loss jsmr')\n",
    "plt.plot(history_cnn_jsmr_model.history['val_loss'], label = 'val loss jsmr')\n",
    "plt.title('model loss cnn_lstm jsmr')\n",
    "plt.ylabel('loss')\n",
    "plt.xlabel('epoch')\n",
    "plt.legend(loc='upper left')\n",
    "plt.savefig('loss_lstm_jsmr_cnn', dpi=3600)"
   ]
  },
  {
   "cell_type": "markdown",
   "metadata": {},
   "source": [
    "# CONVLSTM"
   ]
  },
  {
   "cell_type": "code",
   "execution_count": null,
   "metadata": {},
   "outputs": [],
   "source": [
    "def train_conv_lstm(X_train,y_train,config):\n",
    "    \n",
    "    #unpach config\n",
    "    neuron, activation, n_steps,n_seq,n_features,learning_rate, batch_size,epochs = config\n",
    "    #define model \n",
    "    model_conv_lstm = Sequential()\n",
    "    model_conv_lstm.add(ConvLSTM2D(neuron,(1,2),activation=activation, input_shape=(n_seq,1,n_steps,n_features)))\n",
    "    model_conv_lstm.add(Flatten())\n",
    "    model_conv_lstm.add(Dense(1))\n",
    "    model_conv_lstm.compile(\n",
    "    optimizer=tf.keras.optimizers.Adam(learning_rate=learning_rate),\n",
    "    loss='mean_absolute_error',\n",
    "    metrics=['mae'],\n",
    "    )\n",
    "    early_stopping = EarlyStopping(\n",
    "    min_delta=0.001, # minimium amount of change to count as an improvement\n",
    "    patience=20, # how many epochs to wait before stopping\n",
    "    restore_best_weights=True,\n",
    "    )\n",
    "\n",
    "    model_conv_lstm.summary()\n",
    "    history_conv_lstm = model_conv_lstm.fit(X_train, y_train, validation_split=0.2,\n",
    "          epochs=epochs,\n",
    "          batch_size=batch_size,\n",
    "          callbacks=[early_stopping],\n",
    "          shuffle = True\n",
    "    )\n",
    "\n",
    "    return model_conv_lstm, history_conv_lstm\n",
    "\n",
    "#time 41.8\n",
    "    "
   ]
  },
  {
   "cell_type": "code",
   "execution_count": null,
   "metadata": {},
   "outputs": [],
   "source": [
    "def reshape_data_conv(X,N_FEATURES, N_SEQ,N_ROWS, N_STEPS):\n",
    "    X = X.reshape(X.shape[0],N_SEQ,N_ROWS,N_STEPS,N_FEATURES)\n",
    "    return X"
   ]
  },
  {
   "cell_type": "markdown",
   "metadata": {},
   "source": [
    "## ANTM"
   ]
  },
  {
   "cell_type": "code",
   "execution_count": null,
   "metadata": {},
   "outputs": [],
   "source": [
    "#get data and normalize data\n",
    "df_antm_conv = normalize_data(data_close.antm,'antm')\n",
    "#reset index\n",
    "df_antm_conv = reset_index_data(df_antm_conv)\n",
    "#data to supervised\n",
    "antm_X_conv, antm_y_conv = split_sequence(df_antm_conv, 2)\n",
    "#split to train and test\n",
    "X_train_antm_conv, X_test_antm_conv, y_train_antm_conv, y_test_antm_conv = train_test_split(antm_X_conv, antm_y_conv, test_size=0.33, random_state=42)\n",
    "\n",
    "X_train_antm_conv = reshape_data_conv(X_train_antm_conv,1,1,1,2)\n",
    "X_test_antm_conv = reshape_data_conv(X_test_antm_conv,1,1,1,2)"
   ]
  },
  {
   "cell_type": "code",
   "execution_count": null,
   "metadata": {},
   "outputs": [],
   "source": [
    "cfg_antm_conv = [8,'relu',2,1,1,0.1,8,200]\n",
    "model_conv_antm,history_conv_antm_model,  = train_conv_lstm(X_train_antm_conv,y_train_antm_conv,cfg_antm_conv)"
   ]
  },
  {
   "cell_type": "code",
   "execution_count": null,
   "metadata": {},
   "outputs": [],
   "source": [
    "preds_antm_conv_lstm = model_conv_antm.predict(X_test_antm_conv)\n",
    "matriks_evaluate(preds_antm_conv_lstm,y_test_antm_conv,'antm',4)"
   ]
  },
  {
   "cell_type": "code",
   "execution_count": null,
   "metadata": {},
   "outputs": [],
   "source": [
    "preds_antm_conv_lstm_train = model_conv_antm.predict(X_train_antm_conv)\n",
    "matriks_evaluate(preds_antm_conv_lstm_train,y_train_antm_conv,'antm',4)"
   ]
  },
  {
   "cell_type": "code",
   "execution_count": null,
   "metadata": {},
   "outputs": [],
   "source": [
    "plt.plot(history_conv_antm_model.history['loss'], label='loss antm')\n",
    "plt.plot(history_conv_antm_model.history['val_loss'], label = 'val loss antm')\n",
    "plt.title('model loss conv_lstm antm')\n",
    "plt.ylabel('loss')\n",
    "plt.xlabel('epoch')\n",
    "plt.legend(loc='upper left')\n",
    "plt.savefig('loss_lstm_antm_conv', dpi=3600)"
   ]
  },
  {
   "cell_type": "markdown",
   "metadata": {},
   "source": [
    "## ASII"
   ]
  },
  {
   "cell_type": "code",
   "execution_count": null,
   "metadata": {},
   "outputs": [],
   "source": [
    "#get data and normalize data\n",
    "df_asii_conv = normalize_data(data_close.asii,'asii')\n",
    "#reset index\n",
    "df_asii_conv = reset_index_data(df_asii_conv)\n",
    "#data to supervised\n",
    "asii_X_conv, asii_y_conv = split_sequence(df_asii_conv, 3)\n",
    "#split to train and test\n",
    "X_train_asii_conv, X_test_asii_conv, y_train_asii_conv, y_test_asii_conv = train_test_split(asii_X_conv, asii_y_conv, test_size=0.33, random_state=42)\n",
    "\n",
    "X_train_asii_conv = reshape_data_conv(X_train_asii_conv,1,1,1,3)\n",
    "X_test_asii_conv = reshape_data_conv(X_test_asii_conv,1,1,1,3)"
   ]
  },
  {
   "cell_type": "code",
   "execution_count": null,
   "metadata": {},
   "outputs": [],
   "source": [
    "cfg_asii_conv = [32,'relu',3,1,1,0.1,8,150]\n",
    "model_conv_asii,history_conv_asii_model,  = train_conv_lstm(X_train_asii_conv,y_train_asii_conv,cfg_asii_conv)"
   ]
  },
  {
   "cell_type": "code",
   "execution_count": null,
   "metadata": {},
   "outputs": [],
   "source": [
    "preds_asii_conv_lstm = model_conv_asii.predict(X_test_asii_conv)\n",
    "matriks_evaluate(preds_asii_conv_lstm,y_test_asii_conv,'asii',4)"
   ]
  },
  {
   "cell_type": "code",
   "execution_count": null,
   "metadata": {},
   "outputs": [],
   "source": [
    "preds_asii_conv_lstm_train = model_conv_asii.predict(X_train_asii_conv)\n",
    "matriks_evaluate(preds_asii_conv_lstm_train,y_train_asii_conv,'asii',4)"
   ]
  },
  {
   "cell_type": "code",
   "execution_count": null,
   "metadata": {},
   "outputs": [],
   "source": [
    "plt.plot(history_conv_asii_model.history['loss'], label='loss asii')\n",
    "plt.plot(history_conv_asii_model.history['val_loss'], label = 'val loss asii')\n",
    "plt.title('model loss conv_lstm asii')\n",
    "plt.ylabel('loss')\n",
    "plt.xlabel('epoch')\n",
    "plt.legend(loc='upper left')\n",
    "plt.savefig('loss_lstm_asii_conv', dpi=3600)"
   ]
  },
  {
   "cell_type": "markdown",
   "metadata": {},
   "source": [
    "## ICBP"
   ]
  },
  {
   "cell_type": "code",
   "execution_count": null,
   "metadata": {},
   "outputs": [],
   "source": [
    "#get data and normalize data\n",
    "df_icbp_conv = normalize_data(data_close.icbp,'icbp')\n",
    "#reset index\n",
    "df_icbp_conv = reset_index_data(df_icbp_conv)\n",
    "#data to supervised\n",
    "icbp_X_conv, icbp_y_conv = split_sequence(df_icbp_conv, 2)\n",
    "#split to train and test\n",
    "X_train_icbp_conv, X_test_icbp_conv, y_train_icbp_conv, y_test_icbp_conv = train_test_split(icbp_X_conv, icbp_y_conv, test_size=0.33, random_state=42)\n",
    "\n",
    "X_train_icbp_conv = reshape_data_conv(X_train_icbp_conv,1,1,1,2)\n",
    "X_test_icbp_conv = reshape_data_conv(X_test_icbp_conv,1,1,1,2)"
   ]
  },
  {
   "cell_type": "code",
   "execution_count": null,
   "metadata": {},
   "outputs": [],
   "source": [
    "cfg_icbp_conv = [8,'relu',2,1,1,0.1,16,200]\n",
    "model_conv_icbp,history_conv_icbp_model,  = train_conv_lstm(X_train_icbp_conv,y_train_icbp_conv,cfg_icbp_conv)"
   ]
  },
  {
   "cell_type": "code",
   "execution_count": null,
   "metadata": {},
   "outputs": [],
   "source": [
    "preds_icbp_conv_lstm = model_conv_icbp.predict(X_test_icbp_conv)\n",
    "matriks_evaluate(preds_icbp_conv_lstm,y_test_icbp_conv,'icbp',4)"
   ]
  },
  {
   "cell_type": "code",
   "execution_count": null,
   "metadata": {},
   "outputs": [],
   "source": [
    "preds_icbp_conv_lstm_train = model_conv_icbp.predict(X_train_icbp_conv)\n",
    "matriks_evaluate(preds_icbp_conv_lstm_train,y_train_icbp_conv,'icbp',4)"
   ]
  },
  {
   "cell_type": "code",
   "execution_count": null,
   "metadata": {},
   "outputs": [],
   "source": [
    "plt.plot(history_conv_icbp_model.history['loss'], label='loss icbp')\n",
    "plt.plot(history_conv_icbp_model.history['val_loss'], label = 'val loss icbp')\n",
    "plt.title('model loss conv_lstm icbp')\n",
    "plt.ylabel('loss')\n",
    "plt.xlabel('epoch')\n",
    "plt.legend(loc='upper left')\n",
    "plt.savefig('loss_lstm_icbp_conv', dpi=3600)"
   ]
  },
  {
   "cell_type": "markdown",
   "metadata": {},
   "source": [
    "## JSMR"
   ]
  },
  {
   "cell_type": "code",
   "execution_count": null,
   "metadata": {},
   "outputs": [],
   "source": [
    "#get data and normalize data\n",
    "df_jsmr_conv = normalize_data(data_close.jsmr,'jsmr')\n",
    "#reset index\n",
    "df_jsmr_conv = reset_index_data(df_jsmr_conv)\n",
    "#data to supervised\n",
    "jsmr_X_conv, jsmr_y_conv = split_sequence(df_jsmr_conv, 4)\n",
    "#split to train and test\n",
    "X_train_jsmr_conv, X_test_jsmr_conv, y_train_jsmr_conv, y_test_jsmr_conv = train_test_split(jsmr_X_conv, jsmr_y_conv, test_size=0.33, random_state=42)\n",
    "\n",
    "X_train_jsmr_conv = reshape_data_conv(X_train_jsmr_conv,1,1,1,4)\n",
    "X_test_jsmr_conv = reshape_data_conv(X_test_jsmr_conv,1,1,1,4)"
   ]
  },
  {
   "cell_type": "code",
   "execution_count": null,
   "metadata": {},
   "outputs": [],
   "source": [
    "cfg_jsmr_conv = [8,'relu',4,1,1,0.1,16,200]\n",
    "model_conv_jsmr,history_conv_jsmr_model  = train_conv_lstm(X_train_jsmr_conv,y_train_jsmr_conv,cfg_jsmr_conv)"
   ]
  },
  {
   "cell_type": "code",
   "execution_count": null,
   "metadata": {},
   "outputs": [],
   "source": [
    "preds_jsmr_conv_lstm = model_conv_jsmr.predict(X_test_jsmr_conv)\n",
    "matriks_evaluate(preds_jsmr_conv_lstm,y_test_jsmr_conv,'jsmr',4)"
   ]
  },
  {
   "cell_type": "code",
   "execution_count": null,
   "metadata": {},
   "outputs": [],
   "source": [
    "preds_jsmr_conv_lstm_train = model_conv_jsmr.predict(X_train_jsmr_conv)\n",
    "matriks_evaluate(preds_jsmr_conv_lstm_train,y_train_jsmr_conv,'jsmr',4)"
   ]
  },
  {
   "cell_type": "code",
   "execution_count": null,
   "metadata": {},
   "outputs": [],
   "source": [
    "plt.plot(history_conv_jsmr_model.history['loss'], label='loss jsmr')\n",
    "plt.plot(history_conv_jsmr_model.history['val_loss'], label = 'val loss jsmr')\n",
    "plt.title('model loss conv_lstm jsmr')\n",
    "plt.ylabel('loss')\n",
    "plt.xlabel('epoch')\n",
    "plt.legend(loc='upper left')\n",
    "plt.savefig('loss_lstm_jsmr_conv', dpi=3600)"
   ]
  },
  {
   "cell_type": "markdown",
   "metadata": {},
   "source": [
    "# RNN"
   ]
  },
  {
   "cell_type": "code",
   "execution_count": null,
   "metadata": {},
   "outputs": [],
   "source": [
    "\n",
    "from tensorflow.keras.models import Sequential\n",
    "from tensorflow.keras.layers import Dense, SimpleRNN\n",
    "\n",
    "def train_rnn(X_train,y_train,config):\n",
    "    \n",
    "    #unpach config\n",
    "    neuron, activation, n_steps, n_features,learning_rate, batch_size,epochs = config\n",
    "    #define model \n",
    "    model_rnn = Sequential([\n",
    "    SimpleRNN(neuron, activation=activation,input_shape=(n_steps, n_features)),\n",
    "    Dense(1),\n",
    "    ])\n",
    "    model_rnn.compile(\n",
    "    optimizer=tf.keras.optimizers.Adam(learning_rate=learning_rate),\n",
    "    loss='mean_absolute_error',\n",
    "    metrics=['mae'],\n",
    "    )\n",
    "    early_stopping = EarlyStopping(\n",
    "    min_delta=0.001, # minimium amount of change to count as an improvement\n",
    "    patience=20, # how many epochs to wait before stopping\n",
    "    restore_best_weights=True,\n",
    "    )\n",
    "\n",
    "    model_rnn.summary()\n",
    "    history_model_rnn = model_rnn.fit(X_train, y_train, validation_split=0.2,\n",
    "          epochs=epochs,\n",
    "          batch_size=batch_size,\n",
    "          callbacks=[early_stopping],\n",
    "          shuffle = True\n",
    "    )\n",
    "\n",
    "    return model_rnn, history_model_rnn\n",
    "\n",
    "#time 41.8\n",
    "    "
   ]
  },
  {
   "cell_type": "markdown",
   "metadata": {},
   "source": [
    "## ANTM"
   ]
  },
  {
   "cell_type": "code",
   "execution_count": null,
   "metadata": {},
   "outputs": [],
   "source": [
    "#get data and normalize data\n",
    "df_antm_rnn = normalize_data(data_close.antm,'antm')\n",
    "#reset index\n",
    "df_antm_rnn = reset_index_data(df_antm_rnn)\n",
    "#data to supervised\n",
    "antm_X_rnn, antm_y_rnn = split_sequence(df_antm_rnn, 2)\n",
    "#split to train and test\n",
    "X_train_antm_rnn, X_test_antm_rnn, y_train_antm_rnn, y_test_antm_rnn = train_test_split(antm_X_rnn, antm_y_rnn, test_size=0.33, random_state=42)\n",
    "\n",
    "X_train_antm_rnn = reshape_data(X_train_antm_rnn,1)\n",
    "X_test_antm_rnn = reshape_data(X_test_antm_rnn,1)\n"
   ]
  },
  {
   "cell_type": "code",
   "execution_count": null,
   "metadata": {},
   "outputs": [],
   "source": [
    "cfg_antm_rnn = [8,'relu',2,1,0.1,8,200]\n",
    "model_antm_rnn,history_antm_model_rnn,  = train_rnn(X_train_antm_rnn,y_train_antm_rnn,cfg_antm_rnn)"
   ]
  },
  {
   "cell_type": "code",
   "execution_count": null,
   "metadata": {},
   "outputs": [],
   "source": [
    "preds_antm_rnn = model_antm_rnn.predict(X_test_antm_rnn)\n",
    "matriks_evaluate(preds_antm_rnn,y_test_antm_rnn,'antm',4)"
   ]
  },
  {
   "cell_type": "code",
   "execution_count": null,
   "metadata": {},
   "outputs": [],
   "source": [
    "preds_antm_rnn_train = model_antm_rnn.predict(X_train_antm_rnn)\n",
    "matriks_evaluate(preds_antm_rnn_train,y_train_antm_rnn,'antm',4)"
   ]
  },
  {
   "cell_type": "code",
   "execution_count": null,
   "metadata": {},
   "outputs": [],
   "source": [
    "# Matriks score for antm\n",
    "pembulatan(0.010741172328190532,2)\n",
    "pembulatan(0.9918942103762897,2)\n",
    "pembulatan(0.060096347557924944,2)\n",
    "pembulatan(0.018061080505563522,2)"
   ]
  },
  {
   "cell_type": "code",
   "execution_count": null,
   "metadata": {},
   "outputs": [],
   "source": [
    "plt.plot(history_antm_model_rnn.history['loss'], label='loss rnn antm')\n",
    "plt.plot(history_antm_model_rnn.history['val_loss'], label = 'val loss rnn antm')\n",
    "plt.title('model loss rnn lstm antm')\n",
    "plt.ylabel('loss rnn')\n",
    "plt.xlabel('epoch')\n",
    "plt.legend(loc='upper left')\n",
    "plt.savefig('loss rnn_antm', dpi=3600)"
   ]
  },
  {
   "cell_type": "markdown",
   "metadata": {},
   "source": [
    "## ASII"
   ]
  },
  {
   "cell_type": "code",
   "execution_count": null,
   "metadata": {},
   "outputs": [],
   "source": [
    "#get data and normalize data\n",
    "df_asii_rnn = normalize_data(data_close.asii,'asii')\n",
    "#reset index\n",
    "df_asii_rnn = reset_index_data(df_asii_rnn)\n",
    "#data to supervised\n",
    "asii_X_rnn, asii_y_rnn = split_sequence(df_asii_rnn, 3)\n",
    "#split to train and test\n",
    "X_train_asii_rnn, X_test_asii_rnn, y_train_asii_rnn, y_test_asii_rnn = train_test_split(asii_X_rnn, asii_y_rnn, test_size=0.33, random_state=42)\n",
    "\n",
    "X_train_asii_rnn = reshape_data(X_train_asii_rnn,1)\n",
    "X_test_asii_rnn = reshape_data(X_test_asii_rnn,1)\n"
   ]
  },
  {
   "cell_type": "code",
   "execution_count": null,
   "metadata": {},
   "outputs": [],
   "source": [
    "cfg_asii_rnn = [32,'relu',3,1,0.01,8,150]\n",
    "model_asii_rnn,history_asii_model_rnn  = train_rnn(X_train_asii_rnn,y_train_asii_rnn,cfg_asii_rnn)"
   ]
  },
  {
   "cell_type": "code",
   "execution_count": null,
   "metadata": {},
   "outputs": [],
   "source": [
    "preds_asii_rnn = model_asii_rnn.predict(X_test_asii_rnn)\n",
    "matriks_evaluate(preds_asii_rnn,y_test_asii_rnn,'asii',4)"
   ]
  },
  {
   "cell_type": "code",
   "execution_count": null,
   "metadata": {},
   "outputs": [],
   "source": [
    "preds_asii_rnn_train = model_asii_rnn.predict(X_train_asii_rnn)\n",
    "matriks_evaluate(preds_asii_rnn_train,y_train_asii_rnn,'asii',4)"
   ]
  },
  {
   "cell_type": "code",
   "execution_count": null,
   "metadata": {},
   "outputs": [],
   "source": [
    "plt.plot(history_asii_model_rnn.history['loss'], label='loss rnn asii')\n",
    "plt.plot(history_asii_model_rnn.history['val_loss'], label = 'val loss rnn asii')\n",
    "plt.title('model loss rnn lstm asii')\n",
    "plt.ylabel('loss rnn')\n",
    "plt.xlabel('epoch')\n",
    "plt.legend(loc='upper left')\n",
    "plt.savefig('loss rnn_asii', dpi=3600)"
   ]
  },
  {
   "cell_type": "markdown",
   "metadata": {},
   "source": [
    "## ICBP"
   ]
  },
  {
   "cell_type": "code",
   "execution_count": null,
   "metadata": {},
   "outputs": [],
   "source": [
    "#get data and normalize data\n",
    "df_icbp_rnn = normalize_data(data_close.icbp,'icbp')\n",
    "#reset index\n",
    "df_icbp_rnn = reset_index_data(df_icbp_rnn)\n",
    "#data to supervised\n",
    "icbp_X_rnn, icbp_y_rnn = split_sequence(df_icbp_rnn, 1)\n",
    "#split to train and test\n",
    "X_train_icbp_rnn, X_test_icbp_rnn, y_train_icbp_rnn, y_test_icbp_rnn = train_test_split(icbp_X_rnn, icbp_y_rnn, test_size=0.33, random_state=42)\n",
    "\n",
    "X_train_icbp_rnn = reshape_data(X_train_icbp_rnn,1)\n",
    "X_test_icbp_rnn = reshape_data(X_test_icbp_rnn,1)\n"
   ]
  },
  {
   "cell_type": "code",
   "execution_count": null,
   "metadata": {},
   "outputs": [],
   "source": [
    "cfg_icbp_rnn = [8,'relu',1,1,0.01,16,200]\n",
    "model_icbp_rnn,history_icbp_model_rnn  = train_rnn(X_train_icbp_rnn,y_train_icbp_rnn,cfg_icbp_rnn)"
   ]
  },
  {
   "cell_type": "code",
   "execution_count": null,
   "metadata": {},
   "outputs": [],
   "source": [
    "preds_icbp_rnn = model_icbp_rnn.predict(X_test_icbp_rnn)\n",
    "matriks_evaluate(preds_icbp_rnn,y_test_icbp_rnn,'icbp',4)"
   ]
  },
  {
   "cell_type": "code",
   "execution_count": null,
   "metadata": {},
   "outputs": [],
   "source": [
    "preds_icbp_rnn_train = model_icbp_rnn.predict(X_train_icbp_rnn)\n",
    "matriks_evaluate(preds_icbp_rnn_train,y_train_icbp_rnn,'icbp',4)"
   ]
  },
  {
   "cell_type": "code",
   "execution_count": null,
   "metadata": {},
   "outputs": [],
   "source": [
    "plt.plot(history_icbp_model_rnn.history['loss'], label='loss rnn icbp')\n",
    "plt.plot(history_icbp_model_rnn.history['val_loss'], label = 'val loss rnn icbp')\n",
    "plt.title('model loss rnn lstm icbp')\n",
    "plt.ylabel('loss rnn')\n",
    "plt.xlabel('epoch')\n",
    "plt.legend(loc='upper left')\n",
    "plt.savefig('loss rnn_icbp', dpi=3600)"
   ]
  },
  {
   "cell_type": "markdown",
   "metadata": {},
   "source": [
    "## JSMR"
   ]
  },
  {
   "cell_type": "code",
   "execution_count": null,
   "metadata": {},
   "outputs": [],
   "source": [
    "#get data and normalize data\n",
    "df_jsmr_rnn = normalize_data(data_close.jsmr,'jsmr')\n",
    "#reset index\n",
    "df_jsmr_rnn = reset_index_data(df_jsmr_rnn)\n",
    "#data to supervised\n",
    "jsmr_X_rnn, jsmr_y_rnn = split_sequence(df_jsmr_rnn, 1)\n",
    "#split to train and test\n",
    "X_train_jsmr_rnn, X_test_jsmr_rnn, y_train_jsmr_rnn, y_test_jsmr_rnn = train_test_split(jsmr_X_rnn, jsmr_y_rnn, test_size=0.33, random_state=42)\n",
    "\n",
    "X_train_jsmr_rnn = reshape_data(X_train_jsmr_rnn,1)\n",
    "X_test_jsmr_rnn = reshape_data(X_test_jsmr_rnn,1)\n"
   ]
  },
  {
   "cell_type": "code",
   "execution_count": null,
   "metadata": {},
   "outputs": [],
   "source": [
    "cfg_jsmr_rnn = [8,'relu',1,1,0.01,16,200]\n",
    "model_jsmr_rnn,history_jsmr_model_rnn  = train_rnn(X_train_jsmr_rnn,y_train_jsmr_rnn,cfg_jsmr_rnn)"
   ]
  },
  {
   "cell_type": "code",
   "execution_count": null,
   "metadata": {},
   "outputs": [],
   "source": [
    "preds_jsmr_rnn = model_jsmr_rnn.predict(X_test_jsmr_rnn)\n",
    "matriks_evaluate(preds_jsmr_rnn,y_test_jsmr_rnn,'jsmr',4)"
   ]
  },
  {
   "cell_type": "code",
   "execution_count": null,
   "metadata": {},
   "outputs": [],
   "source": [
    "preds_jsmr_rnn_train = model_jsmr_rnn.predict(X_train_jsmr_rnn)\n",
    "matriks_evaluate(preds_jsmr_rnn_train,y_train_jsmr_rnn,'jsmr',4)"
   ]
  },
  {
   "cell_type": "code",
   "execution_count": null,
   "metadata": {},
   "outputs": [],
   "source": [
    "plt.plot(history_jsmr_model_rnn.history['loss'], label='loss rnn jsmr')\n",
    "plt.plot(history_jsmr_model_rnn.history['val_loss'], label = 'val loss rnn jsmr')\n",
    "plt.title('model loss rnn lstm jsmr')\n",
    "plt.ylabel('loss rnn')\n",
    "plt.xlabel('epoch')\n",
    "plt.legend(loc='upper left')\n",
    "plt.savefig('loss rnn_jsmr', dpi=3600)"
   ]
  },
  {
   "cell_type": "markdown",
   "metadata": {},
   "source": [
    "# Komparasi berdasarkan Data saham"
   ]
  },
  {
   "cell_type": "markdown",
   "metadata": {},
   "source": [
    "## ANTM"
   ]
  },
  {
   "cell_type": "code",
   "execution_count": null,
   "metadata": {},
   "outputs": [],
   "source": [
    "plt.plot(history_antm_model.history['loss'], label='loss antm')\n",
    "plt.plot(history_antm_model_bidirectional.history['loss'], label='loss bidirectional antm')\n",
    "plt.plot(history_cnn_antm_model.history['loss'], label='loss cnn-lstm antm')\n",
    "plt.plot(history_conv_antm_model.history['loss'], label='loss convlstm antm')\n",
    "plt.title('model loss comparison')\n",
    "plt.ylabel('loss')\n",
    "plt.xlabel('epoch')\n",
    "plt.legend(loc='upper left')\n",
    "plt.savefig('lstm&rnn_loss_model_comparison_antm', dpi=1200)"
   ]
  },
  {
   "cell_type": "code",
   "execution_count": null,
   "metadata": {},
   "outputs": [],
   "source": [
    "plt.plot(history_antm_model.history['loss'], label='loss antm')\n",
    "plt.plot(history_antm_model_bidirectional.history['loss'], label='loss bidirectional antm')\n",
    "plt.plot(history_cnn_antm_model.history['loss'], label='loss cnn-lstm antm')\n",
    "plt.plot(history_conv_antm_model.history['loss'], label='loss convlstm antm')\n",
    "plt.plot(history_antm_model_rnn.history['loss'], label='loss rnn antm')\n",
    "plt.title('model loss comparison')\n",
    "plt.ylabel('loss')\n",
    "plt.xlabel('epoch')\n",
    "plt.legend(loc='upper left')\n",
    "plt.savefig('lstm&rnn_loss_model_comparison_antm', dpi=3600)"
   ]
  },
  {
   "cell_type": "markdown",
   "metadata": {},
   "source": [
    "## ASII"
   ]
  },
  {
   "cell_type": "code",
   "execution_count": null,
   "metadata": {},
   "outputs": [],
   "source": [
    "plt.plot(history_asii_model.history['loss'], label='loss asii')\n",
    "plt.plot(history_asii_model_bidirectional.history['loss'], label='loss bidirectional asii')\n",
    "plt.plot(history_cnn_asii_model.history['loss'], label='loss cnn-lstm asii')\n",
    "plt.plot(history_conv_asii_model.history['loss'], label='loss convlstm asii')\n",
    "plt.title('model loss comparison')\n",
    "plt.ylabel('loss')\n",
    "plt.xlabel('epoch')\n",
    "plt.legend(loc='upper left')\n",
    "plt.savefig('lstm&rnn_loss_model_comparison_asii', dpi=1200)"
   ]
  },
  {
   "cell_type": "code",
   "execution_count": null,
   "metadata": {},
   "outputs": [],
   "source": [
    "plt.plot(history_asii_model.history['loss'], label='loss asii')\n",
    "plt.plot(history_asii_model_bidirectional.history['loss'], label='loss bidirectional asii')\n",
    "plt.plot(history_cnn_asii_model.history['loss'], label='loss cnn-lstm asii')\n",
    "plt.plot(history_conv_asii_model.history['loss'], label='loss convlstm asii')\n",
    "plt.plot(history_asii_model_rnn.history['loss'], label='loss rnn asii')\n",
    "plt.title('model loss comparison')\n",
    "plt.ylabel('loss')\n",
    "plt.xlabel('epoch')\n",
    "plt.legend(loc='upper left')\n",
    "plt.savefig('lstm&rnn_loss_model_comparison_asii', dpi=3600)"
   ]
  },
  {
   "cell_type": "markdown",
   "metadata": {},
   "source": [
    "## ICBP"
   ]
  },
  {
   "cell_type": "code",
   "execution_count": null,
   "metadata": {},
   "outputs": [],
   "source": [
    "plt.plot(history_icbp_model.history['loss'], label='loss icbp')\n",
    "plt.plot(history_icbp_model_bidirectional.history['loss'], label='loss bidirectional icbp')\n",
    "plt.plot(history_cnn_icbp_model.history['loss'], label='loss cnn-lstm icbp')\n",
    "plt.plot(history_conv_icbp_model.history['loss'], label='loss convlstm icbp')\n",
    "plt.title('model loss comparison')\n",
    "plt.ylabel('loss')\n",
    "plt.xlabel('epoch')\n",
    "plt.legend(loc='upper left')\n",
    "plt.savefig('lstm&rnn_loss_model_comparison_icbp', dpi=1200)"
   ]
  },
  {
   "cell_type": "code",
   "execution_count": null,
   "metadata": {},
   "outputs": [],
   "source": [
    "plt.plot(history_icbp_model.history['loss'], label='loss icbp')\n",
    "plt.plot(history_icbp_model_bidirectional.history['loss'], label='loss bidirectional icbp')\n",
    "plt.plot(history_cnn_icbp_model.history['loss'], label='loss cnn-lstm icbp')\n",
    "plt.plot(history_conv_icbp_model.history['loss'], label='loss convlstm icbp')\n",
    "plt.plot(history_icbp_model_rnn.history['loss'], label='loss icbp rnn')\n",
    "plt.title('model loss comparison')\n",
    "plt.ylabel('loss')\n",
    "plt.xlabel('epoch')\n",
    "plt.legend(loc='upper left')\n",
    "plt.savefig('lstm&rnn_loss_model_comparison_icbp', dpi=1200)"
   ]
  },
  {
   "cell_type": "markdown",
   "metadata": {},
   "source": [
    "## JSMR"
   ]
  },
  {
   "cell_type": "code",
   "execution_count": null,
   "metadata": {},
   "outputs": [],
   "source": [
    "plt.plot(history_jsmr_model.history['loss'], label='loss jsmr')\n",
    "plt.plot(history_jsmr_model_bidirectional.history['loss'], label='loss bidirectional jsmr')\n",
    "plt.plot(history_cnn_jsmr_model.history['loss'], label='loss cnn-lstm jsmr')\n",
    "plt.plot(history_conv_jsmr_model.history['loss'], label='loss convlstm jsmr')\n",
    "plt.title('model loss comparison')\n",
    "plt.ylabel('loss')\n",
    "plt.xlabel('epoch')\n",
    "plt.legend(loc='upper left')\n",
    "plt.savefig('lstm&rnn_loss_model_comparison_jsmr', dpi=1200)"
   ]
  },
  {
   "cell_type": "code",
   "execution_count": null,
   "metadata": {},
   "outputs": [],
   "source": [
    "plt.plot(history_jsmr_model.history['loss'], label='loss jsmr')\n",
    "plt.plot(history_jsmr_model_bidirectional.history['loss'], label='loss bidirectional jsmr')\n",
    "plt.plot(history_cnn_jsmr_model.history['loss'], label='loss cnn-lstm jsmr')\n",
    "plt.plot(history_conv_jsmr_model.history['loss'], label='loss convlstm jsmr')\n",
    "plt.plot(history_jsmr_model_rnn.history['loss'], label='loss rnn jsmr')\n",
    "plt.title('model loss comparison')\n",
    "plt.ylabel('loss')\n",
    "plt.xlabel('epoch')\n",
    "plt.legend(loc='upper left')\n",
    "plt.savefig('lstm&rnn_loss_model_comparison_jsmr', dpi=3600)"
   ]
  },
  {
   "cell_type": "markdown",
   "metadata": {},
   "source": [
    "# KOMPARASI METRIKS EVALUASI Berdasarkan saham"
   ]
  },
  {
   "cell_type": "code",
   "execution_count": null,
   "metadata": {},
   "outputs": [],
   "source": [
    "def plot_metriks(data,title):\n",
    "    names = list(data.keys())\n",
    "    values = list(data.values())\n",
    "    plt.title(title)\n",
    "    plt.bar(range(len(data)), values, tick_label=names)\n",
    "    plt.savefig(title, dpi=1200)\n",
    "    plt.show()"
   ]
  },
  {
   "cell_type": "markdown",
   "metadata": {},
   "source": [
    "## ANTM"
   ]
  },
  {
   "cell_type": "code",
   "execution_count": null,
   "metadata": {},
   "outputs": [],
   "source": [
    "mae_antm_model = {'model\\nlstm\\nantm':mean_absolute_error(preds_antm, y_test_antm),'model\\nbidirectional\\nlstm':mean_absolute_error(preds_antm_bidirectional, y_test_antm),'model\\ncnn\\nlstm':mean_absolute_error(preds_antm_cnn_lstm, y_test_antm_cnn),'model\\nconvlstm':mean_absolute_error(preds_antm_conv_lstm, y_test_antm_conv)}\n",
    "\n",
    "mape_antm_model = {'model\\nlstm\\nantm':mean_absolute_percentage_error(preds_antm, y_test_antm),'model\\nbidirectional\\nlstm':mean_absolute_percentage_error(preds_antm_bidirectional, y_test_antm),'model\\ncnn\\nlstm':mean_absolute_percentage_error(preds_antm_cnn_lstm, y_test_antm_cnn),'model\\nconvlstm':mean_absolute_percentage_error(preds_antm_conv_lstm, y_test_antm_conv)}\n",
    "\n",
    "rmse_antm_model = {'model\\nlstm\\nantm':np.sqrt(mean_squared_error(preds_antm, y_test_antm)),'model\\nbidirectional\\nlstm':np.sqrt(mean_squared_error(preds_antm_bidirectional, y_test_antm)),'model\\ncnn\\nlstm':np.sqrt(mean_squared_error(preds_antm_cnn_lstm, y_test_antm_cnn)),'model\\nconvlstm':np.sqrt(mean_squared_error(preds_antm_conv_lstm, y_test_antm_conv))}\n",
    "\n",
    "r2_antm_model = {'model\\nlstm\\nantm':r2_score(preds_antm, y_test_antm),'model\\nbidirectional\\nlstm':r2_score(preds_antm_bidirectional, y_test_antm),'model\\ncnn\\nlstm':r2_score(preds_antm_cnn_lstm, y_test_antm_cnn),'model\\nconvlstm':r2_score(preds_antm_conv_lstm, y_test_antm_conv)} \n"
   ]
  },
  {
   "cell_type": "code",
   "execution_count": null,
   "metadata": {},
   "outputs": [],
   "source": [
    "mae_antm_model_rnn = {'model\\nlstm\\nantm':mean_absolute_error(preds_antm, y_test_antm),'model\\nbidirectional\\nlstm':mean_absolute_error(preds_antm_bidirectional, y_test_antm),'model\\ncnn\\nlstm':mean_absolute_error(preds_antm_cnn_lstm, y_test_antm_cnn),'model\\nconvlstm':mean_absolute_error(preds_antm_conv_lstm, y_test_antm_conv),'model\\nrnn':mean_absolute_error(preds_antm_rnn, y_test_antm_rnn)}\n",
    "\n",
    "mape_antm_model_rnn = {'model\\nlstm\\nantm':mean_absolute_percentage_error(preds_antm, y_test_antm),'model\\nbidirectional\\nlstm':mean_absolute_percentage_error(preds_antm_bidirectional, y_test_antm),'model\\ncnn\\nlstm':mean_absolute_percentage_error(preds_antm_cnn_lstm, y_test_antm_cnn),'model\\nconvlstm':mean_absolute_percentage_error(preds_antm_conv_lstm, y_test_antm_conv),'model\\nrnn':mean_absolute_percentage_error(preds_antm_rnn, y_test_antm_rnn)}\n",
    "\n",
    "rmse_antm_model_rnn = {'model\\nlstm\\nantm':np.sqrt(mean_squared_error(preds_antm, y_test_antm)),'model\\nbidirectional\\nlstm':np.sqrt(mean_squared_error(preds_antm_bidirectional, y_test_antm)),'model\\ncnn\\nlstm':np.sqrt(mean_squared_error(preds_antm_cnn_lstm, y_test_antm_cnn)),'model\\nconvlstm':np.sqrt(mean_squared_error(preds_antm_conv_lstm, y_test_antm_conv)),'model\\nrnn':np.sqrt(mean_squared_error(preds_antm_rnn, y_test_antm_rnn))}\n",
    "\n",
    "r2_antm_model_rnn = {'model\\nlstm\\nantm':r2_score(preds_antm, y_test_antm),'model\\nbidirectional\\nlstm':r2_score(preds_antm_bidirectional, y_test_antm),'model\\ncnn\\nlstm':r2_score(preds_antm_cnn_lstm, y_test_antm_cnn),'model\\nconvlstm':r2_score(preds_antm_conv_lstm, y_test_antm_conv),'model\\nrnn':r2_score(preds_antm_rnn, y_test_antm_rnn)} \n"
   ]
  },
  {
   "cell_type": "code",
   "execution_count": null,
   "metadata": {},
   "outputs": [],
   "source": [
    "print(\"sorted mae\")\n",
    "mae_antm_sorted = dict(sorted(mae_antm_model.items(),key=lambda item: item[1]))\n",
    "print(mae_antm_sorted)\n",
    "print(\"sorted rmse\")\n",
    "rmse_antm_sorted = dict(sorted(rmse_antm_model.items(),key=lambda item: item[1]))\n",
    "print(rmse_antm_sorted)\n",
    "print(\"sorted mape\")\n",
    "mape_antm_sorted = dict(sorted(mape_antm_model.items(),key=lambda item: item[1]))\n",
    "print(mape_antm_sorted)\n",
    "print(\"sorted r2\")\n",
    "r2_antm_sorted = dict(sorted(r2_antm_model.items(),key=lambda item: item[1] ,reverse=True))\n",
    "print(r2_antm_sorted)"
   ]
  },
  {
   "cell_type": "code",
   "execution_count": null,
   "metadata": {},
   "outputs": [],
   "source": [
    "sorted mae\n",
    "{'model_lstm_antm': 0.00792330651423234, 'model_convlstm': 0.008979813932403035, 'model_bidirectional_lstm': 0.010083131140679802, 'model_cnn_lstm': 0.010867278830534548}\n",
    "sorted rmse\n",
    "{'model_lstm_antm': 0.013645817005473931, 'model_bidirectional_lstm': 0.015164592497452231, 'model_convlstm': 0.015586941316141424, 'model_cnn_lstm': 0.016741492746486068}\n",
    "sorted mape\n",
    "{'model_lstm_antm': 0.03875965710274557, 'model_convlstm': 0.04170634238737134, 'model_cnn_lstm': 0.064639021568424, 'model_bidirectional_lstm': 0.07193945105344311}\n",
    "sorted r2\n",
    "{'model_lstm_antm': 0.9951434537789272, 'model_convlstm': 0.9940666469044093, 'model_bidirectional_lstm': 0.9937322524708159, 'model_cnn_lstm': 0.993089376712622}"
   ]
  },
  {
   "cell_type": "code",
   "execution_count": null,
   "metadata": {},
   "outputs": [],
   "source": [
    "print(\"sorted mae with rnn\")\n",
    "mae_antm_sorted_rnn = dict(sorted(mae_antm_model_rnn.items(),key=lambda item: item[1]))\n",
    "print(mae_antm_sorted_rnn)\n",
    "print(\"sorted rmse with rnn\")\n",
    "rmse_antm_sorted_rnn = dict(sorted(rmse_antm_model_rnn.items(),key=lambda item: item[1]))\n",
    "print(rmse_antm_sorted_rnn)\n",
    "print(\"sorted mape with rnn\")\n",
    "mape_antm_sorted_rnn = dict(sorted(mape_antm_model_rnn.items(),key=lambda item: item[1]))\n",
    "print(mape_antm_sorted_rnn)\n",
    "print(\"sorted r2 with rnn\")\n",
    "r2_antm_sorted_rnn = dict(sorted(r2_antm_model_rnn.items(),key=lambda item: item[1] ,reverse=True))\n",
    "print(r2_antm_sorted_rnn)"
   ]
  },
  {
   "cell_type": "code",
   "execution_count": null,
   "metadata": {},
   "outputs": [],
   "source": [
    "sorted mae with rnn\n",
    "{'model_lstm_antm': 0.00792330651423234, 'model_convlstm': 0.008979813932403035, 'model_bidirectional_lstm': 0.010083131140679802, 'model_rnn': 0.010478654205229577, 'model_cnn_lstm': 0.010867278830534548}\n",
    "sorted rmse with rnn\n",
    "{'model_lstm_antm': 0.013645817005473931, 'model_bidirectional_lstm': 0.015164592497452231, 'model_convlstm': 0.015586941316141424, 'model_rnn': 0.015870582918009215, 'model_cnn_lstm': 0.016741492746486068}\n",
    "sorted mape with rnn\n",
    "{'model_lstm_antm': 0.03875965710274557, 'model_convlstm': 0.04170634238737134, 'model_rnn': 0.05973322659954254, 'model_cnn_lstm': 0.064639021568424, 'model_bidirectional_lstm': 0.07193945105344311}\n",
    "sorted r2 with rnn\n",
    "{'model_lstm_antm': 0.9951434537789272, 'model_convlstm': 0.9940666469044093, 'model_rnn': 0.9938764452484279, 'model_bidirectional_lstm': 0.9937322524708159, 'model_cnn_lstm': 0.993089376712622}"
   ]
  },
  {
   "cell_type": "code",
   "execution_count": null,
   "metadata": {},
   "outputs": [],
   "source": [
    "plot_metriks(mae_antm_model,\"plot mae comparison of lstm model by antm stock\")\n",
    "plot_metriks(mape_antm_model,\"plot mape comparison of lstm model by antm stock\")\n",
    "plot_metriks(rmse_antm_model,\"plot rmse comparison of lstm model by antm stock\")\n",
    "plot_metriks(r2_antm_model,\"plot r2 comparison of lstm model by antm stock\")"
   ]
  },
  {
   "cell_type": "markdown",
   "metadata": {},
   "source": [
    "## ASII"
   ]
  },
  {
   "cell_type": "code",
   "execution_count": null,
   "metadata": {},
   "outputs": [],
   "source": [
    "mae_asii_model = {'model\\nlstm\\nasii':mean_absolute_error(preds_asii, y_test_asii),'model\\nbidirectional\\nlstm':mean_absolute_error(preds_asii_bidirectional, y_test_asii),'model\\ncnn\\nlstm':mean_absolute_error(preds_asii_cnn_lstm, y_test_asii_cnn),'model\\nconvlstm':mean_absolute_error(preds_asii_conv_lstm, y_test_asii_conv)}\n",
    "\n",
    "mape_asii_model = {'model\\nlstm\\nasii':mean_absolute_percentage_error(preds_asii, y_test_asii),'model\\nbidirectional\\nlstm':mean_absolute_percentage_error(preds_asii_bidirectional, y_test_asii),'model\\ncnn\\nlstm':mean_absolute_percentage_error(preds_asii_cnn_lstm, y_test_asii_cnn),'model\\nconvlstm':mean_absolute_percentage_error(preds_asii_conv_lstm, y_test_asii_conv)}\n",
    "\n",
    "rmse_asii_model = {'model\\nlstm\\nasii':np.sqrt(mean_squared_error(preds_asii, y_test_asii)),'model\\nbidirectional\\nlstm':np.sqrt(mean_squared_error(preds_asii_bidirectional, y_test_asii)),'model\\ncnn\\nlstm':np.sqrt(mean_squared_error(preds_asii_cnn_lstm, y_test_asii_cnn)),'model\\nconvlstm':np.sqrt(mean_squared_error(preds_asii_conv_lstm, y_test_asii_conv))}\n",
    "\n",
    "r2_asii_model = {'model\\nlstm\\nasii':r2_score(preds_asii, y_test_asii),'model\\nbidirectional\\nlstm':r2_score(preds_asii_bidirectional, y_test_asii),'model\\ncnn\\nlstm':r2_score(preds_asii_cnn_lstm, y_test_asii_cnn),'model\\nconvlstm':r2_score(preds_asii_conv_lstm, y_test_asii_conv)} \n"
   ]
  },
  {
   "cell_type": "code",
   "execution_count": null,
   "metadata": {},
   "outputs": [],
   "source": [
    "mae_asii_model_rnn = {'model\\nlstm\\nasii':mean_absolute_error(preds_asii, y_test_asii),'model\\nbidirectional\\nlstm':mean_absolute_error(preds_asii_bidirectional, y_test_asii),'model\\ncnn\\nlstm':mean_absolute_error(preds_asii_cnn_lstm, y_test_asii_cnn),'model\\nconvlstm':mean_absolute_error(preds_asii_conv_lstm, y_test_asii_conv),'model\\nrnn':mean_absolute_error(preds_asii_rnn, y_test_asii_rnn)}\n",
    "\n",
    "mape_asii_model_rnn = {'model\\nlstm\\nasii':mean_absolute_percentage_error(preds_asii, y_test_asii),'model\\nbidirectional\\nlstm':mean_absolute_percentage_error(preds_asii_bidirectional, y_test_asii),'model\\ncnn\\nlstm':mean_absolute_percentage_error(preds_asii_cnn_lstm, y_test_asii_cnn),'model\\nconvlstm':mean_absolute_percentage_error(preds_asii_conv_lstm, y_test_asii_conv),'model\\nrnn':mean_absolute_percentage_error(preds_asii_rnn, y_test_asii_rnn)}\n",
    "\n",
    "rmse_asii_model_rnn = {'model\\nlstm\\nasii':np.sqrt(mean_squared_error(preds_asii, y_test_asii)),'model\\nbidirectional\\nlstm':np.sqrt(mean_squared_error(preds_asii_bidirectional, y_test_asii)),'model\\ncnn\\nlstm':np.sqrt(mean_squared_error(preds_asii_cnn_lstm, y_test_asii_cnn)),'model\\nconvlstm':np.sqrt(mean_squared_error(preds_asii_conv_lstm, y_test_asii_conv)),'model\\nrnn':np.sqrt(mean_squared_error(preds_asii_rnn, y_test_asii_rnn))}\n",
    "\n",
    "r2_asii_model_rnn = {'model\\nlstm\\nasii':r2_score(preds_asii, y_test_asii),'model\\nbidirectional\\nlstm':r2_score(preds_asii_bidirectional, y_test_asii),'model\\ncnn\\nlstm':r2_score(preds_asii_cnn_lstm, y_test_asii_cnn),'model\\nconvlstm':r2_score(preds_asii_conv_lstm, y_test_asii_conv),'model\\nrnn':r2_score(preds_asii_rnn, y_test_asii_rnn)} \n"
   ]
  },
  {
   "cell_type": "code",
   "execution_count": null,
   "metadata": {},
   "outputs": [],
   "source": [
    "print(\"sorted mae\")\n",
    "mae_asii_sorted = dict(sorted(mae_asii_model.items(),key=lambda item: item[1]))\n",
    "print(mae_asii_sorted)\n",
    "print(\"sorted rmse\")\n",
    "rmse_asii_sorted = dict(sorted(rmse_asii_model.items(),key=lambda item: item[1]))\n",
    "print(rmse_asii_sorted)\n",
    "print(\"sorted mape\")\n",
    "mape_asii_sorted = dict(sorted(mape_asii_model.items(),key=lambda item: item[1]))\n",
    "print(mape_asii_sorted)\n",
    "print(\"sorted r2\")\n",
    "r2_asii_sorted = dict(sorted(r2_asii_model.items(),key=lambda item: item[1] ,reverse=True))\n",
    "print(r2_asii_sorted)"
   ]
  },
  {
   "cell_type": "code",
   "execution_count": null,
   "metadata": {},
   "outputs": [],
   "source": [
    "sorted mae\n",
    "{'model_lstm_asii': 0.015557469024060277, 'model_bidirectional_lstm': 0.015557469024060277, 'model_convlstm': 0.017502466607205686, 'model_cnn_lstm': 0.025615471457232676}\n",
    "sorted rmse\n",
    "{'model_lstm_asii': 0.020195572184998862, 'model_bidirectional_lstm': 0.020195572184998862, 'model_convlstm': 0.024368460318503666, 'model_cnn_lstm': 0.034314310609913}\n",
    "sorted mape\n",
    "{'model_lstm_asii': 0.03653063088132113, 'model_bidirectional_lstm': 0.03653063088132113, 'model_convlstm': 0.04371383500044023, 'model_cnn_lstm': 0.09404178861648758}\n",
    "sorted r2\n",
    "{'model_lstm_asii': 0.989093802259257, 'model_bidirectional_lstm': 0.989093802259257, 'model_convlstm': 0.9845989847390949, 'model_cnn_lstm': 0.9706884687600915}"
   ]
  },
  {
   "cell_type": "code",
   "execution_count": null,
   "metadata": {},
   "outputs": [],
   "source": [
    "print(\"sorted mae\")\n",
    "mae_asii_sorted = dict(sorted(mae_asii_model.items(),key=lambda item: item[1]))\n",
    "print(mae_asii_sorted)\n",
    "print(\"sorted rmse\")\n",
    "rmse_asii_sorted = dict(sorted(rmse_asii_model.items(),key=lambda item: item[1]))\n",
    "print(rmse_asii_sorted)\n",
    "print(\"sorted mape\")\n",
    "mape_asii_sorted = dict(sorted(mape_asii_model.items(),key=lambda item: item[1]))\n",
    "print(mape_asii_sorted)\n",
    "print(\"sorted r2\")\n",
    "r2_asii_sorted = dict(sorted(r2_asii_model.items(),key=lambda item: item[1] ,reverse=True))\n",
    "print(r2_asii_sorted)"
   ]
  },
  {
   "cell_type": "code",
   "execution_count": null,
   "metadata": {},
   "outputs": [],
   "source": [
    "print(\"sorted mae with rnn\")\n",
    "mae_asii_sorted_rnn = dict(sorted(mae_asii_model_rnn.items(),key=lambda item: item[1]))\n",
    "print(mae_asii_sorted_rnn)\n",
    "print(\"sorted rmse with rnn\")\n",
    "rmse_asii_sorted_rnn = dict(sorted(rmse_asii_model_rnn.items(),key=lambda item: item[1]))\n",
    "print(rmse_asii_sorted_rnn)\n",
    "print(\"sorted mape with rnn\")\n",
    "mape_asii_sorted_rnn = dict(sorted(mape_asii_model_rnn.items(),key=lambda item: item[1]))\n",
    "print(mape_asii_sorted_rnn)\n",
    "print(\"sorted r2 with rnn\")\n",
    "r2_asii_sorted_rnn = dict(sorted(r2_asii_model_rnn.items(),key=lambda item: item[1] ,reverse=True))\n",
    "print(r2_asii_sorted_rnn)"
   ]
  },
  {
   "cell_type": "code",
   "execution_count": null,
   "metadata": {},
   "outputs": [],
   "source": [
    "sorted mae with rnn\n",
    "{'model_lstm_asii': 0.015557469024060277, 'model_bidirectional_lstm': 0.015557469024060277, 'model_rnn': 0.016422883454755, 'model_convlstm': 0.017502466607205686, 'model_cnn_lstm': 0.025615471457232676}\n",
    "sorted rmse with rnn\n",
    "{'model_lstm_asii': 0.020195572184998862, 'model_bidirectional_lstm': 0.020195572184998862, 'model_rnn': 0.02181020099368869, 'model_convlstm': 0.024368460318503666, 'model_cnn_lstm': 0.034314310609913}\n",
    "sorted mape with rnn\n",
    "{'model_lstm_asii': 0.03653063088132113, 'model_bidirectional_lstm': 0.03653063088132113, 'model_convlstm': 0.04371383500044023, 'model_rnn': 0.060887043105124335, 'model_cnn_lstm': 0.09404178861648758}\n",
    "sorted r2 with rnn\n",
    "{'model_lstm_asii': 0.989093802259257, 'model_bidirectional_lstm': 0.989093802259257, 'model_rnn': 0.9887014235433372, 'model_convlstm': 0.9845989847390949, 'model_cnn_lstm': 0.9706884687600915}"
   ]
  },
  {
   "cell_type": "code",
   "execution_count": null,
   "metadata": {},
   "outputs": [],
   "source": [
    "plot_metriks(mae_asii_model,\"plot mae comparison of lstm model by asii stock\")\n",
    "plot_metriks(mape_asii_model,\"plot mape comparison of lstm model by asii stock\")\n",
    "plot_metriks(rmse_asii_model,\"plot rmse comparison of lstm model by asii stock\")\n",
    "plot_metriks(r2_asii_model,\"plot r2 comparison of lstm model by asii stock\")"
   ]
  },
  {
   "cell_type": "markdown",
   "metadata": {},
   "source": [
    "## ICBP"
   ]
  },
  {
   "cell_type": "code",
   "execution_count": null,
   "metadata": {},
   "outputs": [],
   "source": [
    "mae_icbp_model = {'model\\nlstm\\nicbp':mean_absolute_error(preds_icbp, y_test_icbp),'model\\nbidirectional\\nlstm':mean_absolute_error(preds_icbp_bidirectional, y_test_icbp),'model\\ncnn\\nlstm':mean_absolute_error(preds_icbp_cnn_lstm, y_test_icbp_cnn),'model\\nconvlstm':mean_absolute_error(preds_icbp_conv_lstm, y_test_icbp_conv)}\n",
    "\n",
    "mape_icbp_model = {'model\\nlstm\\nicbp':mean_absolute_percentage_error(preds_icbp, y_test_icbp),'model\\nbidirectional\\nlstm':mean_absolute_percentage_error(preds_icbp_bidirectional, y_test_icbp),'model\\ncnn\\nlstm':mean_absolute_percentage_error(preds_icbp_cnn_lstm, y_test_icbp_cnn),'model\\nconvlstm':mean_absolute_percentage_error(preds_icbp_conv_lstm, y_test_icbp_conv),}\n",
    "\n",
    "rmse_icbp_model = {'model\\nlstm\\nicbp':np.sqrt(mean_squared_error(preds_icbp, y_test_icbp)),'model\\nbidirectional\\nlstm':np.sqrt(mean_squared_error(preds_icbp_bidirectional, y_test_icbp)),'model\\ncnn\\nlstm':np.sqrt(mean_squared_error(preds_icbp_cnn_lstm, y_test_icbp_cnn)),'model\\nconvlstm':np.sqrt(mean_squared_error(preds_icbp_conv_lstm, y_test_icbp_conv))}\n",
    "\n",
    "r2_icbp_model = {'model\\nlstm\\nicbp':r2_score(preds_icbp, y_test_icbp),'model\\nbidirectional\\nlstm':r2_score(preds_icbp_bidirectional, y_test_icbp),'model\\ncnn\\nlstm':r2_score(preds_icbp_cnn_lstm, y_test_icbp_cnn),'model\\nconvlstm':r2_score(preds_icbp_conv_lstm, y_test_icbp_conv)} \n"
   ]
  },
  {
   "cell_type": "code",
   "execution_count": null,
   "metadata": {},
   "outputs": [],
   "source": [
    "mae_icbp_model_rnn = {'model\\nlstm\\nicbp':mean_absolute_error(preds_icbp, y_test_icbp),'model\\nbidirectional\\nlstm':mean_absolute_error(preds_icbp_bidirectional, y_test_icbp),'model\\ncnn\\nlstm':mean_absolute_error(preds_icbp_cnn_lstm, y_test_icbp_cnn),'model\\nconvlstm':mean_absolute_error(preds_icbp_conv_lstm, y_test_icbp_conv),'model\\nrnn':mean_absolute_error(preds_icbp_rnn, y_test_icbp_rnn)}\n",
    "\n",
    "mape_icbp_model_rnn = {'model\\nlstm\\nicbp':mean_absolute_percentage_error(preds_icbp, y_test_icbp),'model\\nbidirectional\\nlstm':mean_absolute_percentage_error(preds_icbp_bidirectional, y_test_icbp),'model\\ncnn\\nlstm':mean_absolute_percentage_error(preds_icbp_cnn_lstm, y_test_icbp_cnn),'model\\nconvlstm':mean_absolute_percentage_error(preds_icbp_conv_lstm, y_test_icbp_conv),'model\\nrnn':mean_absolute_percentage_error(preds_icbp_rnn, y_test_icbp_rnn)}\n",
    "\n",
    "rmse_icbp_model_rnn = {'model\\nlstm\\nicbp':np.sqrt(mean_squared_error(preds_icbp, y_test_icbp)),'model\\nbidirectional\\nlstm':np.sqrt(mean_squared_error(preds_icbp_bidirectional, y_test_icbp)),'model\\ncnn\\nlstm':np.sqrt(mean_squared_error(preds_icbp_cnn_lstm, y_test_icbp_cnn)),'model\\nconvlstm':np.sqrt(mean_squared_error(preds_icbp_conv_lstm, y_test_icbp_conv)),'model\\nrnn':np.sqrt(mean_squared_error(preds_icbp_rnn, y_test_icbp_rnn))}\n",
    "\n",
    "r2_icbp_model_rnn = {'model\\nlstm\\nicbp':r2_score(preds_icbp, y_test_icbp),'model\\nbidirectional\\nlstm':r2_score(preds_icbp_bidirectional, y_test_icbp),'model\\ncnn\\nlstm':r2_score(preds_icbp_cnn_lstm, y_test_icbp_cnn),'model\\nconvlstm':r2_score(preds_icbp_conv_lstm, y_test_icbp_conv),'model\\nrnn':r2_score(preds_icbp_rnn, y_test_icbp_rnn)} \n"
   ]
  },
  {
   "cell_type": "code",
   "execution_count": null,
   "metadata": {},
   "outputs": [],
   "source": [
    "print(\"sorted mae\")\n",
    "mae_icbp_sorted = dict(sorted(mae_icbp_model.items(),key=lambda item: item[1]))\n",
    "print(mae_icbp_sorted)\n",
    "print(\"sorted rmse\")\n",
    "rmse_icbp_sorted = dict(sorted(rmse_icbp_model.items(),key=lambda item: item[1]))\n",
    "print(rmse_icbp_sorted)\n",
    "print(\"sorted mape\")\n",
    "mape_icbp_sorted = dict(sorted(mape_icbp_model.items(),key=lambda item: item[1]))\n",
    "print(mape_icbp_sorted)\n",
    "print(\"sorted r2\")\n",
    "r2_icbp_sorted = dict(sorted(r2_icbp_model.items(),key=lambda item: item[1] ,reverse=True))\n",
    "print(r2_icbp_sorted)"
   ]
  },
  {
   "cell_type": "code",
   "execution_count": null,
   "metadata": {},
   "outputs": [],
   "source": [
    "sorted mae\n",
    "{'model_lstm_icbp': 0.007648942956731045, 'model_bidirectional_lstm': 0.007648942956731045, 'model_convlstm': 0.008220928696773062, 'model_cnn_lstm': 0.009556431471032486}\n",
    "sorted rmse\n",
    "{'model_lstm_icbp': 0.011935327146399034, 'model_bidirectional_lstm': 0.011935327146399034, 'model_convlstm': 0.01194496498690776, 'model_cnn_lstm': 0.014560457730640828}\n",
    "sorted mape\n",
    "{'model_lstm_icbp': 0.030918351015072346, 'model_bidirectional_lstm': 0.030918351015072346, 'model_convlstm': 0.03313670493828922, 'model_cnn_lstm': 0.040972101408647904}\n",
    "sorted r2\n",
    "{'model_lstm_icbp': 0.9981788616019397, 'model_bidirectional_lstm': 0.9981788616019397, 'model_convlstm': 0.9981439306391389, 'model_cnn_lstm': 0.9970308200983052}"
   ]
  },
  {
   "cell_type": "code",
   "execution_count": null,
   "metadata": {},
   "outputs": [],
   "source": [
    "print(\"sorted mae with rnn\")\n",
    "mae_icbp_sorted_rnn = dict(sorted(mae_icbp_model_rnn.items(),key=lambda item: item[1]))\n",
    "print(mae_icbp_sorted_rnn)\n",
    "print(\"sorted rmse with rnn\")\n",
    "rmse_icbp_sorted_rnn = dict(sorted(rmse_icbp_model_rnn.items(),key=lambda item: item[1]))\n",
    "print(rmse_icbp_sorted_rnn)\n",
    "print(\"sorted mape with rnn\")\n",
    "mape_icbp_sorted_rnn = dict(sorted(mape_icbp_model_rnn.items(),key=lambda item: item[1]))\n",
    "print(mape_icbp_sorted_rnn)\n",
    "print(\"sorted r2 with rnn\")\n",
    "r2_icbp_sorted_rnn = dict(sorted(r2_icbp_model_rnn.items(),key=lambda item: item[1] ,reverse=True))\n",
    "print(r2_icbp_sorted_rnn)"
   ]
  },
  {
   "cell_type": "code",
   "execution_count": null,
   "metadata": {},
   "outputs": [],
   "source": [
    "sorted mae with rnn\n",
    "{'model_lstm_icbp': 0.007648942956731045, 'model_bidirectional_lstm': 0.007648942956731045, 'model_rnn': 0.007757285320692215, 'model_convlstm': 0.008220928696773062, 'model_cnn_lstm': 0.009556431471032486}\n",
    "sorted rmse with rnn\n",
    "{'model_lstm_icbp': 0.011935327146399034, 'model_bidirectional_lstm': 0.011935327146399034, 'model_convlstm': 0.01194496498690776, 'model_rnn': 0.01200580053690187, 'model_cnn_lstm': 0.014560457730640828}\n",
    "sorted mape with rnn\n",
    "{'model_rnn': 0.028233230604920338, 'model_lstm_icbp': 0.030918351015072346, 'model_bidirectional_lstm': 0.030918351015072346, 'model_convlstm': 0.03313670493828922, 'model_cnn_lstm': 0.040972101408647904}\n",
    "sorted r2 with rnn\n",
    "{'model_rnn': 0.9982025783014885, 'model_lstm_icbp': 0.9981788616019397, 'model_bidirectional_lstm': 0.9981788616019397, 'model_convlstm': 0.9981439306391389, 'model_cnn_lstm': 0.9970308200983052}"
   ]
  },
  {
   "cell_type": "code",
   "execution_count": null,
   "metadata": {},
   "outputs": [],
   "source": [
    "plot_metriks(mae_icbp_model,\"plot mae comparison of lstm model by icbp stock\")\n",
    "plot_metriks(mape_icbp_model,\"plot mape comparison of lstm model by icbp stock\")\n",
    "plot_metriks(rmse_icbp_model,\"plot rmse comparison of lstm model by icbp stock\")\n",
    "plot_metriks(r2_icbp_model,\"plot r2 comparison of lstm model by icbp stock\")"
   ]
  },
  {
   "cell_type": "markdown",
   "metadata": {},
   "source": [
    "## JSMR"
   ]
  },
  {
   "cell_type": "code",
   "execution_count": null,
   "metadata": {},
   "outputs": [],
   "source": [
    "mae_jsmr_model = {'model\\nlstm\\njsmr':mean_absolute_error(preds_jsmr, y_test_jsmr),'model\\nbidirectional\\nlstm':mean_absolute_error(preds_jsmr_bidirectional, y_test_jsmr),'model\\ncnn\\nlstm':mean_absolute_error(preds_jsmr_cnn_lstm, y_test_jsmr_cnn),'model\\nconvlstm':mean_absolute_error(preds_jsmr_conv_lstm, y_test_jsmr_conv)}\n",
    "\n",
    "mape_jsmr_model = {'model\\nlstm\\njsmr':mean_absolute_percentage_error(preds_jsmr, y_test_jsmr),'model\\nbidirectional\\nlstm':mean_absolute_percentage_error(preds_jsmr_bidirectional, y_test_jsmr),'model\\ncnn\\nlstm':mean_absolute_percentage_error(preds_jsmr_cnn_lstm, y_test_jsmr_cnn),'model\\nconvlstm':mean_absolute_percentage_error(preds_jsmr_conv_lstm, y_test_jsmr_conv),}\n",
    "\n",
    "rmse_jsmr_model = {'model\\nlstm\\njsmr':np.sqrt(mean_squared_error(preds_jsmr, y_test_jsmr)),'model\\nbidirectional\\nlstm':np.sqrt(mean_squared_error(preds_jsmr_bidirectional, y_test_jsmr)),'model\\ncnn\\nlstm':np.sqrt(mean_squared_error(preds_jsmr_cnn_lstm, y_test_jsmr_cnn)),'model\\nconvlstm':np.sqrt(mean_squared_error(preds_jsmr_conv_lstm, y_test_jsmr_conv))}\n",
    "\n",
    "r2_jsmr_model = {'model\\nlstm\\njsmr':r2_score(preds_jsmr, y_test_jsmr),'model\\nbidirectional\\nlstm':r2_score(preds_jsmr_bidirectional, y_test_jsmr),'model\\ncnn\\nlstm':r2_score(preds_jsmr_cnn_lstm, y_test_jsmr_cnn),'model\\nconvlstm':r2_score(preds_jsmr_conv_lstm, y_test_jsmr_conv)} \n"
   ]
  },
  {
   "cell_type": "code",
   "execution_count": null,
   "metadata": {},
   "outputs": [],
   "source": [
    "mae_jsmr_model_rnn = {'model\\nlstm\\njsmr':mean_absolute_error(preds_jsmr, y_test_jsmr),'model\\nbidirectional\\nlstm':mean_absolute_error(preds_jsmr_bidirectional, y_test_jsmr),'model\\ncnn\\nlstm':mean_absolute_error(preds_jsmr_cnn_lstm, y_test_jsmr_cnn),'model\\nconvlstm':mean_absolute_error(preds_jsmr_conv_lstm, y_test_jsmr_conv),'model\\nrnn':mean_absolute_error(preds_jsmr_rnn, y_test_jsmr_rnn)}\n",
    "\n",
    "mape_jsmr_model_rnn = {'model\\nlstm\\njsmr':mean_absolute_percentage_error(preds_jsmr, y_test_jsmr),'model\\nbidirectional\\nlstm':mean_absolute_percentage_error(preds_jsmr_bidirectional, y_test_jsmr),'model\\ncnn\\nlstm':mean_absolute_percentage_error(preds_jsmr_cnn_lstm, y_test_jsmr_cnn),'model\\nconvlstm':mean_absolute_percentage_error(preds_jsmr_conv_lstm, y_test_jsmr_conv),'model\\nrnn':mean_absolute_percentage_error(preds_jsmr_rnn, y_test_jsmr_rnn)}\n",
    "\n",
    "rmse_jsmr_model_rnn = {'model\\nlstm\\njsmr':np.sqrt(mean_squared_error(preds_jsmr, y_test_jsmr)),'model\\nbidirectional\\nlstm':np.sqrt(mean_squared_error(preds_jsmr_bidirectional, y_test_jsmr)),'model\\ncnn\\nlstm':np.sqrt(mean_squared_error(preds_jsmr_cnn_lstm, y_test_jsmr_cnn)),'model\\nconvlstm':np.sqrt(mean_squared_error(preds_jsmr_conv_lstm, y_test_jsmr_conv)),'model\\nrnn':np.sqrt(mean_squared_error(preds_jsmr_rnn, y_test_jsmr_rnn))}\n",
    "\n",
    "r2_jsmr_model_rnn = {'model\\nlstm\\njsmr':r2_score(preds_jsmr, y_test_jsmr),'model\\nbidirectional\\nlstm':r2_score(preds_jsmr_bidirectional, y_test_jsmr),'model\\ncnn\\nlstm':r2_score(preds_jsmr_cnn_lstm, y_test_jsmr_cnn),'model\\nconvlstm':r2_score(preds_jsmr_conv_lstm, y_test_jsmr_conv),'model\\nrnn':r2_score(preds_jsmr_rnn, y_test_jsmr_rnn)} \n"
   ]
  },
  {
   "cell_type": "code",
   "execution_count": null,
   "metadata": {},
   "outputs": [],
   "source": [
    "print(\"sorted mae\")\n",
    "mae_jsmr_sorted = dict(sorted(mae_jsmr_model.items(),key=lambda item: item[1]))\n",
    "print(mae_jsmr_sorted)\n",
    "print(\"sorted rmse\")\n",
    "rmse_jsmr_sorted = dict(sorted(rmse_jsmr_model.items(),key=lambda item: item[1]))\n",
    "print(rmse_jsmr_sorted)\n",
    "print(\"sorted mape\")\n",
    "mape_jsmr_sorted = dict(sorted(mape_jsmr_model.items(),key=lambda item: item[1]))\n",
    "print(mape_jsmr_sorted)\n",
    "print(\"sorted r2\")\n",
    "r2_jsmr_sorted = dict(sorted(r2_jsmr_model.items(),key=lambda item: item[1] ,reverse=True))\n",
    "print(r2_jsmr_sorted)"
   ]
  },
  {
   "cell_type": "code",
   "execution_count": null,
   "metadata": {},
   "outputs": [],
   "source": [
    "sorted mae\n",
    "{'model_lstm_jsmr': 0.011625160650538133, 'model_bidirectional_lstm': 0.011625160650538133, 'model_cnn_lstm': 0.014865195266480814, 'model_convlstm': 0.1709639568691877}\n",
    "sorted rmse\n",
    "{'model_lstm_jsmr': 0.016253116954927965, 'model_bidirectional_lstm': 0.016253116954927965, 'model_cnn_lstm': 0.0199532391334831, 'model_convlstm': 0.2167639950236958}\n",
    "sorted mape\n",
    "{'model_lstm_jsmr': 0.034380635932369126, 'model_bidirectional_lstm': 0.034380635932369126, 'model_cnn_lstm': 0.037042561270746684, 'model_convlstm': 0.28156389013646044}\n",
    "sorted r2\n",
    "{'model_lstm_jsmr': 0.9941700031256803, 'model_bidirectional_lstm': 0.9941700031256803, 'model_cnn_lstm': 0.9902441332698643, 'model_convlstm': -3306390113773.7236}"
   ]
  },
  {
   "cell_type": "code",
   "execution_count": null,
   "metadata": {},
   "outputs": [],
   "source": [
    "print(\"sorted mae with rnn\")\n",
    "mae_jsmr_sorted_rnn = dict(sorted(mae_jsmr_model_rnn.items(),key=lambda item: item[1]))\n",
    "print(mae_jsmr_sorted_rnn)\n",
    "print(\"sorted rmse with rnn\")\n",
    "rmse_jsmr_sorted_rnn = dict(sorted(rmse_jsmr_model_rnn.items(),key=lambda item: item[1]))\n",
    "print(rmse_jsmr_sorted_rnn)\n",
    "print(\"sorted mape with rnn\")\n",
    "mape_jsmr_sorted_rnn = dict(sorted(mape_jsmr_model_rnn.items(),key=lambda item: item[1]))\n",
    "print(mape_jsmr_sorted_rnn)\n",
    "print(\"sorted r2 with rnn\")\n",
    "r2_jsmr_sorted_rnn = dict(sorted(r2_jsmr_model_rnn.items(),key=lambda item: item[1] ,reverse=True))\n",
    "print(r2_jsmr_sorted_rnn)"
   ]
  },
  {
   "cell_type": "code",
   "execution_count": null,
   "metadata": {},
   "outputs": [],
   "source": [
    "sorted mae with rnn\n",
    "{'model_rnn': 0.011223198774113652, 'model_lstm_jsmr': 0.011625160650538133, 'model_bidirectional_lstm': 0.011625160650538133, 'model_cnn_lstm': 0.014865195266480814, 'model_convlstm': 0.1709639568691877}\n",
    "sorted rmse with rnn\n",
    "{'model_rnn': 0.015972328218525875, 'model_lstm_jsmr': 0.016253116954927965, 'model_bidirectional_lstm': 0.016253116954927965, 'model_cnn_lstm': 0.0199532391334831, 'model_convlstm': 0.2167639950236958}\n",
    "sorted mape with rnn\n",
    "{'model_rnn': 0.02776045680249453, 'model_lstm_jsmr': 0.034380635932369126, 'model_bidirectional_lstm': 0.034380635932369126, 'model_cnn_lstm': 0.037042561270746684, 'model_convlstm': 0.28156389013646044}\n",
    "sorted r2 with rnn\n",
    "{'model_rnn': 0.9943931114717062, 'model_lstm_jsmr': 0.9941700031256803, 'model_bidirectional_lstm': 0.9941700031256803, 'model_cnn_lstm': 0.9902441332698643, 'model_convlstm': -3306390113773.7236}"
   ]
  },
  {
   "cell_type": "code",
   "execution_count": null,
   "metadata": {},
   "outputs": [],
   "source": [
    "plot_metriks(mae_jsmr_model,\"plot mae comparison of lstm&rnn model by jsmr stock\")\n",
    "plot_metriks(mape_jsmr_model,\"plot mape comparison of lstm&rnn model by jsmr stock\")\n",
    "plot_metriks(rmse_jsmr_model,\"plot rmse comparison of lstm&rnn model by jsmr stock\")\n",
    "plot_metriks(r2_jsmr_model,\"plot r2 comparison of lstm&rnn model by jsmr stock\")"
   ]
  },
  {
   "cell_type": "markdown",
   "metadata": {},
   "source": [
    "# PLOT METRIKS EVALUASI"
   ]
  },
  {
   "cell_type": "code",
   "execution_count": null,
   "metadata": {},
   "outputs": [],
   "source": []
  },
  {
   "cell_type": "markdown",
   "metadata": {},
   "source": [
    "#### ANTM"
   ]
  },
  {
   "cell_type": "code",
   "execution_count": null,
   "metadata": {},
   "outputs": [],
   "source": [
    "mae_antm_plot = {'mae\\nlstm\\nantm':mean_absolute_error(preds_antm, y_test_antm),'mae\\nbidirectional\\nlstm\\nantm':mean_absolute_error(preds_antm_bidirectional, y_test_antm),'mae\\ncnn\\nlstm\\nantm':mean_absolute_error(preds_antm_cnn_lstm, y_test_antm_cnn),'mae\\nconvlstm\\nantm':mean_absolute_error(preds_antm_conv_lstm, y_test_antm_conv),'mae\\nrnn\\natnm':mean_absolute_error(preds_antm_rnn, y_test_antm_rnn)}\n",
    "\n",
    "mape_antm_plot = {'mape\\nlstm\\nantm':mean_absolute_percentage_error(preds_antm, y_test_antm),'mape\\nbidirectional\\nlstm\\nantm':mean_absolute_percentage_error(preds_antm_bidirectional, y_test_antm),'mape\\ncnn\\nlstm\\nantm':mean_absolute_percentage_error(preds_antm_cnn_lstm, y_test_antm_cnn),'mape\\nconvlstm\\nantm':mean_absolute_percentage_error(preds_antm_conv_lstm, y_test_antm),'mape\\nrnn\\nantm':mean_absolute_percentage_error(preds_antm_rnn, y_test_antm_rnn)}\n",
    "\n",
    "rmse_antm_plot = {'rmse\\nlstm\\nantm':np.sqrt(mean_squared_error(preds_antm, y_test_antm)),'rmse\\nbidirectional\\nlstm\\nantm':np.sqrt(mean_squared_error(preds_antm_bidirectional, y_test_antm)),'rmse\\ncnn\\nlstm\\nantm':np.sqrt(mean_squared_error(preds_antm_cnn_lstm, y_test_antm_cnn)),'convlstm\\nantm':np.sqrt(mean_squared_error(preds_antm_conv_lstm, y_test_antm)),'rmse\\nrnn\\nantm':np.sqrt(mean_squared_error(preds_antm_rnn, y_test_antm_rnn))}\n",
    "\n",
    "r2_antm_plot = {'r2\\nlstm\\nantm':r2_score(preds_antm, y_test_antm),'r2\\nbidirectional\\nlstm\\nantm':r2_score(preds_antm_bidirectional, y_test_antm),'r2\\ncnn\\nlstm\\nantm':r2_score(preds_antm_cnn_lstm, y_test_antm_cnn),'r2\\nconvlstm\\nantm':r2_score(preds_antm_conv_lstm, y_test_antm),'r2\\nrnn\\nantm':r2_score(preds_antm_rnn, y_test_antm_rnn)} \n"
   ]
  },
  {
   "cell_type": "code",
   "execution_count": null,
   "metadata": {},
   "outputs": [],
   "source": [
    "mae_antm = 'Antm Mae'\n",
    "mape_antm = 'Antm Mape'\n",
    "rmse_antm = 'Antm Rmse'\n",
    "r2_antm = 'Antm R2'"
   ]
  },
  {
   "cell_type": "code",
   "execution_count": null,
   "metadata": {},
   "outputs": [],
   "source": [
    "plot_metriks(mae_antm_plot,mae_antm + \" Hist plot\")"
   ]
  },
  {
   "cell_type": "code",
   "execution_count": null,
   "metadata": {},
   "outputs": [],
   "source": [
    "plot_metriks(mape_antm_plot,mape_antm + \" Hist plot\")"
   ]
  },
  {
   "cell_type": "code",
   "execution_count": null,
   "metadata": {},
   "outputs": [],
   "source": [
    "plot_metriks(rmse_antm_plot,rmse_antm + \" Hist plot\")"
   ]
  },
  {
   "cell_type": "code",
   "execution_count": null,
   "metadata": {},
   "outputs": [],
   "source": [
    "plot_metriks(r2_antm_plot,r2_antm +\" Hist plot\")"
   ]
  },
  {
   "cell_type": "markdown",
   "metadata": {},
   "source": [
    "#### ASII"
   ]
  },
  {
   "cell_type": "code",
   "execution_count": null,
   "metadata": {},
   "outputs": [],
   "source": [
    "mae_asii_plot = {'mae\\nlstm\\nasii':mean_absolute_error(preds_asii, y_test_asii),'mae\\nbidirectional\\nlstm\\nasii':mean_absolute_error(preds_asii_bidirectional, y_test_asii),'mae\\ncnn\\nlstm\\nasii':mean_absolute_error(preds_asii_cnn_lstm, y_test_asii_cnn),'mae\\nconvlstm\\nasii':mean_absolute_error(preds_asii_conv_lstm, y_test_asii_conv),'mae\\nrnn\\natnm':mean_absolute_error(preds_asii_rnn, y_test_asii_rnn)}\n",
    "\n",
    "mape_asii_plot = {'mape\\nlstm\\nasii':mean_absolute_percentage_error(preds_asii, y_test_asii),'mape\\nbidirectional\\nlstm\\nasii':mean_absolute_percentage_error(preds_asii_bidirectional, y_test_asii),'mape\\ncnn\\nlstm\\nasii':mean_absolute_percentage_error(preds_asii_cnn_lstm, y_test_asii_cnn),'mape\\nconvlstm\\nasii':mean_absolute_percentage_error(preds_asii_conv_lstm, y_test_asii),'mape\\nrnn\\nasii':mean_absolute_percentage_error(preds_asii_rnn, y_test_asii_rnn)}\n",
    "\n",
    "rmse_asii_plot = {'rmse\\nlstm\\nasii':np.sqrt(mean_squared_error(preds_asii, y_test_asii)),'rmse\\nbidirectional\\nlstm\\nasii':np.sqrt(mean_squared_error(preds_asii_bidirectional, y_test_asii)),'rmse\\ncnn\\nlstm\\nasii':np.sqrt(mean_squared_error(preds_asii_cnn_lstm, y_test_asii_cnn)),'convlstm\\nasii':np.sqrt(mean_squared_error(preds_asii_conv_lstm, y_test_asii)),'rmse\\nrnn\\nasii':np.sqrt(mean_squared_error(preds_asii_rnn, y_test_asii_rnn))}\n",
    "\n",
    "r2_asii_plot = {'r2\\nlstm\\nasii':r2_score(preds_asii, y_test_asii),'r2\\nbidirectional\\nlstm\\nasii':r2_score(preds_asii_bidirectional, y_test_asii),'r2\\ncnn\\nlstm\\nasii':r2_score(preds_asii_cnn_lstm, y_test_asii_cnn),'r2\\nconvlstm\\nasii':r2_score(preds_asii_conv_lstm, y_test_asii),'r2\\nrnn\\nasii':r2_score(preds_asii_rnn, y_test_asii_rnn)} \n"
   ]
  },
  {
   "cell_type": "code",
   "execution_count": null,
   "metadata": {},
   "outputs": [],
   "source": [
    "mae_asii = 'Asii Mae'\n",
    "mape_asii = 'Asii Mape'\n",
    "rmse_asii = 'Asii Rmse'\n",
    "r2_asii = 'Asii R2'"
   ]
  },
  {
   "cell_type": "code",
   "execution_count": null,
   "metadata": {},
   "outputs": [],
   "source": [
    "plot_metriks(mae_asii_plot,mae_asii + \" Hist plot\")"
   ]
  },
  {
   "cell_type": "code",
   "execution_count": null,
   "metadata": {},
   "outputs": [],
   "source": [
    "plot_metriks(mape_asii_plot,mape_asii + \" Hist plot\")"
   ]
  },
  {
   "cell_type": "code",
   "execution_count": null,
   "metadata": {},
   "outputs": [],
   "source": [
    "plot_metriks(rmse_asii_plot,rmse_asii + \" Hist plot\")"
   ]
  },
  {
   "cell_type": "code",
   "execution_count": null,
   "metadata": {},
   "outputs": [],
   "source": [
    "plot_metriks(r2_asii_plot,r2_asii +\" Hist plot\")"
   ]
  },
  {
   "cell_type": "markdown",
   "metadata": {},
   "source": [
    "#### ICBP"
   ]
  },
  {
   "cell_type": "code",
   "execution_count": null,
   "metadata": {},
   "outputs": [],
   "source": [
    "mae_icbp_plot = {'mae\\nlstm\\nicbp':mean_absolute_error(preds_icbp, y_test_icbp),'mae\\nbidirectional\\nlstm\\nicbp':mean_absolute_error(preds_icbp_bidirectional, y_test_icbp),'mae\\ncnn\\nlstm\\nicbp':mean_absolute_error(preds_icbp_cnn_lstm, y_test_icbp_cnn),'mae\\nconvlstm\\nicbp':mean_absolute_error(preds_icbp_conv_lstm, y_test_icbp_conv),'mae\\nrnn\\natnm':mean_absolute_error(preds_icbp_rnn, y_test_icbp_rnn)}\n",
    "\n",
    "mape_icbp_plot = {'mape\\nlstm\\nicbp':mean_absolute_percentage_error(preds_icbp, y_test_icbp),'mape\\nbidirectional\\nlstm\\nicbp':mean_absolute_percentage_error(preds_icbp_bidirectional, y_test_icbp),'mape\\ncnn\\nlstm\\nicbp':mean_absolute_percentage_error(preds_icbp_cnn_lstm, y_test_icbp_cnn),'mape\\nconvlstm\\nicbp':mean_absolute_percentage_error(preds_icbp_conv_lstm, y_test_icbp),'mape\\nrnn\\nicbp':mean_absolute_percentage_error(preds_icbp_rnn, y_test_icbp_rnn)}\n",
    "\n",
    "rmse_icbp_plot = {'rmse\\nlstm\\nicbp':np.sqrt(mean_squared_error(preds_icbp, y_test_icbp)),'rmse\\nbidirectional\\nlstm\\nicbp':np.sqrt(mean_squared_error(preds_icbp_bidirectional, y_test_icbp)),'rmse\\ncnn\\nlstm\\nicbp':np.sqrt(mean_squared_error(preds_icbp_cnn_lstm, y_test_icbp_cnn)),'convlstm\\nicbp':np.sqrt(mean_squared_error(preds_icbp_conv_lstm, y_test_icbp)),'rmse\\nrnn\\nicbp':np.sqrt(mean_squared_error(preds_icbp_rnn, y_test_icbp_rnn))}\n",
    "\n",
    "r2_icbp_plot = {'r2\\nlstm\\nicbp':r2_score(preds_icbp, y_test_icbp),'r2\\nbidirectional\\nlstm\\nicbp':r2_score(preds_icbp_bidirectional, y_test_icbp),'r2\\ncnn\\nlstm\\nicbp':r2_score(preds_icbp_cnn_lstm, y_test_icbp_cnn),'r2\\nconvlstm\\nicbp':r2_score(preds_icbp_conv_lstm, y_test_icbp),'r2\\nrnn\\nicbp':r2_score(preds_icbp_rnn, y_test_icbp_rnn)} \n"
   ]
  },
  {
   "cell_type": "code",
   "execution_count": null,
   "metadata": {},
   "outputs": [],
   "source": [
    "mae_icbp = 'Icbp Mae'\n",
    "mape_icbp = 'Icbp Mape'\n",
    "rmse_icbp = 'Icbp Rmse'\n",
    "r2_icbp = 'Icbp R2'"
   ]
  },
  {
   "cell_type": "code",
   "execution_count": null,
   "metadata": {},
   "outputs": [],
   "source": [
    "plot_metriks(mae_icbp_plot,mae_icbp + \" Hist plot\")"
   ]
  },
  {
   "cell_type": "code",
   "execution_count": null,
   "metadata": {},
   "outputs": [],
   "source": [
    "plot_metriks(mape_icbp_plot,mape_icbp + \" Hist plot\")"
   ]
  },
  {
   "cell_type": "code",
   "execution_count": null,
   "metadata": {},
   "outputs": [],
   "source": [
    "plot_metriks(rmse_icbp_plot,rmse_icbp + \" Hist plot\")"
   ]
  },
  {
   "cell_type": "code",
   "execution_count": null,
   "metadata": {},
   "outputs": [],
   "source": [
    "plot_metriks(r2_icbp_plot,r2_icbp +\" Hist plot\")"
   ]
  },
  {
   "cell_type": "markdown",
   "metadata": {},
   "source": [
    "#### JSMR"
   ]
  },
  {
   "cell_type": "code",
   "execution_count": null,
   "metadata": {},
   "outputs": [],
   "source": [
    "mae_jsmr_plot = {'mae\\nlstm\\njsmr':mean_absolute_error(preds_jsmr, y_test_jsmr),'mae\\nbidirectional\\nlstm\\njsmr':mean_absolute_error(preds_jsmr_bidirectional, y_test_jsmr),'mae\\ncnn\\nlstm\\njsmr':mean_absolute_error(preds_jsmr_cnn_lstm, y_test_jsmr_cnn),'mae\\nconvlstm\\njsmr':mean_absolute_error(preds_jsmr_conv_lstm, y_test_jsmr_conv),'mae\\nrnn\\natnm':mean_absolute_error(preds_jsmr_rnn, y_test_jsmr_rnn)}\n",
    "\n",
    "mape_jsmr_plot = {'mape\\nlstm\\njsmr':mean_absolute_percentage_error(preds_jsmr, y_test_jsmr),'mape\\nbidirectional\\nlstm\\njsmr':mean_absolute_percentage_error(preds_jsmr_bidirectional, y_test_jsmr),'mape\\ncnn\\nlstm\\njsmr':mean_absolute_percentage_error(preds_jsmr_cnn_lstm, y_test_jsmr_cnn),'mape\\nconvlstm\\njsmr':mean_absolute_percentage_error(preds_jsmr_conv_lstm, y_test_jsmr_conv),'mape\\nrnn\\njsmr':mean_absolute_percentage_error(preds_jsmr_rnn, y_test_jsmr_rnn)}\n",
    "\n",
    "rmse_jsmr_plot = {'rmse\\nlstm\\njsmr':np.sqrt(mean_squared_error(preds_jsmr, y_test_jsmr)),'rmse\\nbidirectional\\nlstm\\njsmr':np.sqrt(mean_squared_error(preds_jsmr_bidirectional, y_test_jsmr)),'rmse\\ncnn\\nlstm\\njsmr':np.sqrt(mean_squared_error(preds_jsmr_cnn_lstm, y_test_jsmr_cnn)),'convlstm\\njsmr':np.sqrt(mean_squared_error(preds_jsmr_conv_lstm, y_test_jsmr_conv)),'rmse\\nrnn\\njsmr':np.sqrt(mean_squared_error(preds_jsmr_rnn, y_test_jsmr_rnn))}\n",
    "\n",
    "r2_jsmr_plot = {'r2\\nlstm\\njsmr':r2_score(preds_jsmr, y_test_jsmr),'r2\\nbidirectional\\nlstm\\njsmr':r2_score(preds_jsmr_bidirectional, y_test_jsmr),'r2\\ncnn\\nlstm\\njsmr':r2_score(preds_jsmr_cnn_lstm, y_test_jsmr_cnn),'r2\\nconvlstm\\njsmr':r2_score(preds_jsmr_conv_lstm, y_test_jsmr_conv),'r2\\nrnn\\njsmr':r2_score(preds_jsmr_rnn, y_test_jsmr_rnn)} \n"
   ]
  },
  {
   "cell_type": "code",
   "execution_count": null,
   "metadata": {},
   "outputs": [],
   "source": [
    "mae_jsmr = 'Jsmr Mae'\n",
    "mape_jsmr = 'Jsmr Mape'\n",
    "rmse_jsmr = 'Jsmr Rmse'\n",
    "r2_jsmr = 'Jsmr R2'"
   ]
  },
  {
   "cell_type": "code",
   "execution_count": null,
   "metadata": {},
   "outputs": [],
   "source": [
    "plot_metriks(mae_jsmr_plot,mae_jsmr + \" Hist plot\")"
   ]
  },
  {
   "cell_type": "code",
   "execution_count": null,
   "metadata": {},
   "outputs": [],
   "source": [
    "plot_metriks(mape_jsmr_plot,mape_jsmr + \" Hist plot\")"
   ]
  },
  {
   "cell_type": "code",
   "execution_count": null,
   "metadata": {},
   "outputs": [],
   "source": [
    "plot_metriks(rmse_jsmr_plot,rmse_jsmr + \" Hist plot\")"
   ]
  },
  {
   "cell_type": "code",
   "execution_count": null,
   "metadata": {},
   "outputs": [],
   "source": [
    "plot_metriks(r2_jsmr_plot,r2_jsmr +\" Hist plot\")"
   ]
  }
 ],
 "metadata": {
  "kernelspec": {
   "display_name": "Python 3.9.9 64-bit",
   "language": "python",
   "name": "python3"
  },
  "language_info": {
   "codemirror_mode": {
    "name": "ipython",
    "version": 3
   },
   "file_extension": ".py",
   "mimetype": "text/x-python",
   "name": "python",
   "nbconvert_exporter": "python",
   "pygments_lexer": "ipython3",
   "version": "3.9.12 (tags/v3.9.12:b28265d, Mar 23 2022, 23:52:46) [MSC v.1929 64 bit (AMD64)]"
  },
  "orig_nbformat": 4,
  "vscode": {
   "interpreter": {
    "hash": "3816365fdcd687a07caedfe721e5894fb1dd0a24482efb967fc5a605423a1021"
   }
  }
 },
 "nbformat": 4,
 "nbformat_minor": 2
}
