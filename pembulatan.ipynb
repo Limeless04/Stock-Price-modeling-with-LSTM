{
 "cells": [
  {
   "cell_type": "code",
   "execution_count": 1,
   "metadata": {},
   "outputs": [],
   "source": [
    "import numpy as np\n",
    "\n",
    "def pembulatan(data):\n",
    "    print(np.round(data,2))"
   ]
  },
  {
   "cell_type": "code",
   "execution_count": 13,
   "metadata": {},
   "outputs": [
    {
     "name": "stdout",
     "output_type": "stream",
     "text": [
      "0.01\n"
     ]
    }
   ],
   "source": [
    "pembulatan(0.013)"
   ]
  },
  {
   "cell_type": "code",
   "execution_count": 12,
   "metadata": {},
   "outputs": [
    {
     "name": "stdout",
     "output_type": "stream",
     "text": [
      "669.96\n",
      "0.7\n",
      "906.99\n"
     ]
    }
   ],
   "source": [
    "#antm\n",
    "pembulatan(669.9553010206956)\n",
    "pembulatan( 0.6965832413152174)\n",
    "pembulatan(906.9924541458374)"
   ]
  },
  {
   "cell_type": "code",
   "execution_count": 10,
   "metadata": {},
   "outputs": [
    {
     "name": "stdout",
     "output_type": "stream",
     "text": [
      "4488.77\n",
      "0.9\n",
      "4625.71\n"
     ]
    }
   ],
   "source": [
    "#icbp\n",
    "pembulatan(4488.774038461538)\n",
    "pembulatan(0.8977548076923076)\n",
    "pembulatan(4625.708950341475)"
   ]
  },
  {
   "cell_type": "code",
   "execution_count": 9,
   "metadata": {},
   "outputs": [
    {
     "name": "stdout",
     "output_type": "stream",
     "text": [
      "1389.1\n",
      "0.24\n",
      "1576.38\n"
     ]
    }
   ],
   "source": [
    "#jsmr\n",
    "pembulatan(1389.102618102191)\n",
    "pembulatan(0.24206759677096912)\n",
    "pembulatan(1576.3808451019647)"
   ]
  },
  {
   "cell_type": "code",
   "execution_count": 11,
   "metadata": {},
   "outputs": [
    {
     "name": "stdout",
     "output_type": "stream",
     "text": [
      "1202.22\n",
      "0.17\n",
      "1499.72\n"
     ]
    }
   ],
   "source": [
    "#asii\n",
    "pembulatan(1202.223646738977)\n",
    "pembulatan(0.16559605551819098)\n",
    "pembulatan(1499.7193687942463)"
   ]
  },
  {
   "cell_type": "code",
   "execution_count": 2,
   "metadata": {},
   "outputs": [],
   "source": [
    "# epoch 100\n",
    "# mae score antm_n2_h1_u8_lr1_e100: 0.14754789239237595\n",
    "# r2 score antm_n2_h1_u8_lr1_e100: -221038482894204.16\n",
    "# mape score antm_n2_h1_u8_lr1_e100: 0.7403797531482074\n",
    "# rmse score antm_n2_h1_u8_lr1_e100: 0.22154097275102877\n",
    "# epoch 150\n",
    "# mae score antm_n2_h1_u8_lr1_e150: 0.012603131954268052\n",
    "# r2 score antm_n2_h1_u8_lr1_e150: 0.9924575065041806\n",
    "# mape score antm_n2_h1_u8_lr1_e150: 0.07157605810937363\n",
    "# rmse score antm_n2_h1_u8_lr1_e150: 0.017055567313677432\n",
    "# epoch 200\n",
    "# mae score antm_n2_h1_u8_lr1_e200: 0.010756083597232485\n",
    "# r2 score antm_n2_h1_u8_lr1_e200: 0.9944954731854885\n",
    "# mape score antm_n2_h1_u8_lr1_e200: 0.047077413811716186\n",
    "# rmse score antm_n2_h1_u8_lr1_e200: 0.014875900820590184"
   ]
  },
  {
   "cell_type": "code",
   "execution_count": 3,
   "metadata": {},
   "outputs": [
    {
     "name": "stdout",
     "output_type": "stream",
     "text": [
      "learning rate 1\n",
      "0.15\n",
      "-221038482894204.16\n",
      "0.74\n",
      "0.22\n",
      "learning rate 2\n",
      "0.01\n",
      "0.99\n",
      "0.07\n",
      "0.02\n",
      " learning rate 3\n",
      "0.01\n",
      "0.99\n",
      "0.05\n",
      "0.01\n"
     ]
    }
   ],
   "source": [
    "\n",
    "print('learning rate 1')\n",
    "mae_score_antm_1 = pembulatan(0.14754789239237595)\n",
    "r2_score_antm_1 = pembulatan(-221038482894204.16)\n",
    "mape_score_antm_1 = pembulatan(0.7403797531482074)\n",
    "rmse_score_antm_1 = pembulatan(0.22154097275102877)\n",
    "print( 'learning rate 2')\n",
    "mae_score_antm_2 = pembulatan(0.012603131954268052)\n",
    "r2_score_antm_2 = pembulatan(0.9924575065041806)\n",
    "mape_score_antm_2= pembulatan(0.07157605810937363)\n",
    "rmse_score_antm_2= pembulatan(0.017055567313677432)\n",
    "print(' learning rate 3')\n",
    "mae_score_antm_3= pembulatan(0.010756083597232485)\n",
    "r2_score_antm_3= pembulatan(0.9944954731854885)\n",
    "mape_score_antm_3= pembulatan(0.047077413811716186)\n",
    "rmse_score_antm_3= pembulatan(0.014875900820590184)\n",
    "# print('learning rate 4') \n",
    "# mae_score_antm_4= pembulatan( 0.008228418334623457)\n",
    "# r2_score_antm_4= pembulatan(0.9949234614902839)\n",
    "# mape_score_antm_4= pembulatan(0.03492159235018264)\n",
    "# rmse_score_antm_4= pembulatan(0.013806358248692464)\n"
   ]
  },
  {
   "cell_type": "code",
   "execution_count": 4,
   "metadata": {},
   "outputs": [],
   "source": [
    "# epoch 100\n",
    "# mae score asii_n3_h1_u32_lr2_e100: 0.014796198288149291\n",
    "# r2 score asii_n3_h1_u32_lr2_e100: 0.9900005761927053\n",
    "# mape score asii_n3_h1_u32_lr2_e100: 0.03252959845439422\n",
    "# rmse score asii_n3_h1_u32_lr2_e100: 0.019880899176690187\n",
    "# epoch 150\n",
    "# mae score asii_n3_h1_u32_lr2_e150: 0.014720629079311317\n",
    "# r2 score asii_n3_h1_u32_lr2_e150: 0.9900421439449422\n",
    "# mape score asii_n3_h1_u32_lr2_e150: 0.03349409492304816\n",
    "# rmse score asii_n3_h1_u32_lr2_e150: 0.019787171074738395\n",
    "# epoch 200\n",
    "# mae score asii_n3_h1_u32_lr2_e200: 0.015531000751860619\n",
    "# r2 score asii_n3_h1_u32_lr2_e200: 0.9889763587181039\n",
    "# mape score asii_n3_h1_u32_lr2_e200: 0.03368880365631896\n",
    "# rmse score asii_n3_h1_u32_lr2_e200: 0.020626043608880918"
   ]
  },
  {
   "cell_type": "code",
   "execution_count": 5,
   "metadata": {},
   "outputs": [
    {
     "name": "stdout",
     "output_type": "stream",
     "text": [
      "learning rate 1\n",
      "0.01\n",
      "0.99\n",
      "0.03\n",
      "0.02\n",
      "learning rate 2\n",
      "0.01\n",
      "0.99\n",
      "0.03\n",
      "0.02\n",
      " learning rate 3\n",
      "0.02\n",
      "0.99\n",
      "0.03\n",
      "0.02\n"
     ]
    }
   ],
   "source": [
    "\n",
    "print('learning rate 1')\n",
    "mae_score_asii_1 = pembulatan(0.014796198288149291)\n",
    "r2_score_asii_1 = pembulatan(0.9900005761927053)\n",
    "mape_score_asii_1 = pembulatan(0.03252959845439422)\n",
    "rmse_score_asii_1 = pembulatan(0.019880899176690187)\n",
    "print( 'learning rate 2')\n",
    "mae_score_asii_2 = pembulatan(0.014720629079311317)\n",
    "r2_score_asii_2 = pembulatan(0.9900421439449422)\n",
    "mape_score_asii_2= pembulatan(0.03349409492304816)\n",
    "rmse_score_asii_2= pembulatan(0.019787171074738395)\n",
    "print(' learning rate 3')\n",
    "mae_score_asii_3= pembulatan(0.015531000751860619)\n",
    "r2_score_asii_3= pembulatan(0.9889763587181039)\n",
    "mape_score_asii_3= pembulatan(0.03368880365631896)\n",
    "rmse_score_asii_3= pembulatan(0.020626043608880918)\n",
    "# print('learning rate 4') \n",
    "# mae_score_asii_4= pembulatan(0.016859120812902816)\n",
    "# r2_score_asii_4= pembulatan(0.9868324360049459)\n",
    "# mape_score_asii_4= pembulatan( 0.04349796703399346)\n",
    "# rmse_score_asii_4= pembulatan(0.021919565859925376)\n"
   ]
  },
  {
   "cell_type": "code",
   "execution_count": 6,
   "metadata": {},
   "outputs": [],
   "source": [
    "# epoch 100\n",
    "# mae score icbp_n1_h1_u8_lr1_e100: 0.011829416279720813\n",
    "# r2 score icbp_n1_h1_u8_lr1_e100: 0.9969111260811065\n",
    "# mape score icbp_n1_h1_u8_lr1_e100: 0.05391095328713023\n",
    "# rmse score icbp_n1_h1_u8_lr1_e100: 0.015309465075169035\n",
    "# epoch 150\n",
    "# mae score icbp_n1_h1_u8_lr1_e150: 0.00863103057045081\n",
    "# r2 score icbp_n1_h1_u8_lr1_e150: 0.9980756743822062\n",
    "# mape score icbp_n1_h1_u8_lr1_e150: 0.044077354469535264\n",
    "# rmse score icbp_n1_h1_u8_lr1_e150: 0.012175448247557782\n",
    "# epoch 200\n",
    "# mae score icbp_n1_h1_u8_lr1_e200: 0.007548246517585376\n",
    "# r2 score icbp_n1_h1_u8_lr1_e200: 0.9984169773841658\n",
    "# mape score icbp_n1_h1_u8_lr1_e200: 0.02786548272161317\n",
    "# rmse score icbp_n1_h1_u8_lr1_e200: 0.011187546983256878"
   ]
  },
  {
   "cell_type": "code",
   "execution_count": 7,
   "metadata": {},
   "outputs": [
    {
     "name": "stdout",
     "output_type": "stream",
     "text": [
      "neuron 1\n",
      "0.01\n",
      "1.0\n",
      "0.05\n",
      "0.02\n",
      "neuron 2\n",
      "0.01\n",
      "1.0\n",
      "0.04\n",
      "0.01\n",
      " neuron 3\n",
      "0.01\n",
      "1.0\n",
      "0.03\n",
      "0.01\n"
     ]
    }
   ],
   "source": [
    "\n",
    "print('neuron 1')\n",
    "mae_score_icbp_1 = pembulatan(0.011829416279720813)\n",
    "r2_score_icbp_1 = pembulatan(0.9969111260811065)\n",
    "mape_score_icbp_1 = pembulatan(0.05391095328713023)\n",
    "rmse_score_icbp_1 = pembulatan(0.015309465075169035)\n",
    "print( 'neuron 2')\n",
    "mae_score_icbp_2 = pembulatan(0.00863103057045081)\n",
    "r2_score_icbp_2 = pembulatan( 0.9980756743822062)\n",
    "mape_score_icbp_2= pembulatan(0.044077354469535264)\n",
    "rmse_score_icbp_2= pembulatan(0.012175448247557782)\n",
    "print(' neuron 3')\n",
    "mae_score_icbp_3= pembulatan(0.007548246517585376)\n",
    "r2_score_icbp_3= pembulatan(0.9984169773841658)\n",
    "mape_score_icbp_3= pembulatan(0.02786548272161317)\n",
    "rmse_score_icbp_3= pembulatan(0.011187546983256878)\n",
    "# print('neuron 4') \n",
    "# mae_score_icbp_4= pembulatan(0.24899680086672094)\n",
    "# r2_score_icbp_4= pembulatan(-23672082351204.34)\n",
    "# mape_score_icbp_4= pembulatan(0.47254809998808467)\n",
    "# rmse_score_icbp_4= pembulatan(0.29000022547373844)\n"
   ]
  },
  {
   "cell_type": "code",
   "execution_count": 8,
   "metadata": {},
   "outputs": [],
   "source": [
    "# epoch 100\n",
    "# mae score jsmr_n1_h1_u8_lr1_e100: 0.018119861212689825\n",
    "# r2 score jsmr_n1_h1_u8_lr1_e100: 0.9894752418624992\n",
    "# mape score jsmr_n1_h1_u8_lr1_e100: 0.043781076594289176\n",
    "# rmse score jsmr_n1_h1_u8_lr1_e100: 0.022323166047446056\n",
    "# epoch 150\n",
    "# mae score jsmr_n1_h1_u8_lr1_e150: 0.012107913609979913\n",
    "# r2 score jsmr_n1_h1_u8_lr1_e150: 0.9937337140250488\n",
    "# mape score jsmr_n1_h1_u8_lr1_e150: 0.03172246383620455\n",
    "# rmse score jsmr_n1_h1_u8_lr1_e150: 0.016932659020940932\n",
    "# epoch 200\n",
    "# mae score jsmr_n1_h1_u8_lr1_e200: 0.012089393602446269\n",
    "# r2 score jsmr_n1_h1_u8_lr1_e200: 0.9937688105739413\n",
    "# mape score jsmr_n1_h1_u8_lr1_e200: 0.029906221177962093\n",
    "# rmse score jsmr_n1_h1_u8_lr1_e200: 0.016973096009955235"
   ]
  },
  {
   "cell_type": "code",
   "execution_count": 9,
   "metadata": {},
   "outputs": [
    {
     "name": "stdout",
     "output_type": "stream",
     "text": [
      "learning rate 1\n",
      "0.02\n",
      "0.99\n",
      "0.04\n",
      "0.02\n",
      "learning rate 2\n",
      "0.01\n",
      "0.99\n",
      "0.03\n",
      "0.02\n",
      " learning rate 3\n",
      "0.01\n",
      "0.99\n",
      "0.03\n",
      "0.02\n"
     ]
    }
   ],
   "source": [
    "\n",
    "print('learning rate 1')\n",
    "mae_score_jsmr_1 = pembulatan(0.018119861212689825)\n",
    "r2_score_jsmr_1 = pembulatan(0.9894752418624992)\n",
    "mape_score_jsmr_1 = pembulatan(0.043781076594289176)\n",
    "rmse_score_jsmr_1 = pembulatan(0.022323166047446056)\n",
    "print( 'learning rate 2')\n",
    "mae_score_jsmr_2 = pembulatan(0.012107913609979913)\n",
    "r2_score_jsmr_2 = pembulatan(0.9937337140250488)\n",
    "mape_score_jsmr_2= pembulatan(0.03172246383620455)\n",
    "rmse_score_jsmr_2= pembulatan(0.016932659020940932)\n",
    "print(' learning rate 3')\n",
    "mae_score_jsmr_3= pembulatan(0.012089393602446269)\n",
    "r2_score_jsmr_3= pembulatan(0.9937688105739413)\n",
    "mape_score_jsmr_3= pembulatan(0.029906221177962093)\n",
    "rmse_score_jsmr_3= pembulatan(0.016973096009955235)\n",
    "# print('learning rate 4') \n",
    "# mae_score_jsmr_4= pembulatan(0.032494819793814744)\n",
    "# r2_score_jsmr_4= pembulatan(0.965350130015121)\n",
    "# mape_score_jsmr_4= pembulatan(0.06866716078656558)\n",
    "# rmse_score_jsmr_4= pembulatan(0.0374025859927203)\n"
   ]
  },
  {
   "cell_type": "code",
   "execution_count": 10,
   "metadata": {},
   "outputs": [
    {
     "name": "stdout",
     "output_type": "stream",
     "text": [
      "0.01\n",
      "None\n"
     ]
    }
   ],
   "source": [
    "print(pembulatan(0.012999653801640209))"
   ]
  }
 ],
 "metadata": {
  "kernelspec": {
   "display_name": "Python 3.9.9 64-bit",
   "language": "python",
   "name": "python3"
  },
  "language_info": {
   "codemirror_mode": {
    "name": "ipython",
    "version": 3
   },
   "file_extension": ".py",
   "mimetype": "text/x-python",
   "name": "python",
   "nbconvert_exporter": "python",
   "pygments_lexer": "ipython3",
   "version": "3.9.9"
  },
  "orig_nbformat": 4,
  "vscode": {
   "interpreter": {
    "hash": "3816365fdcd687a07caedfe721e5894fb1dd0a24482efb967fc5a605423a1021"
   }
  }
 },
 "nbformat": 4,
 "nbformat_minor": 2
}
